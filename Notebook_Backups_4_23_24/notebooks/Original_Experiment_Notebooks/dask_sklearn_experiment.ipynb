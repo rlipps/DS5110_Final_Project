{
 "cells": [
  {
   "cell_type": "markdown",
   "id": "59eb5699-7769-483a-9dd5-448535ac6bf1",
   "metadata": {},
   "source": [
    "# Dask Implementation"
   ]
  },
  {
   "cell_type": "code",
   "execution_count": 29,
   "id": "5e43b710-17f6-40b9-9202-764ede611e5c",
   "metadata": {},
   "outputs": [],
   "source": [
    "import numpy as np\n",
    "import pandas as pd\n",
    "import time\n",
    "import dask\n",
    "import dask.dataframe as dd\n",
    "import matplotlib.pyplot as plt\n",
    "from dask.distributed import Client\n",
    "import joblib\n",
    "from sklearn.neighbors import KNeighborsRegressor\n",
    "from sklearn.model_selection import train_test_split\n",
    "from sklearn.cluster import KMeans\n",
    "from sklearn.ensemble import RandomForestRegressor\n",
    "from sklearn.metrics import mean_squared_error\n",
    "from sklearn.svm import LinearSVC\n",
    "\n",
    "SEED = 42"
   ]
  },
  {
   "cell_type": "code",
   "execution_count": 2,
   "id": "0e286cb2-9979-445d-a8ce-2082de004281",
   "metadata": {},
   "outputs": [
    {
     "name": "stdout",
     "output_type": "stream",
     "text": [
      "<Client: 'tcp://172.31.88.97:8786' processes=0 threads=0, memory=0 B>\n"
     ]
    }
   ],
   "source": [
    "client = Client('172.31.88.97:8786')\n",
    "client = client.restart()\n",
    "print(client)"
   ]
  },
  {
   "cell_type": "markdown",
   "id": "1082cc72-6688-4eeb-80e0-6a6f5fbbe60d",
   "metadata": {},
   "source": [
    "## Read data"
   ]
  },
  {
   "cell_type": "code",
   "execution_count": 3,
   "id": "2083b8a8-945f-4a5d-9064-eadaa3589c70",
   "metadata": {},
   "outputs": [],
   "source": [
    "# Split data into X and y\n",
    "X_reg_train = pd.read_csv('../data/X_reg_train.csv')\n",
    "X_reg_test = pd.read_csv('../data/X_reg_test.csv')\n",
    "\n",
    "X_class_train = pd.read_csv('../data/X_class_train.csv')\n",
    "X_class_test = pd.read_csv('../data/X_class_test.csv')\n",
    "\n",
    "y_reg_train = pd.read_csv('../data/y_reg_train.csv')\n",
    "y_reg_test = pd.read_csv('../data/y_reg_test.csv')\n",
    "\n",
    "y_class_train = pd.read_csv('../data/y_class_train.csv')\n",
    "y_class_test = pd.read_csv('../data/y_class_test.csv')"
   ]
  },
  {
   "cell_type": "code",
   "execution_count": 8,
   "id": "48aadd52-8f90-4719-b787-eb3b170697bd",
   "metadata": {},
   "outputs": [
    {
     "data": {
      "text/plain": [
       "(4000000, 5)"
      ]
     },
     "execution_count": 8,
     "metadata": {},
     "output_type": "execute_result"
    }
   ],
   "source": [
    "X_reg_test.shape"
   ]
  },
  {
   "cell_type": "markdown",
   "id": "ffe8ff7a-e305-4e57-a623-581f4390e263",
   "metadata": {},
   "source": [
    "## Dask Experiment Function"
   ]
  },
  {
   "cell_type": "code",
   "execution_count": 47,
   "id": "43803a18-3ab9-4db0-aed5-14229099469d",
   "metadata": {},
   "outputs": [],
   "source": [
    "def dask_time_algorithm(subset_prop, algorithm_name, SEED=SEED):\n",
    "    '''\n",
    "    algorithm_name one of 'KNN', 'RF', 'KMEANS'\n",
    "    '''\n",
    "    if (algorithm_name == \"KNN\" or algorithm_name == \"RF\"):\n",
    "        X_reg_train_subset = X_reg_train.head(int(len(X_reg_train) * subset_prop))\n",
    "        X_reg_test_subset = X_reg_test.head(int(len(X_reg_test) * subset_prop))\n",
    "        y_reg_train_subset = y_reg_train.head(int(len(y_reg_train) * subset_prop))\n",
    "        y_reg_test_subset = y_reg_test.head(int(len(y_reg_test) * subset_prop))\n",
    "\n",
    "        print(f'X_reg_train_subset shape {X_reg_train_subset.shape}')\n",
    "        print(f'X_reg_test_subset shape {X_reg_test_subset.shape}')\n",
    "        print(f'y_reg_train_subset shape {y_reg_train_subset.shape}')\n",
    "        print(f'y_reg_test_subset shape {y_reg_test_subset.shape}')\n",
    "       \n",
    "    elif (algorithm_name == \"KMEANS\"):\n",
    "        X_class_train_subset = X_class_train.head(int(len(X_class_train) * subset_prop))\n",
    "        X_class_test_subset = X_class_test.head(int(len(X_class_test) * subset_prop))\n",
    "        y_class_train_subset = y_class_train.head(int(len(y_class_train) * subset_prop))\n",
    "        y_class_test_subset = y_class_test.head(int(len(y_class_test) * subset_prop))\n",
    "       \n",
    "    start_time = time.time()\n",
    "       \n",
    "    if algorithm_name == \"KNN\":\n",
    "        with joblib.parallel_backend('dask'):\n",
    "            knn_model = KNeighborsRegressor(n_neighbors=5)\n",
    "            knn_model.fit(X_reg_train_subset, y_reg_train_subset)\n",
    "            metric = knn_model.score(X_reg_test_subset, y_reg_test_subset) # metric is KNN accuracy\n",
    "                       \n",
    "    elif algorithm_name == \"KMEANS\":\n",
    "        with joblib.parallel_backend('dask'):\n",
    "            kmeans_model = KMeans(n_clusters=2, random_state=SEED, n_init=\"auto\")\n",
    "            kmeans_model.fit(X_class_train_subset)\n",
    "            metric = None # No performance metric for KMEANS (unsupervised)\n",
    "           \n",
    "    elif algorithm_name == \"RF\":\n",
    "        with joblib.parallel_backend('dask'):\n",
    "            rf_model = RandomForestRegressor(max_depth=2, random_state=SEED)\n",
    "            rf_model.fit(X_reg_train_subset, y_reg_train_subset)\n",
    "            y_pred = rf_model.predict(X_reg_test_subset)\n",
    "            metric = mean_squared_error(y_reg_test_subset, y_pred) # metric is random forest MSE\n",
    "           \n",
    "    end_time = time.time()\n",
    "    time_delta = end_time - start_time\n",
    "    return time_delta, metric"
   ]
  },
  {
   "cell_type": "markdown",
   "id": "9cdc2d0e-cbb4-4a79-bc56-012d9d6cd7c7",
   "metadata": {},
   "source": [
    "## Set proportions to loop over"
   ]
  },
  {
   "cell_type": "code",
   "execution_count": null,
   "id": "67fad8c9-6f7e-48e3-948e-26c4ae09ad46",
   "metadata": {},
   "outputs": [],
   "source": [
    "props = [0.1, 0.2, 0.3, 0.4, 0.5, 0.6, 0.7, 0.8, 0.9, 1.0]"
   ]
  },
  {
   "cell_type": "markdown",
   "id": "0b00aafd-b0b1-4888-9b5b-d423a43d84ce",
   "metadata": {},
   "source": [
    "## KNN Test"
   ]
  },
  {
   "cell_type": "code",
   "execution_count": 16,
   "id": "cb3e7fc9-4744-4139-918c-c1af72588a2f",
   "metadata": {
    "scrolled": true
   },
   "outputs": [
    {
     "name": "stdout",
     "output_type": "stream",
     "text": [
      "0.1\n",
      "X_reg_train_subset shape (1600000, 5)\n",
      "X_reg_test_subset shape (400000, 5)\n",
      "y_reg_train_subset shape (1600000, 2)\n",
      "y_reg_test_subset shape (400000, 2)\n",
      "0.2\n",
      "X_reg_train_subset shape (3200000, 5)\n",
      "X_reg_test_subset shape (800000, 5)\n",
      "y_reg_train_subset shape (3200000, 2)\n",
      "y_reg_test_subset shape (800000, 2)\n",
      "0.3\n",
      "X_reg_train_subset shape (4800000, 5)\n",
      "X_reg_test_subset shape (1200000, 5)\n",
      "y_reg_train_subset shape (4800000, 2)\n",
      "y_reg_test_subset shape (1200000, 2)\n",
      "0.4\n",
      "X_reg_train_subset shape (6400000, 5)\n",
      "X_reg_test_subset shape (1600000, 5)\n",
      "y_reg_train_subset shape (6400000, 2)\n",
      "y_reg_test_subset shape (1600000, 2)\n",
      "0.5\n",
      "X_reg_train_subset shape (8000000, 5)\n",
      "X_reg_test_subset shape (2000000, 5)\n",
      "y_reg_train_subset shape (8000000, 2)\n",
      "y_reg_test_subset shape (2000000, 2)\n",
      "0.6\n",
      "X_reg_train_subset shape (9600000, 5)\n",
      "X_reg_test_subset shape (2400000, 5)\n",
      "y_reg_train_subset shape (9600000, 2)\n",
      "y_reg_test_subset shape (2400000, 2)\n",
      "0.7\n",
      "X_reg_train_subset shape (11200000, 5)\n",
      "X_reg_test_subset shape (2800000, 5)\n",
      "y_reg_train_subset shape (11200000, 2)\n",
      "y_reg_test_subset shape (2800000, 2)\n",
      "0.8\n",
      "X_reg_train_subset shape (12800000, 5)\n",
      "X_reg_test_subset shape (3200000, 5)\n",
      "y_reg_train_subset shape (12800000, 2)\n",
      "y_reg_test_subset shape (3200000, 2)\n",
      "0.9\n",
      "X_reg_train_subset shape (14400000, 5)\n",
      "X_reg_test_subset shape (3600000, 5)\n",
      "y_reg_train_subset shape (14400000, 2)\n",
      "y_reg_test_subset shape (3600000, 2)\n",
      "1.0\n",
      "X_reg_train_subset shape (16000000, 5)\n",
      "X_reg_test_subset shape (4000000, 5)\n",
      "y_reg_train_subset shape (16000000, 2)\n",
      "y_reg_test_subset shape (4000000, 2)\n",
      "[7.294049263000488, 15.398857593536377, 25.114567279815674, 35.88973593711853, 46.06753730773926, 54.99457502365112, 65.58195519447327, 77.2806191444397, 91.00372219085693, 100.75370645523071]\n",
      "[0.5708699750027315, 0.6333247225065233, 0.6779401122942705, 0.7127081236792117, 0.7391264838129228, 0.7608113174251901, 0.778178303797979, 0.793054963004852, 0.8058585834644625, 0.817180618260116]\n"
     ]
    }
   ],
   "source": [
    "knn_times = []\n",
    "knn_metrics = []\n",
    "\n",
    "for prop in props:\n",
    "    print(prop)\n",
    "    runtime, metric = dask_time_algorithm(prop, algorithm_name=\"KNN\")\n",
    "    knn_times.append(runtime)\n",
    "    knn_metrics.append(metric)\n",
    "   \n",
    "print(knn_times)\n",
    "print(knn_metrics)"
   ]
  },
  {
   "cell_type": "code",
   "execution_count": 28,
   "id": "beb1f6fa-4956-4f04-bc14-6e119bef57c3",
   "metadata": {},
   "outputs": [
    {
     "data": {
      "text/html": [
       "<div>\n",
       "<style scoped>\n",
       "    .dataframe tbody tr th:only-of-type {\n",
       "        vertical-align: middle;\n",
       "    }\n",
       "\n",
       "    .dataframe tbody tr th {\n",
       "        vertical-align: top;\n",
       "    }\n",
       "\n",
       "    .dataframe thead th {\n",
       "        text-align: right;\n",
       "    }\n",
       "</style>\n",
       "<table border=\"1\" class=\"dataframe\">\n",
       "  <thead>\n",
       "    <tr style=\"text-align: right;\">\n",
       "      <th></th>\n",
       "      <th>Time</th>\n",
       "      <th>Metric</th>\n",
       "    </tr>\n",
       "  </thead>\n",
       "  <tbody>\n",
       "    <tr>\n",
       "      <th>0.1</th>\n",
       "      <td>7.294049</td>\n",
       "      <td>0.570870</td>\n",
       "    </tr>\n",
       "    <tr>\n",
       "      <th>0.2</th>\n",
       "      <td>15.398858</td>\n",
       "      <td>0.633325</td>\n",
       "    </tr>\n",
       "    <tr>\n",
       "      <th>0.3</th>\n",
       "      <td>25.114567</td>\n",
       "      <td>0.677940</td>\n",
       "    </tr>\n",
       "    <tr>\n",
       "      <th>0.4</th>\n",
       "      <td>35.889736</td>\n",
       "      <td>0.712708</td>\n",
       "    </tr>\n",
       "    <tr>\n",
       "      <th>0.5</th>\n",
       "      <td>46.067537</td>\n",
       "      <td>0.739126</td>\n",
       "    </tr>\n",
       "  </tbody>\n",
       "</table>\n",
       "</div>"
      ],
      "text/plain": [
       "          Time    Metric\n",
       "0.1   7.294049  0.570870\n",
       "0.2  15.398858  0.633325\n",
       "0.3  25.114567  0.677940\n",
       "0.4  35.889736  0.712708\n",
       "0.5  46.067537  0.739126"
      ]
     },
     "execution_count": 28,
     "metadata": {},
     "output_type": "execute_result"
    }
   ],
   "source": [
    "knn_frame = pd.DataFrame(list(zip(knn_times, knn_metrics)), columns=['Time', 'Metric'], index=props)\n",
    "knn_frame.head()"
   ]
  },
  {
   "cell_type": "code",
   "execution_count": 35,
   "id": "4d7e20f3-7ba6-4814-a2a7-9e8529f47a58",
   "metadata": {},
   "outputs": [
    {
     "data": {
      "text/plain": [
       "Text(0, 0.5, 'Time (s)')"
      ]
     },
     "execution_count": 35,
     "metadata": {},
     "output_type": "execute_result"
    },
    {
     "data": {
      "image/png": "[encoded data removed]",
      "text/plain": [
       "<Figure size 640x480 with 1 Axes>"
      ]
     },
     "metadata": {},
     "output_type": "display_data"
    }
   ],
   "source": [
    "plt.scatter(x=knn_frame.index, y=knn_frame['Time'])\n",
    "plt.title('KNN Dask Run Times for Varying Input Sizes')\n",
    "plt.xlabel('Proportion of Input Size')\n",
    "plt.ylabel('Time (s)')"
   ]
  },
  {
   "cell_type": "code",
   "execution_count": 37,
   "id": "60eeb9f4-2cf4-4f64-bb95-17e02a29cb77",
   "metadata": {},
   "outputs": [],
   "source": [
    "knn_frame.to_csv('dask_knn_results.csv', index=True)"
   ]
  },
  {
   "cell_type": "markdown",
   "id": "d3459260-75e3-42ae-a8b7-a2410dc5df87",
   "metadata": {},
   "source": [
    "## KMeans Test"
   ]
  },
  {
   "cell_type": "code",
   "execution_count": 42,
   "id": "fd93e58b-0a1a-4562-97d3-760b52d6305f",
   "metadata": {},
   "outputs": [
    {
     "name": "stdout",
     "output_type": "stream",
     "text": [
      "0.1\n",
      "0.2\n",
      "0.3\n",
      "0.4\n",
      "0.5\n",
      "0.6\n",
      "0.7\n",
      "0.8\n",
      "0.9\n",
      "1.0\n",
      "[1.0086541175842285, 2.181875705718994, 3.315666913986206, 4.3873610496521, 3.910090923309326, 7.189364433288574, 6.380413770675659, 8.560649394989014, 9.469146013259888, 8.998127222061157]\n",
      "[None, None, None, None, None, None, None, None, None, None]\n"
     ]
    }
   ],
   "source": [
    "kmeans_times = []\n",
    "kmeans_metrics = []\n",
    "\n",
    "for prop in props:\n",
    "    print(prop)\n",
    "    runtime, metric = dask_time_algorithm(prop, algorithm_name=\"KMEANS\")\n",
    "    kmeans_times.append(runtime)\n",
    "    kmeans_metrics.append(metric)\n",
    "   \n",
    "print(kmeans_times)\n",
    "print(kmeans_metrics)"
   ]
  },
  {
   "cell_type": "code",
   "execution_count": 43,
   "id": "112550ac-5b9c-4004-a2b6-e292ecb78176",
   "metadata": {},
   "outputs": [
    {
     "data": {
      "text/html": [
       "<div>\n",
       "<style scoped>\n",
       "    .dataframe tbody tr th:only-of-type {\n",
       "        vertical-align: middle;\n",
       "    }\n",
       "\n",
       "    .dataframe tbody tr th {\n",
       "        vertical-align: top;\n",
       "    }\n",
       "\n",
       "    .dataframe thead th {\n",
       "        text-align: right;\n",
       "    }\n",
       "</style>\n",
       "<table border=\"1\" class=\"dataframe\">\n",
       "  <thead>\n",
       "    <tr style=\"text-align: right;\">\n",
       "      <th></th>\n",
       "      <th>Time</th>\n",
       "      <th>Metric</th>\n",
       "    </tr>\n",
       "  </thead>\n",
       "  <tbody>\n",
       "    <tr>\n",
       "      <th>0.1</th>\n",
       "      <td>1.008654</td>\n",
       "      <td>None</td>\n",
       "    </tr>\n",
       "    <tr>\n",
       "      <th>0.2</th>\n",
       "      <td>2.181876</td>\n",
       "      <td>None</td>\n",
       "    </tr>\n",
       "    <tr>\n",
       "      <th>0.3</th>\n",
       "      <td>3.315667</td>\n",
       "      <td>None</td>\n",
       "    </tr>\n",
       "    <tr>\n",
       "      <th>0.4</th>\n",
       "      <td>4.387361</td>\n",
       "      <td>None</td>\n",
       "    </tr>\n",
       "    <tr>\n",
       "      <th>0.5</th>\n",
       "      <td>3.910091</td>\n",
       "      <td>None</td>\n",
       "    </tr>\n",
       "  </tbody>\n",
       "</table>\n",
       "</div>"
      ],
      "text/plain": [
       "         Time Metric\n",
       "0.1  1.008654   None\n",
       "0.2  2.181876   None\n",
       "0.3  3.315667   None\n",
       "0.4  4.387361   None\n",
       "0.5  3.910091   None"
      ]
     },
     "execution_count": 43,
     "metadata": {},
     "output_type": "execute_result"
    }
   ],
   "source": [
    "kmeans_frame = pd.DataFrame(list(zip(kmeans_times, kmeans_metrics)), columns=['Time', 'Metric'], index=props)\n",
    "kmeans_frame.head()"
   ]
  },
  {
   "cell_type": "code",
   "execution_count": 44,
   "id": "40ccc926-9271-4b55-b54c-46dde1ce2252",
   "metadata": {},
   "outputs": [
    {
     "data": {
      "text/plain": [
       "Text(0, 0.5, 'Time (s)')"
      ]
     },
     "execution_count": 44,
     "metadata": {},
     "output_type": "execute_result"
    },
    {
     "data": {
      "image/png": "[encoded data removed]",
      "text/plain": [
       "<Figure size 640x480 with 1 Axes>"
      ]
     },
     "metadata": {},
     "output_type": "display_data"
    }
   ],
   "source": [
    "plt.scatter(x=kmeans_frame.index, y=kmeans_frame['Time'])\n",
    "plt.title('KMeans Dask Run Times for Varying Input Sizes')\n",
    "plt.xlabel('Proportion of Input Size')\n",
    "plt.ylabel('Time (s)')"
   ]
  },
  {
   "cell_type": "code",
   "execution_count": 45,
   "id": "6a103baa-b5b7-4b54-a339-0bec64aa2d4a",
   "metadata": {},
   "outputs": [],
   "source": [
    "kmeans_frame.to_csv('dask_kmeans_results.csv', index=True)"
   ]
  },
  {
   "cell_type": "markdown",
   "id": "13612862-5c6f-4b81-bf36-3579756c9977",
   "metadata": {},
   "source": [
    "## Random Forest Test"
   ]
  },
  {
   "cell_type": "code",
   "execution_count": 48,
   "id": "047690ab-0b4c-45d8-aeb6-3d4d15bcaa80",
   "metadata": {},
   "outputs": [
    {
     "name": "stdout",
     "output_type": "stream",
     "text": [
      "0.1\n",
      "X_reg_train_subset shape (1600000, 5)\n",
      "X_reg_test_subset shape (400000, 5)\n",
      "y_reg_train_subset shape (1600000, 2)\n",
      "y_reg_test_subset shape (400000, 2)\n",
      "0.2\n",
      "X_reg_train_subset shape (3200000, 5)\n",
      "X_reg_test_subset shape (800000, 5)\n",
      "y_reg_train_subset shape (3200000, 2)\n",
      "y_reg_test_subset shape (800000, 2)\n",
      "0.3\n",
      "X_reg_train_subset shape (4800000, 5)\n",
      "X_reg_test_subset shape (1200000, 5)\n",
      "y_reg_train_subset shape (4800000, 2)\n",
      "y_reg_test_subset shape (1200000, 2)\n",
      "0.4\n",
      "X_reg_train_subset shape (6400000, 5)\n",
      "X_reg_test_subset shape (1600000, 5)\n",
      "y_reg_train_subset shape (6400000, 2)\n",
      "y_reg_test_subset shape (1600000, 2)\n",
      "0.5\n",
      "X_reg_train_subset shape (8000000, 5)\n",
      "X_reg_test_subset shape (2000000, 5)\n",
      "y_reg_train_subset shape (8000000, 2)\n",
      "y_reg_test_subset shape (2000000, 2)\n",
      "0.6\n",
      "X_reg_train_subset shape (9600000, 5)\n",
      "X_reg_test_subset shape (2400000, 5)\n",
      "y_reg_train_subset shape (9600000, 2)\n",
      "y_reg_test_subset shape (2400000, 2)\n",
      "0.7\n",
      "X_reg_train_subset shape (11200000, 5)\n",
      "X_reg_test_subset shape (2800000, 5)\n",
      "y_reg_train_subset shape (11200000, 2)\n",
      "y_reg_test_subset shape (2800000, 2)\n",
      "0.8\n",
      "X_reg_train_subset shape (12800000, 5)\n",
      "X_reg_test_subset shape (3200000, 5)\n",
      "y_reg_train_subset shape (12800000, 2)\n",
      "y_reg_test_subset shape (3200000, 2)\n",
      "0.9\n",
      "X_reg_train_subset shape (14400000, 5)\n",
      "X_reg_test_subset shape (3600000, 5)\n",
      "y_reg_train_subset shape (14400000, 2)\n",
      "y_reg_test_subset shape (3600000, 2)\n",
      "1.0\n",
      "X_reg_train_subset shape (16000000, 5)\n",
      "X_reg_test_subset shape (4000000, 5)\n",
      "y_reg_train_subset shape (16000000, 2)\n",
      "y_reg_test_subset shape (4000000, 2)\n",
      "[43.0938606262207, 90.43091416358948, 133.86981773376465, 176.25868368148804, 217.59154081344604, 276.14129877090454, 321.25116086006165, 361.3081810474396, 401.25805616378784, 450.19110202789307]\n",
      "[4034832110262.4126, 4032500894489.0186, 4040528683424.5825, 4041523250159.5913, 4043357302696.759, 4043598414001.25, 4044437262239.3706, 4043390696219.36, 4044447384943.0205, 4045667126818.825]\n"
     ]
    }
   ],
   "source": [
    "rf_times = []\n",
    "rf_metrics = []\n",
    "\n",
    "for prop in props:\n",
    "    print(prop)\n",
    "    runtime, metric = dask_time_algorithm(prop, algorithm_name=\"RF\")\n",
    "    rf_times.append(runtime)\n",
    "    rf_metrics.append(metric)\n",
    "   \n",
    "print(rf_times)\n",
    "print(rf_metrics)"
   ]
  },
  {
   "cell_type": "code",
   "execution_count": 49,
   "id": "1d9cc54c-fe8c-42c1-8ddd-f769ca30f6d9",
   "metadata": {},
   "outputs": [
    {
     "data": {
      "text/html": [
       "<div>\n",
       "<style scoped>\n",
       "    .dataframe tbody tr th:only-of-type {\n",
       "        vertical-align: middle;\n",
       "    }\n",
       "\n",
       "    .dataframe tbody tr th {\n",
       "        vertical-align: top;\n",
       "    }\n",
       "\n",
       "    .dataframe thead th {\n",
       "        text-align: right;\n",
       "    }\n",
       "</style>\n",
       "<table border=\"1\" class=\"dataframe\">\n",
       "  <thead>\n",
       "    <tr style=\"text-align: right;\">\n",
       "      <th></th>\n",
       "      <th>Time</th>\n",
       "      <th>Metric</th>\n",
       "    </tr>\n",
       "  </thead>\n",
       "  <tbody>\n",
       "    <tr>\n",
       "      <th>0.1</th>\n",
       "      <td>43.093861</td>\n",
       "      <td>4.034832e+12</td>\n",
       "    </tr>\n",
       "    <tr>\n",
       "      <th>0.2</th>\n",
       "      <td>90.430914</td>\n",
       "      <td>4.032501e+12</td>\n",
       "    </tr>\n",
       "    <tr>\n",
       "      <th>0.3</th>\n",
       "      <td>133.869818</td>\n",
       "      <td>4.040529e+12</td>\n",
       "    </tr>\n",
       "    <tr>\n",
       "      <th>0.4</th>\n",
       "      <td>176.258684</td>\n",
       "      <td>4.041523e+12</td>\n",
       "    </tr>\n",
       "    <tr>\n",
       "      <th>0.5</th>\n",
       "      <td>217.591541</td>\n",
       "      <td>4.043357e+12</td>\n",
       "    </tr>\n",
       "  </tbody>\n",
       "</table>\n",
       "</div>"
      ],
      "text/plain": [
       "           Time        Metric\n",
       "0.1   43.093861  4.034832e+12\n",
       "0.2   90.430914  4.032501e+12\n",
       "0.3  133.869818  4.040529e+12\n",
       "0.4  176.258684  4.041523e+12\n",
       "0.5  217.591541  4.043357e+12"
      ]
     },
     "execution_count": 49,
     "metadata": {},
     "output_type": "execute_result"
    }
   ],
   "source": [
    "rf_frame = pd.DataFrame(list(zip(rf_times, rf_metrics)), columns=['Time', 'Metric'], index=props)\n",
    "rf_frame.head()"
   ]
  },
  {
   "cell_type": "code",
   "execution_count": 50,
   "id": "508dab75-f867-4c03-94c9-56efb71e83ba",
   "metadata": {},
   "outputs": [
    {
     "data": {
      "text/plain": [
       "Text(0, 0.5, 'Time (s)')"
      ]
     },
     "execution_count": 50,
     "metadata": {},
     "output_type": "execute_result"
    },
    {
     "data": {
      "image/png": "[encoded data removed]",
      "text/plain": [
       "<Figure size 640x480 with 1 Axes>"
      ]
     },
     "metadata": {},
     "output_type": "display_data"
    }
   ],
   "source": [
    "plt.scatter(x=rf_frame.index, y=rf_frame['Time'])\n",
    "plt.title('Random Forest Dask Run Times for Varying Input Sizes')\n",
    "plt.xlabel('Proportion of Input Size')\n",
    "plt.ylabel('Time (s)')"
   ]
  },
  {
   "cell_type": "code",
   "execution_count": 51,
   "id": "f106b5d3-d15a-405c-a939-7aaad0b0114a",
   "metadata": {},
   "outputs": [],
   "source": [
    "rf_frame.to_csv('dask_rf_results.csv', index=True)"
   ]
  }
 ],
 "metadata": {
  "kernelspec": {
   "display_name": "Python 3 (ipykernel)",
   "language": "python",
   "name": "python3"
  },
  "language_info": {
   "codemirror_mode": {
    "name": "ipython",
    "version": 3
   },
   "file_extension": ".py",
   "mimetype": "text/x-python",
   "name": "python",
   "nbconvert_exporter": "python",
   "pygments_lexer": "ipython3",
   "version": "3.10.12"
  }
 },
 "nbformat": 4,
 "nbformat_minor": 5
}
