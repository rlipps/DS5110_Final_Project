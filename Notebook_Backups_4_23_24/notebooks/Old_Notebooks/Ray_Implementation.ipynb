{
 "cells": [
  {
   "cell_type": "markdown",
   "id": "59eb5699-7769-483a-9dd5-448535ac6bf1",
   "metadata": {},
   "source": [
    "# Ray Implementation"
   ]
  },
  {
   "cell_type": "code",
   "execution_count": 1,
   "id": "5e43b710-17f6-40b9-9202-764ede611e5c",
   "metadata": {},
   "outputs": [],
   "source": [
    "import numpy as np\n",
    "import pandas as pd\n",
    "import joblib\n",
    "import ray\n",
    "from ray.util.joblib import register_ray\n",
    "from sklearn.neighbors import KNeighborsRegressor\n",
    "from sklearn.model_selection import train_test_split\n",
    "from sklearn.cluster import KMeans\n",
    "from sklearn.ensemble import RandomForestRegressor\n",
    "from sklearn.metrics import mean_squared_error\n",
    "from sklearn.svm import LinearSVC\n",
    "\n",
    "SEED = 42"
   ]
  },
  {
   "cell_type": "code",
   "execution_count": 2,
   "id": "0e286cb2-9979-445d-a8ce-2082de004281",
   "metadata": {},
   "outputs": [],
   "source": [
    "register_ray()"
   ]
  },
  {
   "cell_type": "markdown",
   "id": "1082cc72-6688-4eeb-80e0-6a6f5fbbe60d",
   "metadata": {},
   "source": [
    "## Read data"
   ]
  },
  {
   "cell_type": "code",
   "execution_count": 3,
   "id": "dd5119c8-4a09-440d-b363-5e2a25da73d1",
   "metadata": {},
   "outputs": [
    {
     "name": "stderr",
     "output_type": "stream",
     "text": [
      "2024-04-14 20:09:38,295\tINFO worker.py:1567 -- Connecting to existing Ray cluster at address: 172.31.88.97:6379...\n",
      "2024-04-14 20:09:38,306\tINFO worker.py:1743 -- Connected to Ray cluster. View the dashboard at \u001b[1m\u001b[32m127.0.0.1:8265 \u001b[39m\u001b[22m\n"
     ]
    }
   ],
   "source": [
    "full_data = ray.data.read_csv('/home/ubuntu/data/cleaned_data.csv')"
   ]
  },
  {
   "cell_type": "code",
   "execution_count": 7,
   "id": "83e5e989-5864-4a9f-9660-debfa6250543",
   "metadata": {},
   "outputs": [
    {
     "name": "stdout",
     "output_type": "stream",
     "text": [
      "39435236\n"
     ]
    }
   ],
   "source": [
    "print(len(full_data.index))"
   ]
  },
  {
   "cell_type": "code",
   "execution_count": 7,
   "id": "a1059458-9670-46c5-bb0b-cfec93d44f3a",
   "metadata": {},
   "outputs": [
    {
     "ename": "AttributeError",
     "evalue": "'Dataset' object has no attribute 'head'",
     "output_type": "error",
     "traceback": [
      "\u001b[0;31m---------------------------------------------------------------------------\u001b[0m",
      "\u001b[0;31mAttributeError\u001b[0m                            Traceback (most recent call last)",
      "Cell \u001b[0;32mIn[7], line 1\u001b[0m\n\u001b[0;32m----> 1\u001b[0m \u001b[43mfull_data\u001b[49m\u001b[38;5;241;43m.\u001b[39;49m\u001b[43mhead\u001b[49m(\u001b[38;5;241m5\u001b[39m)\n",
      "\u001b[0;31mAttributeError\u001b[0m: 'Dataset' object has no attribute 'head'"
     ]
    }
   ],
   "source": [
    "full_data.head(5)"
   ]
  },
  {
   "cell_type": "markdown",
   "id": "63ff76c6-5f88-4ffd-81cb-da16c4857ab2",
   "metadata": {},
   "source": [
    "### Create different sized dataframes to test speed and size scaling"
   ]
  },
  {
   "cell_type": "code",
   "execution_count": 4,
   "id": "a56552c1-e86c-41a8-9186-e29fb38fec27",
   "metadata": {},
   "outputs": [],
   "source": [
    "# Ray subset\n",
    "small_data = full_data.random_sample(fraction=0.1, seed=SEED)"
   ]
  },
  {
   "cell_type": "markdown",
   "id": "88150233-4d79-4d30-b635-504a25b9f12d",
   "metadata": {},
   "source": [
    "### Split into train and test DO WE NEED SEEDING HERE FOR REPLICATION ACROSS NOTEBOOKS?"
   ]
  },
  {
   "cell_type": "code",
   "execution_count": 7,
   "id": "2083b8a8-945f-4a5d-9064-eadaa3589c70",
   "metadata": {},
   "outputs": [
    {
     "name": "stderr",
     "output_type": "stream",
     "text": [
      "2024-04-14 20:10:47,774\tINFO streaming_executor.py:115 -- Starting execution of Dataset. Full log is in /tmp/ray/session_2024-04-14_20-07-44_864706_1465/logs/ray-data.log\n",
      "2024-04-14 20:10:47,775\tINFO streaming_executor.py:116 -- Execution plan of Dataset: InputDataBuffer[Input] -> TaskPoolMapOperator[ReadCSV] -> TaskPoolMapOperator[MapBatches(process_batch)->MapBatches(fn)]\n",
      "\n"
     ]
    },
    {
     "data": {
      "application/vnd.jupyter.widget-view+json": {
       "model_id": "",
       "version_major": 2,
       "version_minor": 0
      },
      "text/plain": [
       "- ReadCSV->SplitBlocks(11) 1:   0%|                                                                           …"
      ]
     },
     "metadata": {},
     "output_type": "display_data"
    },
    {
     "data": {
      "application/vnd.jupyter.widget-view+json": {
       "model_id": "",
       "version_major": 2,
       "version_minor": 0
      },
      "text/plain": [
       "- MapBatches(process_batch)->MapBatches(fn) 2:   0%|                                                          …"
      ]
     },
     "metadata": {},
     "output_type": "display_data"
    },
    {
     "data": {
      "application/vnd.jupyter.widget-view+json": {
       "model_id": "8ebc6e450d4b4e73b42dc3a91709e21b",
       "version_major": 2,
       "version_minor": 0
      },
      "text/plain": [
       "Running 0:   0%|                                                                                              …"
      ]
     },
     "metadata": {},
     "output_type": "display_data"
    },
    {
     "name": "stderr",
     "output_type": "stream",
     "text": [
      "2024-04-14 20:11:27,894\tWARNING plan.py:549 -- Warning: The Ray cluster currently does not have any available CPUs. The Dataset job will hang unless more CPUs are freed up. A common reason is that cluster resources are used by Actors or Tune trials; see the following link for more details: https://docs.ray.io/en/latest/data/data-internals.html#ray-data-and-tune\n",
      "2024-04-14 20:11:27,912\tINFO streaming_executor.py:115 -- Starting execution of Dataset. Full log is in /tmp/ray/session_2024-04-14_20-07-44_864706_1465/logs/ray-data.log\n",
      "2024-04-14 20:11:27,915\tINFO streaming_executor.py:116 -- Execution plan of Dataset: InputDataBuffer[Input] -> TaskPoolMapOperator[ReadCSV] -> TaskPoolMapOperator[MapBatches(process_batch)->MapBatches(fn)]\n",
      "\n"
     ]
    },
    {
     "data": {
      "application/vnd.jupyter.widget-view+json": {
       "model_id": "",
       "version_major": 2,
       "version_minor": 0
      },
      "text/plain": [
       "- ReadCSV->SplitBlocks(11) 1:   0%|                                                                           …"
      ]
     },
     "metadata": {},
     "output_type": "display_data"
    },
    {
     "data": {
      "application/vnd.jupyter.widget-view+json": {
       "model_id": "",
       "version_major": 2,
       "version_minor": 0
      },
      "text/plain": [
       "- MapBatches(process_batch)->MapBatches(fn) 2:   0%|                                                          …"
      ]
     },
     "metadata": {},
     "output_type": "display_data"
    },
    {
     "data": {
      "application/vnd.jupyter.widget-view+json": {
       "model_id": "",
       "version_major": 2,
       "version_minor": 0
      },
      "text/plain": [
       "Running 0:   0%|                                                                                              …"
      ]
     },
     "metadata": {},
     "output_type": "display_data"
    },
    {
     "name": "stderr",
     "output_type": "stream",
     "text": [
      "2024-04-14 20:12:06,318\tINFO streaming_executor.py:115 -- Starting execution of Dataset. Full log is in /tmp/ray/session_2024-04-14_20-07-44_864706_1465/logs/ray-data.log\n",
      "2024-04-14 20:12:06,321\tINFO streaming_executor.py:116 -- Execution plan of Dataset: InputDataBuffer[Input] -> TaskPoolMapOperator[ReadCSV] -> TaskPoolMapOperator[MapBatches(process_batch)->MapBatches(fn)]\n",
      "\n"
     ]
    },
    {
     "data": {
      "application/vnd.jupyter.widget-view+json": {
       "model_id": "",
       "version_major": 2,
       "version_minor": 0
      },
      "text/plain": [
       "- ReadCSV->SplitBlocks(11) 1:   0%|                                                                           …"
      ]
     },
     "metadata": {},
     "output_type": "display_data"
    },
    {
     "data": {
      "application/vnd.jupyter.widget-view+json": {
       "model_id": "",
       "version_major": 2,
       "version_minor": 0
      },
      "text/plain": [
       "- MapBatches(process_batch)->MapBatches(fn) 2:   0%|                                                          …"
      ]
     },
     "metadata": {},
     "output_type": "display_data"
    },
    {
     "data": {
      "application/vnd.jupyter.widget-view+json": {
       "model_id": "",
       "version_major": 2,
       "version_minor": 0
      },
      "text/plain": [
       "Running 0:   0%|                                                                                              …"
      ]
     },
     "metadata": {},
     "output_type": "display_data"
    },
    {
     "name": "stderr",
     "output_type": "stream",
     "text": [
      "2024-04-14 20:12:49,798\tINFO streaming_executor.py:115 -- Starting execution of Dataset. Full log is in /tmp/ray/session_2024-04-14_20-07-44_864706_1465/logs/ray-data.log\n",
      "2024-04-14 20:12:49,799\tINFO streaming_executor.py:116 -- Execution plan of Dataset: InputDataBuffer[Input] -> TaskPoolMapOperator[ReadCSV] -> TaskPoolMapOperator[MapBatches(process_batch)->MapBatches(fn)]\n",
      "\n"
     ]
    },
    {
     "data": {
      "application/vnd.jupyter.widget-view+json": {
       "model_id": "",
       "version_major": 2,
       "version_minor": 0
      },
      "text/plain": [
       "- ReadCSV->SplitBlocks(11) 1:   0%|                                                                           …"
      ]
     },
     "metadata": {},
     "output_type": "display_data"
    },
    {
     "data": {
      "application/vnd.jupyter.widget-view+json": {
       "model_id": "",
       "version_major": 2,
       "version_minor": 0
      },
      "text/plain": [
       "- MapBatches(process_batch)->MapBatches(fn) 2:   0%|                                                          …"
      ]
     },
     "metadata": {},
     "output_type": "display_data"
    },
    {
     "data": {
      "application/vnd.jupyter.widget-view+json": {
       "model_id": "",
       "version_major": 2,
       "version_minor": 0
      },
      "text/plain": [
       "Running 0:   0%|                                                                                              …"
      ]
     },
     "metadata": {},
     "output_type": "display_data"
    }
   ],
   "source": [
    "# Ray split\n",
    "# Split data into X and y\n",
    "X_reg = small_data.select_columns(['dateDelta', 'seatsRemaining', 'totalTravelDistance',\n",
    "                  'durationSeconds']).to_numpy_refs()\n",
    "\n",
    "y_reg = small_data.select_columns(['baseFare']).to_numpy_refs()\n",
    "\n",
    "X_class = small_data.select_columns(['dateDelta', 'seatsRemaining', 'totalTravelDistance',\n",
    "                  'durationSeconds', 'baseFare']).to_numpy_refs()\n",
    "\n",
    "y_class = small_data.select_columns(['destinationAirport']).to_numpy_refs()\n",
    "\n",
    "X_train_reg, X_test_reg, y_train_reg, y_test_reg = train_test_split(X_reg, y_reg, test_size=0.2, random_state=5110)\n",
    "X_train_class, X_test_class, y_train_class, y_test_class = train_test_split(X_class, y_class, test_size=0.2, random_state=5110)"
   ]
  },
  {
   "cell_type": "markdown",
   "id": "c2543c68-d5fc-4919-94d2-6539b898d94c",
   "metadata": {},
   "source": [
    "## KNN Model"
   ]
  },
  {
   "cell_type": "markdown",
   "id": "ec6a99dd-0782-44c0-9301-dd8f22c2d659",
   "metadata": {},
   "source": [
    "### Timing Code"
   ]
  },
  {
   "cell_type": "code",
   "execution_count": 18,
   "id": "a43d0c30-fab3-4215-8a69-8d7421510938",
   "metadata": {},
   "outputs": [
    {
     "ename": "ValueError",
     "evalue": "Expected 2D array, got 1D array instead:\narray=[ObjectRef(4734df6ace9f4391ffffffffffffffffffffffff0300000001000000)\n ObjectRef(8c05139bcc2b364fffffffffffffffffffffffff0300000001000000)\n ObjectRef(76aa34f5b5bbb7f2ffffffffffffffffffffffff0300000001000000)\n ObjectRef(c8949d20ce9684ffffffffffffffffffffffffff0300000001000000)\n ObjectRef(bd65b3675ddfb966ffffffffffffffffffffffff0300000001000000)\n ObjectRef(5db0db9e5c879fd1ffffffffffffffffffffffff0300000001000000)\n ObjectRef(ea1c0888f0f4f839ffffffffffffffffffffffff0300000001000000)\n ObjectRef(8f766538ab157fbbffffffffffffffffffffffff0300000001000000)\n ObjectRef(01acd62c4eafb4feffffffffffffffffffffffff0300000001000000)\n ObjectRef(b59b34b03f035cacffffffffffffffffffffffff0300000001000000)\n ObjectRef(99bdd76032791cd9ffffffffffffffffffffffff0300000001000000)\n ObjectRef(8ba5a622db55dbd9ffffffffffffffffffffffff0300000001000000)\n ObjectRef(f08ab829d2e27be5ffffffffffffffffffffffff0300000001000000)\n ObjectRef(6a29db808a9d5a64ffffffffffffffffffffffff0300000001000000)\n ObjectRef(0c518fa2c167b9d7ffffffffffffffffffffffff0300000001000000)\n ObjectRef(35cc4b903f58b278ffffffffffffffffffffffff0300000001000000)\n ObjectRef(853cc8b2962d941cffffffffffffffffffffffff0300000001000000)\n ObjectRef(a76fa161e12d3155ffffffffffffffffffffffff0300000001000000)\n ObjectRef(87019a15c9f26096ffffffffffffffffffffffff0300000001000000)\n ObjectRef(477cd37ede6a9eedffffffffffffffffffffffff0300000001000000)\n ObjectRef(7b286a987df915a4ffffffffffffffffffffffff0300000001000000)\n ObjectRef(ca3ca5f74d832ea3ffffffffffffffffffffffff0300000001000000)\n ObjectRef(969b08e6105f3781ffffffffffffffffffffffff0300000001000000)\n ObjectRef(c67eee51c347b041ffffffffffffffffffffffff0300000001000000)\n ObjectRef(876445d3b3e2194fffffffffffffffffffffffff0300000001000000)\n ObjectRef(175318be81283d30ffffffffffffffffffffffff0300000001000000)\n ObjectRef(04720d57c5bba13bffffffffffffffffffffffff0300000001000000)\n ObjectRef(8053426c76ab38adffffffffffffffffffffffff0300000001000000)\n ObjectRef(c5dd3b0555eabcb4ffffffffffffffffffffffff0300000001000000)\n ObjectRef(fbba66434670efdaffffffffffffffffffffffff0300000001000000)\n ObjectRef(7de4eaf6bae409b1ffffffffffffffffffffffff0300000001000000)\n ObjectRef(cf2e686e5eece891ffffffffffffffffffffffff0300000001000000)\n ObjectRef(13f4cb9a7a1dac95ffffffffffffffffffffffff0300000001000000)\n ObjectRef(59b7e0213cd0c7d4ffffffffffffffffffffffff0300000001000000)\n ObjectRef(a7600a0d5834a75fffffffffffffffffffffffff0300000001000000)\n ObjectRef(78287bbc3065ef47ffffffffffffffffffffffff0300000001000000)\n ObjectRef(6220b4cab780dc2bffffffffffffffffffffffff0300000001000000)\n ObjectRef(612d0fbdf1e46680ffffffffffffffffffffffff0300000001000000)\n ObjectRef(a4c3e9e034b7d226ffffffffffffffffffffffff0300000001000000)\n ObjectRef(42ce389bf7b2e84dffffffffffffffffffffffff0300000001000000)\n ObjectRef(9b7d907cdf9628deffffffffffffffffffffffff0300000001000000)\n ObjectRef(b7665800f70da52cffffffffffffffffffffffff0300000001000000)\n ObjectRef(a5dd53fb6b6859b0ffffffffffffffffffffffff0300000001000000)\n ObjectRef(62702c2d300b05f3ffffffffffffffffffffffff0300000001000000)\n ObjectRef(c149fead3afd6354ffffffffffffffffffffffff0300000001000000)\n ObjectRef(d8488eaa3d3b5869ffffffffffffffffffffffff0300000001000000)\n ObjectRef(496d46dfb412ff9fffffffffffffffffffffffff0300000001000000)\n ObjectRef(145226f5be54192bffffffffffffffffffffffff0300000001000000)\n ObjectRef(4ef1b6ee93e9ceffffffffffffffffffffffffff0300000001000000)\n ObjectRef(23623625983d4affffffffffffffffffffffffff0300000001000000)\n ObjectRef(3625f7c7276ea3f3ffffffffffffffffffffffff0300000001000000)\n ObjectRef(d541cc1981332895ffffffffffffffffffffffff0300000001000000)\n ObjectRef(2adb93baccaca4e1ffffffffffffffffffffffff0300000001000000)\n ObjectRef(ca861c614b471b32ffffffffffffffffffffffff0300000001000000)\n ObjectRef(3a56ae417a11b0b6ffffffffffffffffffffffff0300000001000000)\n ObjectRef(fc4cca6422feb159ffffffffffffffffffffffff0300000001000000)\n ObjectRef(14016073861d6a58ffffffffffffffffffffffff0300000001000000)\n ObjectRef(1bc44fad9f226f2affffffffffffffffffffffff0300000001000000)\n ObjectRef(3a00655fc9b60bc8ffffffffffffffffffffffff0300000001000000)\n ObjectRef(b37871a00974650affffffffffffffffffffffff0300000001000000)\n ObjectRef(f26b2b4ac9d1f4dcffffffffffffffffffffffff0300000001000000)\n ObjectRef(5c73e799ea14a147ffffffffffffffffffffffff0300000001000000)\n ObjectRef(ac6e654419411030ffffffffffffffffffffffff0300000001000000)\n ObjectRef(3dced7fb518a1308ffffffffffffffffffffffff0300000001000000)\n ObjectRef(6dcc8654639e919bffffffffffffffffffffffff0300000001000000)\n ObjectRef(47b6f8077da5f52affffffffffffffffffffffff0300000001000000)\n ObjectRef(cfe523b6c978813fffffffffffffffffffffffff0300000001000000)\n ObjectRef(a011b7fd4c1a84e5ffffffffffffffffffffffff0300000001000000)\n ObjectRef(9b4f30556aa97afdffffffffffffffffffffffff0300000001000000)\n ObjectRef(b67ff8e24874103affffffffffffffffffffffff0300000001000000)\n ObjectRef(86a8aa2ea107c334ffffffffffffffffffffffff0300000001000000)\n ObjectRef(51edee597348f8b6ffffffffffffffffffffffff0300000001000000)\n ObjectRef(d13f5187417ad4a0ffffffffffffffffffffffff0300000001000000)\n ObjectRef(61c21550e1e5efceffffffffffffffffffffffff0300000001000000)\n ObjectRef(b9d27c8d2d4a6a24ffffffffffffffffffffffff0300000001000000)\n ObjectRef(2408db2c9f57962fffffffffffffffffffffffff0300000001000000)\n ObjectRef(cf7ea3a659d1e61affffffffffffffffffffffff0300000001000000)\n ObjectRef(8d4c83e0dcea9d8effffffffffffffffffffffff0300000001000000)\n ObjectRef(4dee7d02e312faf4ffffffffffffffffffffffff0300000001000000)\n ObjectRef(65ab5a7b1370ddbeffffffffffffffffffffffff0300000001000000)\n ObjectRef(bd08c59e3554c9e4ffffffffffffffffffffffff0300000001000000)\n ObjectRef(019d80525101812bffffffffffffffffffffffff0300000001000000)\n ObjectRef(991fbbc22f743930ffffffffffffffffffffffff0300000001000000)\n ObjectRef(0c2c58f3b352cc84ffffffffffffffffffffffff0300000001000000)\n ObjectRef(f7157c3fb3a5772effffffffffffffffffffffff0300000001000000)\n ObjectRef(eba654dc0ab900e7ffffffffffffffffffffffff0300000001000000)\n ObjectRef(6db20c3e98514cebffffffffffffffffffffffff0300000001000000)\n ObjectRef(0bf6d15968922782ffffffffffffffffffffffff0300000001000000)\n ObjectRef(d193fe9a5d1e5476ffffffffffffffffffffffff0300000001000000)\n ObjectRef(f3758f9148a9b281ffffffffffffffffffffffff0300000001000000)\n ObjectRef(17f4a26def9f4ca9ffffffffffffffffffffffff0300000001000000)\n ObjectRef(f7eb4c7122b07c57ffffffffffffffffffffffff0300000001000000)\n ObjectRef(495d9c4232648e83ffffffffffffffffffffffff0300000001000000)\n ObjectRef(9e7843a2fc22b273ffffffffffffffffffffffff0300000001000000)\n ObjectRef(68eca8ae006576ecffffffffffffffffffffffff0300000001000000)\n ObjectRef(ba04da95f298f75cffffffffffffffffffffffff0300000001000000)\n ObjectRef(f75775d46f744020ffffffffffffffffffffffff0300000001000000)\n ObjectRef(17dc062608e6cd6effffffffffffffffffffffff0300000001000000)\n ObjectRef(da98fce20b029669ffffffffffffffffffffffff0300000001000000)\n ObjectRef(75e311a406f58876ffffffffffffffffffffffff0300000001000000)\n ObjectRef(77295550d8a415c6ffffffffffffffffffffffff0300000001000000)\n ObjectRef(3ab7773e8a5cd8d0ffffffffffffffffffffffff0300000001000000)\n ObjectRef(5743b3b0625fc17effffffffffffffffffffffff0300000001000000)\n ObjectRef(311dbdf8406f293dffffffffffffffffffffffff0300000001000000)\n ObjectRef(e30731238c08d27dffffffffffffffffffffffff0300000001000000)\n ObjectRef(bebfb292ff53481dffffffffffffffffffffffff0300000001000000)\n ObjectRef(99229f722640e5adffffffffffffffffffffffff0300000001000000)\n ObjectRef(a53a5e695a1cc1e5ffffffffffffffffffffffff0300000001000000)\n ObjectRef(26671f835f5bb511ffffffffffffffffffffffff0300000001000000)\n ObjectRef(4f3c711672ca86b7ffffffffffffffffffffffff0300000001000000)\n ObjectRef(2d4951181027ccb0ffffffffffffffffffffffff0300000001000000)\n ObjectRef(6db59fb6285940abffffffffffffffffffffffff0300000001000000)\n ObjectRef(bd5da0d243a2de71ffffffffffffffffffffffff0300000001000000)\n ObjectRef(f65d823652b68ed1ffffffffffffffffffffffff0300000001000000)\n ObjectRef(1e7b110cae3d9c7cffffffffffffffffffffffff0300000001000000)\n ObjectRef(3792a03a0ad3c011ffffffffffffffffffffffff0300000001000000)\n ObjectRef(a921093209d47bd0ffffffffffffffffffffffff0300000001000000)\n ObjectRef(d001bb150a05c059ffffffffffffffffffffffff0300000001000000)\n ObjectRef(b358906d2014c47fffffffffffffffffffffffff0300000001000000)\n ObjectRef(2e92a674338ae897ffffffffffffffffffffffff0300000001000000)\n ObjectRef(4fa197da58f25277ffffffffffffffffffffffff0300000001000000)\n ObjectRef(43b3826efdfb7685ffffffffffffffffffffffff0300000001000000)\n ObjectRef(5315b02b16099282ffffffffffffffffffffffff0300000001000000)\n ObjectRef(9e2878b09c4061d0ffffffffffffffffffffffff0300000001000000)\n ObjectRef(ab48968b79035b12ffffffffffffffffffffffff0300000001000000)\n ObjectRef(54f518b6ce9b19cdffffffffffffffffffffffff0300000001000000)\n ObjectRef(fb190b9229c0d41affffffffffffffffffffffff0300000001000000)\n ObjectRef(4fd8a988391822cfffffffffffffffffffffffff0300000001000000)\n ObjectRef(2c31af5b0c2ffdeaffffffffffffffffffffffff0300000001000000)\n ObjectRef(18749ad48ef6860cffffffffffffffffffffffff0300000001000000)\n ObjectRef(7abcc6d080075791ffffffffffffffffffffffff0300000001000000)\n ObjectRef(76a642978dfa506affffffffffffffffffffffff0300000001000000)\n ObjectRef(aa6f2bc2572082ccffffffffffffffffffffffff0300000001000000)\n ObjectRef(a6e6f4c8de000fb9ffffffffffffffffffffffff0300000001000000)\n ObjectRef(eadca3fdd750bcb6ffffffffffffffffffffffff0300000001000000)\n ObjectRef(c5e9024ce7a169d4ffffffffffffffffffffffff0300000001000000)\n ObjectRef(0a8a55dd05d0e42effffffffffffffffffffffff0300000001000000)\n ObjectRef(7e10c9a22ad093f6ffffffffffffffffffffffff0300000001000000)\n ObjectRef(a1e86f32a9c42d3affffffffffffffffffffffff0300000001000000)\n ObjectRef(952e0f2f004d42b2ffffffffffffffffffffffff0300000001000000)\n ObjectRef(d9d7c52f79ee2990ffffffffffffffffffffffff0300000001000000)\n ObjectRef(6fce3d187fe3e008ffffffffffffffffffffffff0300000001000000)\n ObjectRef(32d46b1ee7697c0bffffffffffffffffffffffff0300000001000000)\n ObjectRef(350199d21635a649ffffffffffffffffffffffff0300000001000000)\n ObjectRef(5bf1e8e9afc00a93ffffffffffffffffffffffff0300000001000000)\n ObjectRef(381c9d32dc1b601bffffffffffffffffffffffff0300000001000000)\n ObjectRef(e014f98d69f9c6dcffffffffffffffffffffffff0300000001000000)\n ObjectRef(97ae9a7989379797ffffffffffffffffffffffff0300000001000000)\n ObjectRef(a457342dc44231f3ffffffffffffffffffffffff0300000001000000)\n ObjectRef(db7066b2f85bcd5affffffffffffffffffffffff0300000001000000)\n ObjectRef(97f3574e6e898c4bffffffffffffffffffffffff0300000001000000)\n ObjectRef(7122cba5615c347fffffffffffffffffffffffff0300000001000000)\n ObjectRef(3201fde50e9e7accffffffffffffffffffffffff0300000001000000)\n ObjectRef(f0ba082c870db895ffffffffffffffffffffffff0300000001000000)\n ObjectRef(13d0d47438e525fdffffffffffffffffffffffff0300000001000000)\n ObjectRef(9a5c770fc10a1f41ffffffffffffffffffffffff0300000001000000)\n ObjectRef(abebcabb38f94446ffffffffffffffffffffffff0300000001000000)\n ObjectRef(f27ec65019c72379ffffffffffffffffffffffff0300000001000000)\n ObjectRef(d4c369b4006d74f8ffffffffffffffffffffffff0300000001000000)\n ObjectRef(a80d736d4124ced6ffffffffffffffffffffffff0300000001000000)\n ObjectRef(b82c5c993ec9b6a6ffffffffffffffffffffffff0300000001000000)\n ObjectRef(413d558f8dc6cb14ffffffffffffffffffffffff0300000001000000)\n ObjectRef(d7c9b57c79c64334ffffffffffffffffffffffff0300000001000000)\n ObjectRef(6095ff6ac050921bffffffffffffffffffffffff0300000001000000)\n ObjectRef(fcaf1a142343cbb2ffffffffffffffffffffffff0300000001000000)\n ObjectRef(1447c4849d2a5d4affffffffffffffffffffffff0300000001000000)\n ObjectRef(b4982326909cbca8ffffffffffffffffffffffff0300000001000000)\n ObjectRef(5545c27b5f426dcfffffffffffffffffffffffff0300000001000000)\n ObjectRef(1ede1622aa007baeffffffffffffffffffffffff0300000001000000)\n ObjectRef(f5f14dd114b5e0d8ffffffffffffffffffffffff0300000001000000)\n ObjectRef(3163d3ae2a82f0f6ffffffffffffffffffffffff0300000001000000)\n ObjectRef(af3be8a69377c9c0ffffffffffffffffffffffff0300000001000000)\n ObjectRef(23f73aa0d634cac5ffffffffffffffffffffffff0300000001000000)\n ObjectRef(34cceb29cb51685cffffffffffffffffffffffff0300000001000000)\n ObjectRef(2e02848a36815c54ffffffffffffffffffffffff0300000001000000)\n ObjectRef(b294beb658540f4dffffffffffffffffffffffff0300000001000000)\n ObjectRef(9b62764c5c197fc1ffffffffffffffffffffffff0300000001000000)\n ObjectRef(93d6e467d878fb46ffffffffffffffffffffffff0300000001000000)\n ObjectRef(aa79ab1f99d4406bffffffffffffffffffffffff0300000001000000)\n ObjectRef(c436aac45ebff282ffffffffffffffffffffffff0300000001000000)\n ObjectRef(7b0e4beef86194f2ffffffffffffffffffffffff0300000001000000)\n ObjectRef(0dcd288a2ddcb1e3ffffffffffffffffffffffff0300000001000000)\n ObjectRef(6b2be664c27ae96cffffffffffffffffffffffff0300000001000000)\n ObjectRef(b59ff41187b00368ffffffffffffffffffffffff0300000001000000)\n ObjectRef(91aadb33d15efbb7ffffffffffffffffffffffff0300000001000000)\n ObjectRef(7a1468bd5a6a1bb8ffffffffffffffffffffffff0300000001000000)\n ObjectRef(dab5c9ee3f6116daffffffffffffffffffffffff0300000001000000)\n ObjectRef(03d298cc95ce7b7effffffffffffffffffffffff0300000001000000)\n ObjectRef(cec867412033c21cffffffffffffffffffffffff0300000001000000)\n ObjectRef(38002276651786dfffffffffffffffffffffffff0300000001000000)\n ObjectRef(4f407ce69aba8b33ffffffffffffffffffffffff0300000001000000)\n ObjectRef(f1f684a908232704ffffffffffffffffffffffff0300000001000000)\n ObjectRef(36af851a450dee3fffffffffffffffffffffffff0300000001000000)\n ObjectRef(3da261f664288247ffffffffffffffffffffffff0300000001000000)\n ObjectRef(b293ef2e2d743260ffffffffffffffffffffffff0300000001000000)\n ObjectRef(20b7fa8d63b23329ffffffffffffffffffffffff0300000001000000)\n ObjectRef(dadafa349e847095ffffffffffffffffffffffff0300000001000000)\n ObjectRef(0d91f6150b1eefe8ffffffffffffffffffffffff0300000001000000)\n ObjectRef(6ef4fe6bbbf814d9ffffffffffffffffffffffff0300000001000000)\n ObjectRef(d9a65ddb0fba82c7ffffffffffffffffffffffff0300000001000000)\n ObjectRef(42a71cdfbd68d113ffffffffffffffffffffffff0300000001000000)\n ObjectRef(c57f321a462afd72ffffffffffffffffffffffff0300000001000000)\n ObjectRef(c2c0f45a7e6cd35cffffffffffffffffffffffff0300000001000000)\n ObjectRef(e68cf0e4ac72c813ffffffffffffffffffffffff0300000001000000)\n ObjectRef(35d31298587cde34ffffffffffffffffffffffff0300000001000000)\n ObjectRef(5a8e6cf3e1921f4effffffffffffffffffffffff0300000001000000)\n ObjectRef(5fd708b297926365ffffffffffffffffffffffff0300000001000000)\n ObjectRef(627dfbc48c4aaf5cffffffffffffffffffffffff0300000001000000)\n ObjectRef(4cf67475e12d479bffffffffffffffffffffffff0300000001000000)\n ObjectRef(df3d10d373975cc4ffffffffffffffffffffffff0300000001000000)\n ObjectRef(fe94cf61b6243749ffffffffffffffffffffffff0300000001000000)\n ObjectRef(b939ea12379fdcadffffffffffffffffffffffff0300000001000000)\n ObjectRef(d3c48dffe83396b7ffffffffffffffffffffffff0300000001000000)\n ObjectRef(bfb9754b9ff944edffffffffffffffffffffffff0300000001000000)\n ObjectRef(2215d4f52633d6a8ffffffffffffffffffffffff0300000001000000)\n ObjectRef(19b6fd56d46cf512ffffffffffffffffffffffff0300000001000000)\n ObjectRef(46fb5b9b7fc94678ffffffffffffffffffffffff0300000001000000)\n ObjectRef(760786ad0a9018f6ffffffffffffffffffffffff0300000001000000)\n ObjectRef(d48e40cbb78eecc2ffffffffffffffffffffffff0300000001000000)\n ObjectRef(8d630eb8890317ceffffffffffffffffffffffff0300000001000000)\n ObjectRef(a5cb425597a5160affffffffffffffffffffffff0300000001000000)\n ObjectRef(c10e64f7eeb6df3dffffffffffffffffffffffff0300000001000000)\n ObjectRef(008c577ea88b2ce8ffffffffffffffffffffffff0300000001000000)\n ObjectRef(1843ce67de0a0175ffffffffffffffffffffffff0300000001000000)\n ObjectRef(eecf8bf60ee28551ffffffffffffffffffffffff0300000001000000)\n ObjectRef(ed591a78bc5bd7f9ffffffffffffffffffffffff0300000001000000)\n ObjectRef(84937db7947493d3ffffffffffffffffffffffff0300000001000000)\n ObjectRef(d1cefc247584d62dffffffffffffffffffffffff0300000001000000)\n ObjectRef(5e568dfbf2c1ed3effffffffffffffffffffffff0300000001000000)\n ObjectRef(08f88ba6a37af3d8ffffffffffffffffffffffff0300000001000000)\n ObjectRef(5d3d593f3190d76dffffffffffffffffffffffff0300000001000000)\n ObjectRef(0bae95a53e50a201ffffffffffffffffffffffff0300000001000000)\n ObjectRef(a2e8d42fc162dba7ffffffffffffffffffffffff0300000001000000)\n ObjectRef(cd69c6a857dc7f53ffffffffffffffffffffffff0300000001000000)\n ObjectRef(c5914d04a02a8ef8ffffffffffffffffffffffff0300000001000000)\n ObjectRef(db2067cd7c749385ffffffffffffffffffffffff0300000001000000)\n ObjectRef(d65274991441ef46ffffffffffffffffffffffff0300000001000000)\n ObjectRef(e586d30adc286aa5ffffffffffffffffffffffff0300000001000000)\n ObjectRef(cdb76d177b567af8ffffffffffffffffffffffff0300000001000000)\n ObjectRef(aa2f8159b276618affffffffffffffffffffffff0300000001000000)\n ObjectRef(095471e758ee824effffffffffffffffffffffff0300000001000000)\n ObjectRef(4f21c61e18921626ffffffffffffffffffffffff0300000001000000)\n ObjectRef(9420a2c8fb5238e4ffffffffffffffffffffffff0300000001000000)\n ObjectRef(26cd47742c6d9382ffffffffffffffffffffffff0300000001000000)\n ObjectRef(8d85983887db1e06ffffffffffffffffffffffff0300000001000000)\n ObjectRef(e77e8054d52ae719ffffffffffffffffffffffff0300000001000000)\n ObjectRef(7bc3d053536a2dc0ffffffffffffffffffffffff0300000001000000)\n ObjectRef(81ec96b0b40f3177ffffffffffffffffffffffff0300000001000000)\n ObjectRef(3763f9ee33c9ad04ffffffffffffffffffffffff0300000001000000)\n ObjectRef(fd957a621604265dffffffffffffffffffffffff0300000001000000)\n ObjectRef(bdf004d1454a3499ffffffffffffffffffffffff0300000001000000)\n ObjectRef(ffbd60f47266392bffffffffffffffffffffffff0300000001000000)\n ObjectRef(c0b06750124805c3ffffffffffffffffffffffff0300000001000000)\n ObjectRef(aa1b5f1ad0fb9456ffffffffffffffffffffffff0300000001000000)\n ObjectRef(f437bee0b1623d2effffffffffffffffffffffff0300000001000000)].\nReshape your data either using array.reshape(-1, 1) if your data has a single feature or array.reshape(1, -1) if it contains a single sample.",
     "output_type": "error",
     "traceback": [
      "\u001b[0;31m---------------------------------------------------------------------------\u001b[0m",
      "\u001b[0;31mValueError\u001b[0m                                Traceback (most recent call last)",
      "Cell \u001b[0;32mIn[18], line 6\u001b[0m\n\u001b[1;32m      4\u001b[0m \u001b[38;5;28;01mwith\u001b[39;00m joblib\u001b[38;5;241m.\u001b[39mparallel_backend(\u001b[38;5;124m'\u001b[39m\u001b[38;5;124mray\u001b[39m\u001b[38;5;124m'\u001b[39m):\n\u001b[1;32m      5\u001b[0m     knn_model \u001b[38;5;241m=\u001b[39m KNeighborsRegressor(n_neighbors\u001b[38;5;241m=\u001b[39m\u001b[38;5;241m5\u001b[39m)\n\u001b[0;32m----> 6\u001b[0m     \u001b[43mknn_model\u001b[49m\u001b[38;5;241;43m.\u001b[39;49m\u001b[43mfit\u001b[49m\u001b[43m(\u001b[49m\u001b[43mX_train_reg\u001b[49m\u001b[43m,\u001b[49m\u001b[43m \u001b[49m\u001b[43my_train_reg\u001b[49m\u001b[43m)\u001b[49m\n\u001b[1;32m      7\u001b[0m     acc \u001b[38;5;241m=\u001b[39m knn_model\u001b[38;5;241m.\u001b[39mscore(X_test_reg\u001b[38;5;241m.\u001b[39mreshape(\u001b[38;5;241m-\u001b[39m\u001b[38;5;241m1\u001b[39m, \u001b[38;5;241m1\u001b[39m), y_test_reg\u001b[38;5;241m.\u001b[39mreshape(\u001b[38;5;241m-\u001b[39m\u001b[38;5;241m1\u001b[39m, \u001b[38;5;241m1\u001b[39m))\n",
      "File \u001b[0;32m~/.local/lib/python3.10/site-packages/sklearn/base.py:1474\u001b[0m, in \u001b[0;36m_fit_context.<locals>.decorator.<locals>.wrapper\u001b[0;34m(estimator, *args, **kwargs)\u001b[0m\n\u001b[1;32m   1467\u001b[0m     estimator\u001b[38;5;241m.\u001b[39m_validate_params()\n\u001b[1;32m   1469\u001b[0m \u001b[38;5;28;01mwith\u001b[39;00m config_context(\n\u001b[1;32m   1470\u001b[0m     skip_parameter_validation\u001b[38;5;241m=\u001b[39m(\n\u001b[1;32m   1471\u001b[0m         prefer_skip_nested_validation \u001b[38;5;129;01mor\u001b[39;00m global_skip_validation\n\u001b[1;32m   1472\u001b[0m     )\n\u001b[1;32m   1473\u001b[0m ):\n\u001b[0;32m-> 1474\u001b[0m     \u001b[38;5;28;01mreturn\u001b[39;00m \u001b[43mfit_method\u001b[49m\u001b[43m(\u001b[49m\u001b[43mestimator\u001b[49m\u001b[43m,\u001b[49m\u001b[43m \u001b[49m\u001b[38;5;241;43m*\u001b[39;49m\u001b[43margs\u001b[49m\u001b[43m,\u001b[49m\u001b[43m \u001b[49m\u001b[38;5;241;43m*\u001b[39;49m\u001b[38;5;241;43m*\u001b[39;49m\u001b[43mkwargs\u001b[49m\u001b[43m)\u001b[49m\n",
      "File \u001b[0;32m~/.local/lib/python3.10/site-packages/sklearn/neighbors/_regression.py:223\u001b[0m, in \u001b[0;36mKNeighborsRegressor.fit\u001b[0;34m(self, X, y)\u001b[0m\n\u001b[1;32m    201\u001b[0m \u001b[38;5;129m@_fit_context\u001b[39m(\n\u001b[1;32m    202\u001b[0m     \u001b[38;5;66;03m# KNeighborsRegressor.metric is not validated yet\u001b[39;00m\n\u001b[1;32m    203\u001b[0m     prefer_skip_nested_validation\u001b[38;5;241m=\u001b[39m\u001b[38;5;28;01mFalse\u001b[39;00m\n\u001b[1;32m    204\u001b[0m )\n\u001b[1;32m    205\u001b[0m \u001b[38;5;28;01mdef\u001b[39;00m \u001b[38;5;21mfit\u001b[39m(\u001b[38;5;28mself\u001b[39m, X, y):\n\u001b[1;32m    206\u001b[0m \u001b[38;5;250m    \u001b[39m\u001b[38;5;124;03m\"\"\"Fit the k-nearest neighbors regressor from the training dataset.\u001b[39;00m\n\u001b[1;32m    207\u001b[0m \n\u001b[1;32m    208\u001b[0m \u001b[38;5;124;03m    Parameters\u001b[39;00m\n\u001b[0;32m   (...)\u001b[0m\n\u001b[1;32m    221\u001b[0m \u001b[38;5;124;03m        The fitted k-nearest neighbors regressor.\u001b[39;00m\n\u001b[1;32m    222\u001b[0m \u001b[38;5;124;03m    \"\"\"\u001b[39;00m\n\u001b[0;32m--> 223\u001b[0m     \u001b[38;5;28;01mreturn\u001b[39;00m \u001b[38;5;28;43mself\u001b[39;49m\u001b[38;5;241;43m.\u001b[39;49m\u001b[43m_fit\u001b[49m\u001b[43m(\u001b[49m\u001b[43mX\u001b[49m\u001b[43m,\u001b[49m\u001b[43m \u001b[49m\u001b[43my\u001b[49m\u001b[43m)\u001b[49m\n",
      "File \u001b[0;32m~/.local/lib/python3.10/site-packages/sklearn/neighbors/_base.py:476\u001b[0m, in \u001b[0;36mNeighborsBase._fit\u001b[0;34m(self, X, y)\u001b[0m\n\u001b[1;32m    474\u001b[0m \u001b[38;5;28;01mif\u001b[39;00m \u001b[38;5;28mself\u001b[39m\u001b[38;5;241m.\u001b[39m_get_tags()[\u001b[38;5;124m\"\u001b[39m\u001b[38;5;124mrequires_y\u001b[39m\u001b[38;5;124m\"\u001b[39m]:\n\u001b[1;32m    475\u001b[0m     \u001b[38;5;28;01mif\u001b[39;00m \u001b[38;5;129;01mnot\u001b[39;00m \u001b[38;5;28misinstance\u001b[39m(X, (KDTree, BallTree, NeighborsBase)):\n\u001b[0;32m--> 476\u001b[0m         X, y \u001b[38;5;241m=\u001b[39m \u001b[38;5;28;43mself\u001b[39;49m\u001b[38;5;241;43m.\u001b[39;49m\u001b[43m_validate_data\u001b[49m\u001b[43m(\u001b[49m\n\u001b[1;32m    477\u001b[0m \u001b[43m            \u001b[49m\u001b[43mX\u001b[49m\u001b[43m,\u001b[49m\u001b[43m \u001b[49m\u001b[43my\u001b[49m\u001b[43m,\u001b[49m\u001b[43m \u001b[49m\u001b[43maccept_sparse\u001b[49m\u001b[38;5;241;43m=\u001b[39;49m\u001b[38;5;124;43m\"\u001b[39;49m\u001b[38;5;124;43mcsr\u001b[39;49m\u001b[38;5;124;43m\"\u001b[39;49m\u001b[43m,\u001b[49m\u001b[43m \u001b[49m\u001b[43mmulti_output\u001b[49m\u001b[38;5;241;43m=\u001b[39;49m\u001b[38;5;28;43;01mTrue\u001b[39;49;00m\u001b[43m,\u001b[49m\u001b[43m \u001b[49m\u001b[43morder\u001b[49m\u001b[38;5;241;43m=\u001b[39;49m\u001b[38;5;124;43m\"\u001b[39;49m\u001b[38;5;124;43mC\u001b[39;49m\u001b[38;5;124;43m\"\u001b[39;49m\n\u001b[1;32m    478\u001b[0m \u001b[43m        \u001b[49m\u001b[43m)\u001b[49m\n\u001b[1;32m    480\u001b[0m     \u001b[38;5;28;01mif\u001b[39;00m is_classifier(\u001b[38;5;28mself\u001b[39m):\n\u001b[1;32m    481\u001b[0m         \u001b[38;5;66;03m# Classification targets require a specific format\u001b[39;00m\n\u001b[1;32m    482\u001b[0m         \u001b[38;5;28;01mif\u001b[39;00m y\u001b[38;5;241m.\u001b[39mndim \u001b[38;5;241m==\u001b[39m \u001b[38;5;241m1\u001b[39m \u001b[38;5;129;01mor\u001b[39;00m y\u001b[38;5;241m.\u001b[39mndim \u001b[38;5;241m==\u001b[39m \u001b[38;5;241m2\u001b[39m \u001b[38;5;129;01mand\u001b[39;00m y\u001b[38;5;241m.\u001b[39mshape[\u001b[38;5;241m1\u001b[39m] \u001b[38;5;241m==\u001b[39m \u001b[38;5;241m1\u001b[39m:\n",
      "File \u001b[0;32m~/.local/lib/python3.10/site-packages/sklearn/base.py:650\u001b[0m, in \u001b[0;36mBaseEstimator._validate_data\u001b[0;34m(self, X, y, reset, validate_separately, cast_to_ndarray, **check_params)\u001b[0m\n\u001b[1;32m    648\u001b[0m         y \u001b[38;5;241m=\u001b[39m check_array(y, input_name\u001b[38;5;241m=\u001b[39m\u001b[38;5;124m\"\u001b[39m\u001b[38;5;124my\u001b[39m\u001b[38;5;124m\"\u001b[39m, \u001b[38;5;241m*\u001b[39m\u001b[38;5;241m*\u001b[39mcheck_y_params)\n\u001b[1;32m    649\u001b[0m     \u001b[38;5;28;01melse\u001b[39;00m:\n\u001b[0;32m--> 650\u001b[0m         X, y \u001b[38;5;241m=\u001b[39m \u001b[43mcheck_X_y\u001b[49m\u001b[43m(\u001b[49m\u001b[43mX\u001b[49m\u001b[43m,\u001b[49m\u001b[43m \u001b[49m\u001b[43my\u001b[49m\u001b[43m,\u001b[49m\u001b[43m \u001b[49m\u001b[38;5;241;43m*\u001b[39;49m\u001b[38;5;241;43m*\u001b[39;49m\u001b[43mcheck_params\u001b[49m\u001b[43m)\u001b[49m\n\u001b[1;32m    651\u001b[0m     out \u001b[38;5;241m=\u001b[39m X, y\n\u001b[1;32m    653\u001b[0m \u001b[38;5;28;01mif\u001b[39;00m \u001b[38;5;129;01mnot\u001b[39;00m no_val_X \u001b[38;5;129;01mand\u001b[39;00m check_params\u001b[38;5;241m.\u001b[39mget(\u001b[38;5;124m\"\u001b[39m\u001b[38;5;124mensure_2d\u001b[39m\u001b[38;5;124m\"\u001b[39m, \u001b[38;5;28;01mTrue\u001b[39;00m):\n",
      "File \u001b[0;32m~/.local/lib/python3.10/site-packages/sklearn/utils/validation.py:1263\u001b[0m, in \u001b[0;36mcheck_X_y\u001b[0;34m(X, y, accept_sparse, accept_large_sparse, dtype, order, copy, force_all_finite, ensure_2d, allow_nd, multi_output, ensure_min_samples, ensure_min_features, y_numeric, estimator)\u001b[0m\n\u001b[1;32m   1258\u001b[0m         estimator_name \u001b[38;5;241m=\u001b[39m _check_estimator_name(estimator)\n\u001b[1;32m   1259\u001b[0m     \u001b[38;5;28;01mraise\u001b[39;00m \u001b[38;5;167;01mValueError\u001b[39;00m(\n\u001b[1;32m   1260\u001b[0m         \u001b[38;5;124mf\u001b[39m\u001b[38;5;124m\"\u001b[39m\u001b[38;5;132;01m{\u001b[39;00mestimator_name\u001b[38;5;132;01m}\u001b[39;00m\u001b[38;5;124m requires y to be passed, but the target y is None\u001b[39m\u001b[38;5;124m\"\u001b[39m\n\u001b[1;32m   1261\u001b[0m     )\n\u001b[0;32m-> 1263\u001b[0m X \u001b[38;5;241m=\u001b[39m \u001b[43mcheck_array\u001b[49m\u001b[43m(\u001b[49m\n\u001b[1;32m   1264\u001b[0m \u001b[43m    \u001b[49m\u001b[43mX\u001b[49m\u001b[43m,\u001b[49m\n\u001b[1;32m   1265\u001b[0m \u001b[43m    \u001b[49m\u001b[43maccept_sparse\u001b[49m\u001b[38;5;241;43m=\u001b[39;49m\u001b[43maccept_sparse\u001b[49m\u001b[43m,\u001b[49m\n\u001b[1;32m   1266\u001b[0m \u001b[43m    \u001b[49m\u001b[43maccept_large_sparse\u001b[49m\u001b[38;5;241;43m=\u001b[39;49m\u001b[43maccept_large_sparse\u001b[49m\u001b[43m,\u001b[49m\n\u001b[1;32m   1267\u001b[0m \u001b[43m    \u001b[49m\u001b[43mdtype\u001b[49m\u001b[38;5;241;43m=\u001b[39;49m\u001b[43mdtype\u001b[49m\u001b[43m,\u001b[49m\n\u001b[1;32m   1268\u001b[0m \u001b[43m    \u001b[49m\u001b[43morder\u001b[49m\u001b[38;5;241;43m=\u001b[39;49m\u001b[43morder\u001b[49m\u001b[43m,\u001b[49m\n\u001b[1;32m   1269\u001b[0m \u001b[43m    \u001b[49m\u001b[43mcopy\u001b[49m\u001b[38;5;241;43m=\u001b[39;49m\u001b[43mcopy\u001b[49m\u001b[43m,\u001b[49m\n\u001b[1;32m   1270\u001b[0m \u001b[43m    \u001b[49m\u001b[43mforce_all_finite\u001b[49m\u001b[38;5;241;43m=\u001b[39;49m\u001b[43mforce_all_finite\u001b[49m\u001b[43m,\u001b[49m\n\u001b[1;32m   1271\u001b[0m \u001b[43m    \u001b[49m\u001b[43mensure_2d\u001b[49m\u001b[38;5;241;43m=\u001b[39;49m\u001b[43mensure_2d\u001b[49m\u001b[43m,\u001b[49m\n\u001b[1;32m   1272\u001b[0m \u001b[43m    \u001b[49m\u001b[43mallow_nd\u001b[49m\u001b[38;5;241;43m=\u001b[39;49m\u001b[43mallow_nd\u001b[49m\u001b[43m,\u001b[49m\n\u001b[1;32m   1273\u001b[0m \u001b[43m    \u001b[49m\u001b[43mensure_min_samples\u001b[49m\u001b[38;5;241;43m=\u001b[39;49m\u001b[43mensure_min_samples\u001b[49m\u001b[43m,\u001b[49m\n\u001b[1;32m   1274\u001b[0m \u001b[43m    \u001b[49m\u001b[43mensure_min_features\u001b[49m\u001b[38;5;241;43m=\u001b[39;49m\u001b[43mensure_min_features\u001b[49m\u001b[43m,\u001b[49m\n\u001b[1;32m   1275\u001b[0m \u001b[43m    \u001b[49m\u001b[43mestimator\u001b[49m\u001b[38;5;241;43m=\u001b[39;49m\u001b[43mestimator\u001b[49m\u001b[43m,\u001b[49m\n\u001b[1;32m   1276\u001b[0m \u001b[43m    \u001b[49m\u001b[43minput_name\u001b[49m\u001b[38;5;241;43m=\u001b[39;49m\u001b[38;5;124;43m\"\u001b[39;49m\u001b[38;5;124;43mX\u001b[39;49m\u001b[38;5;124;43m\"\u001b[39;49m\u001b[43m,\u001b[49m\n\u001b[1;32m   1277\u001b[0m \u001b[43m\u001b[49m\u001b[43m)\u001b[49m\n\u001b[1;32m   1279\u001b[0m y \u001b[38;5;241m=\u001b[39m _check_y(y, multi_output\u001b[38;5;241m=\u001b[39mmulti_output, y_numeric\u001b[38;5;241m=\u001b[39my_numeric, estimator\u001b[38;5;241m=\u001b[39mestimator)\n\u001b[1;32m   1281\u001b[0m check_consistent_length(X, y)\n",
      "File \u001b[0;32m~/.local/lib/python3.10/site-packages/sklearn/utils/validation.py:1035\u001b[0m, in \u001b[0;36mcheck_array\u001b[0;34m(array, accept_sparse, accept_large_sparse, dtype, order, copy, force_all_finite, ensure_2d, allow_nd, ensure_min_samples, ensure_min_features, estimator, input_name)\u001b[0m\n\u001b[1;32m   1028\u001b[0m         \u001b[38;5;28;01melse\u001b[39;00m:\n\u001b[1;32m   1029\u001b[0m             msg \u001b[38;5;241m=\u001b[39m (\n\u001b[1;32m   1030\u001b[0m                 \u001b[38;5;124mf\u001b[39m\u001b[38;5;124m\"\u001b[39m\u001b[38;5;124mExpected 2D array, got 1D array instead:\u001b[39m\u001b[38;5;130;01m\\n\u001b[39;00m\u001b[38;5;124marray=\u001b[39m\u001b[38;5;132;01m{\u001b[39;00marray\u001b[38;5;132;01m}\u001b[39;00m\u001b[38;5;124m.\u001b[39m\u001b[38;5;130;01m\\n\u001b[39;00m\u001b[38;5;124m\"\u001b[39m\n\u001b[1;32m   1031\u001b[0m                 \u001b[38;5;124m\"\u001b[39m\u001b[38;5;124mReshape your data either using array.reshape(-1, 1) if \u001b[39m\u001b[38;5;124m\"\u001b[39m\n\u001b[1;32m   1032\u001b[0m                 \u001b[38;5;124m\"\u001b[39m\u001b[38;5;124myour data has a single feature or array.reshape(1, -1) \u001b[39m\u001b[38;5;124m\"\u001b[39m\n\u001b[1;32m   1033\u001b[0m                 \u001b[38;5;124m\"\u001b[39m\u001b[38;5;124mif it contains a single sample.\u001b[39m\u001b[38;5;124m\"\u001b[39m\n\u001b[1;32m   1034\u001b[0m             )\n\u001b[0;32m-> 1035\u001b[0m         \u001b[38;5;28;01mraise\u001b[39;00m \u001b[38;5;167;01mValueError\u001b[39;00m(msg)\n\u001b[1;32m   1037\u001b[0m \u001b[38;5;28;01mif\u001b[39;00m dtype_numeric \u001b[38;5;129;01mand\u001b[39;00m \u001b[38;5;28mhasattr\u001b[39m(array\u001b[38;5;241m.\u001b[39mdtype, \u001b[38;5;124m\"\u001b[39m\u001b[38;5;124mkind\u001b[39m\u001b[38;5;124m\"\u001b[39m) \u001b[38;5;129;01mand\u001b[39;00m array\u001b[38;5;241m.\u001b[39mdtype\u001b[38;5;241m.\u001b[39mkind \u001b[38;5;129;01min\u001b[39;00m \u001b[38;5;124m\"\u001b[39m\u001b[38;5;124mUSV\u001b[39m\u001b[38;5;124m\"\u001b[39m:\n\u001b[1;32m   1038\u001b[0m     \u001b[38;5;28;01mraise\u001b[39;00m \u001b[38;5;167;01mValueError\u001b[39;00m(\n\u001b[1;32m   1039\u001b[0m         \u001b[38;5;124m\"\u001b[39m\u001b[38;5;124mdtype=\u001b[39m\u001b[38;5;124m'\u001b[39m\u001b[38;5;124mnumeric\u001b[39m\u001b[38;5;124m'\u001b[39m\u001b[38;5;124m is not compatible with arrays of bytes/strings.\u001b[39m\u001b[38;5;124m\"\u001b[39m\n\u001b[1;32m   1040\u001b[0m         \u001b[38;5;124m\"\u001b[39m\u001b[38;5;124mConvert your data to numeric values explicitly instead.\u001b[39m\u001b[38;5;124m\"\u001b[39m\n\u001b[1;32m   1041\u001b[0m     )\n",
      "\u001b[0;31mValueError\u001b[0m: Expected 2D array, got 1D array instead:\narray=[ObjectRef(4734df6ace9f4391ffffffffffffffffffffffff0300000001000000)\n ObjectRef(8c05139bcc2b364fffffffffffffffffffffffff0300000001000000)\n ObjectRef(76aa34f5b5bbb7f2ffffffffffffffffffffffff0300000001000000)\n ObjectRef(c8949d20ce9684ffffffffffffffffffffffffff0300000001000000)\n ObjectRef(bd65b3675ddfb966ffffffffffffffffffffffff0300000001000000)\n ObjectRef(5db0db9e5c879fd1ffffffffffffffffffffffff0300000001000000)\n ObjectRef(ea1c0888f0f4f839ffffffffffffffffffffffff0300000001000000)\n ObjectRef(8f766538ab157fbbffffffffffffffffffffffff0300000001000000)\n ObjectRef(01acd62c4eafb4feffffffffffffffffffffffff0300000001000000)\n ObjectRef(b59b34b03f035cacffffffffffffffffffffffff0300000001000000)\n ObjectRef(99bdd76032791cd9ffffffffffffffffffffffff0300000001000000)\n ObjectRef(8ba5a622db55dbd9ffffffffffffffffffffffff0300000001000000)\n ObjectRef(f08ab829d2e27be5ffffffffffffffffffffffff0300000001000000)\n ObjectRef(6a29db808a9d5a64ffffffffffffffffffffffff0300000001000000)\n ObjectRef(0c518fa2c167b9d7ffffffffffffffffffffffff0300000001000000)\n ObjectRef(35cc4b903f58b278ffffffffffffffffffffffff0300000001000000)\n ObjectRef(853cc8b2962d941cffffffffffffffffffffffff0300000001000000)\n ObjectRef(a76fa161e12d3155ffffffffffffffffffffffff0300000001000000)\n ObjectRef(87019a15c9f26096ffffffffffffffffffffffff0300000001000000)\n ObjectRef(477cd37ede6a9eedffffffffffffffffffffffff0300000001000000)\n ObjectRef(7b286a987df915a4ffffffffffffffffffffffff0300000001000000)\n ObjectRef(ca3ca5f74d832ea3ffffffffffffffffffffffff0300000001000000)\n ObjectRef(969b08e6105f3781ffffffffffffffffffffffff0300000001000000)\n ObjectRef(c67eee51c347b041ffffffffffffffffffffffff0300000001000000)\n ObjectRef(876445d3b3e2194fffffffffffffffffffffffff0300000001000000)\n ObjectRef(175318be81283d30ffffffffffffffffffffffff0300000001000000)\n ObjectRef(04720d57c5bba13bffffffffffffffffffffffff0300000001000000)\n ObjectRef(8053426c76ab38adffffffffffffffffffffffff0300000001000000)\n ObjectRef(c5dd3b0555eabcb4ffffffffffffffffffffffff0300000001000000)\n ObjectRef(fbba66434670efdaffffffffffffffffffffffff0300000001000000)\n ObjectRef(7de4eaf6bae409b1ffffffffffffffffffffffff0300000001000000)\n ObjectRef(cf2e686e5eece891ffffffffffffffffffffffff0300000001000000)\n ObjectRef(13f4cb9a7a1dac95ffffffffffffffffffffffff0300000001000000)\n ObjectRef(59b7e0213cd0c7d4ffffffffffffffffffffffff0300000001000000)\n ObjectRef(a7600a0d5834a75fffffffffffffffffffffffff0300000001000000)\n ObjectRef(78287bbc3065ef47ffffffffffffffffffffffff0300000001000000)\n ObjectRef(6220b4cab780dc2bffffffffffffffffffffffff0300000001000000)\n ObjectRef(612d0fbdf1e46680ffffffffffffffffffffffff0300000001000000)\n ObjectRef(a4c3e9e034b7d226ffffffffffffffffffffffff0300000001000000)\n ObjectRef(42ce389bf7b2e84dffffffffffffffffffffffff0300000001000000)\n ObjectRef(9b7d907cdf9628deffffffffffffffffffffffff0300000001000000)\n ObjectRef(b7665800f70da52cffffffffffffffffffffffff0300000001000000)\n ObjectRef(a5dd53fb6b6859b0ffffffffffffffffffffffff0300000001000000)\n ObjectRef(62702c2d300b05f3ffffffffffffffffffffffff0300000001000000)\n ObjectRef(c149fead3afd6354ffffffffffffffffffffffff0300000001000000)\n ObjectRef(d8488eaa3d3b5869ffffffffffffffffffffffff0300000001000000)\n ObjectRef(496d46dfb412ff9fffffffffffffffffffffffff0300000001000000)\n ObjectRef(145226f5be54192bffffffffffffffffffffffff0300000001000000)\n ObjectRef(4ef1b6ee93e9ceffffffffffffffffffffffffff0300000001000000)\n ObjectRef(23623625983d4affffffffffffffffffffffffff0300000001000000)\n ObjectRef(3625f7c7276ea3f3ffffffffffffffffffffffff0300000001000000)\n ObjectRef(d541cc1981332895ffffffffffffffffffffffff0300000001000000)\n ObjectRef(2adb93baccaca4e1ffffffffffffffffffffffff0300000001000000)\n ObjectRef(ca861c614b471b32ffffffffffffffffffffffff0300000001000000)\n ObjectRef(3a56ae417a11b0b6ffffffffffffffffffffffff0300000001000000)\n ObjectRef(fc4cca6422feb159ffffffffffffffffffffffff0300000001000000)\n ObjectRef(14016073861d6a58ffffffffffffffffffffffff0300000001000000)\n ObjectRef(1bc44fad9f226f2affffffffffffffffffffffff0300000001000000)\n ObjectRef(3a00655fc9b60bc8ffffffffffffffffffffffff0300000001000000)\n ObjectRef(b37871a00974650affffffffffffffffffffffff0300000001000000)\n ObjectRef(f26b2b4ac9d1f4dcffffffffffffffffffffffff0300000001000000)\n ObjectRef(5c73e799ea14a147ffffffffffffffffffffffff0300000001000000)\n ObjectRef(ac6e654419411030ffffffffffffffffffffffff0300000001000000)\n ObjectRef(3dced7fb518a1308ffffffffffffffffffffffff0300000001000000)\n ObjectRef(6dcc8654639e919bffffffffffffffffffffffff0300000001000000)\n ObjectRef(47b6f8077da5f52affffffffffffffffffffffff0300000001000000)\n ObjectRef(cfe523b6c978813fffffffffffffffffffffffff0300000001000000)\n ObjectRef(a011b7fd4c1a84e5ffffffffffffffffffffffff0300000001000000)\n ObjectRef(9b4f30556aa97afdffffffffffffffffffffffff0300000001000000)\n ObjectRef(b67ff8e24874103affffffffffffffffffffffff0300000001000000)\n ObjectRef(86a8aa2ea107c334ffffffffffffffffffffffff0300000001000000)\n ObjectRef(51edee597348f8b6ffffffffffffffffffffffff0300000001000000)\n ObjectRef(d13f5187417ad4a0ffffffffffffffffffffffff0300000001000000)\n ObjectRef(61c21550e1e5efceffffffffffffffffffffffff0300000001000000)\n ObjectRef(b9d27c8d2d4a6a24ffffffffffffffffffffffff0300000001000000)\n ObjectRef(2408db2c9f57962fffffffffffffffffffffffff0300000001000000)\n ObjectRef(cf7ea3a659d1e61affffffffffffffffffffffff0300000001000000)\n ObjectRef(8d4c83e0dcea9d8effffffffffffffffffffffff0300000001000000)\n ObjectRef(4dee7d02e312faf4ffffffffffffffffffffffff0300000001000000)\n ObjectRef(65ab5a7b1370ddbeffffffffffffffffffffffff0300000001000000)\n ObjectRef(bd08c59e3554c9e4ffffffffffffffffffffffff0300000001000000)\n ObjectRef(019d80525101812bffffffffffffffffffffffff0300000001000000)\n ObjectRef(991fbbc22f743930ffffffffffffffffffffffff0300000001000000)\n ObjectRef(0c2c58f3b352cc84ffffffffffffffffffffffff0300000001000000)\n ObjectRef(f7157c3fb3a5772effffffffffffffffffffffff0300000001000000)\n ObjectRef(eba654dc0ab900e7ffffffffffffffffffffffff0300000001000000)\n ObjectRef(6db20c3e98514cebffffffffffffffffffffffff0300000001000000)\n ObjectRef(0bf6d15968922782ffffffffffffffffffffffff0300000001000000)\n ObjectRef(d193fe9a5d1e5476ffffffffffffffffffffffff0300000001000000)\n ObjectRef(f3758f9148a9b281ffffffffffffffffffffffff0300000001000000)\n ObjectRef(17f4a26def9f4ca9ffffffffffffffffffffffff0300000001000000)\n ObjectRef(f7eb4c7122b07c57ffffffffffffffffffffffff0300000001000000)\n ObjectRef(495d9c4232648e83ffffffffffffffffffffffff0300000001000000)\n ObjectRef(9e7843a2fc22b273ffffffffffffffffffffffff0300000001000000)\n ObjectRef(68eca8ae006576ecffffffffffffffffffffffff0300000001000000)\n ObjectRef(ba04da95f298f75cffffffffffffffffffffffff0300000001000000)\n ObjectRef(f75775d46f744020ffffffffffffffffffffffff0300000001000000)\n ObjectRef(17dc062608e6cd6effffffffffffffffffffffff0300000001000000)\n ObjectRef(da98fce20b029669ffffffffffffffffffffffff0300000001000000)\n ObjectRef(75e311a406f58876ffffffffffffffffffffffff0300000001000000)\n ObjectRef(77295550d8a415c6ffffffffffffffffffffffff0300000001000000)\n ObjectRef(3ab7773e8a5cd8d0ffffffffffffffffffffffff0300000001000000)\n ObjectRef(5743b3b0625fc17effffffffffffffffffffffff0300000001000000)\n ObjectRef(311dbdf8406f293dffffffffffffffffffffffff0300000001000000)\n ObjectRef(e30731238c08d27dffffffffffffffffffffffff0300000001000000)\n ObjectRef(bebfb292ff53481dffffffffffffffffffffffff0300000001000000)\n ObjectRef(99229f722640e5adffffffffffffffffffffffff0300000001000000)\n ObjectRef(a53a5e695a1cc1e5ffffffffffffffffffffffff0300000001000000)\n ObjectRef(26671f835f5bb511ffffffffffffffffffffffff0300000001000000)\n ObjectRef(4f3c711672ca86b7ffffffffffffffffffffffff0300000001000000)\n ObjectRef(2d4951181027ccb0ffffffffffffffffffffffff0300000001000000)\n ObjectRef(6db59fb6285940abffffffffffffffffffffffff0300000001000000)\n ObjectRef(bd5da0d243a2de71ffffffffffffffffffffffff0300000001000000)\n ObjectRef(f65d823652b68ed1ffffffffffffffffffffffff0300000001000000)\n ObjectRef(1e7b110cae3d9c7cffffffffffffffffffffffff0300000001000000)\n ObjectRef(3792a03a0ad3c011ffffffffffffffffffffffff0300000001000000)\n ObjectRef(a921093209d47bd0ffffffffffffffffffffffff0300000001000000)\n ObjectRef(d001bb150a05c059ffffffffffffffffffffffff0300000001000000)\n ObjectRef(b358906d2014c47fffffffffffffffffffffffff0300000001000000)\n ObjectRef(2e92a674338ae897ffffffffffffffffffffffff0300000001000000)\n ObjectRef(4fa197da58f25277ffffffffffffffffffffffff0300000001000000)\n ObjectRef(43b3826efdfb7685ffffffffffffffffffffffff0300000001000000)\n ObjectRef(5315b02b16099282ffffffffffffffffffffffff0300000001000000)\n ObjectRef(9e2878b09c4061d0ffffffffffffffffffffffff0300000001000000)\n ObjectRef(ab48968b79035b12ffffffffffffffffffffffff0300000001000000)\n ObjectRef(54f518b6ce9b19cdffffffffffffffffffffffff0300000001000000)\n ObjectRef(fb190b9229c0d41affffffffffffffffffffffff0300000001000000)\n ObjectRef(4fd8a988391822cfffffffffffffffffffffffff0300000001000000)\n ObjectRef(2c31af5b0c2ffdeaffffffffffffffffffffffff0300000001000000)\n ObjectRef(18749ad48ef6860cffffffffffffffffffffffff0300000001000000)\n ObjectRef(7abcc6d080075791ffffffffffffffffffffffff0300000001000000)\n ObjectRef(76a642978dfa506affffffffffffffffffffffff0300000001000000)\n ObjectRef(aa6f2bc2572082ccffffffffffffffffffffffff0300000001000000)\n ObjectRef(a6e6f4c8de000fb9ffffffffffffffffffffffff0300000001000000)\n ObjectRef(eadca3fdd750bcb6ffffffffffffffffffffffff0300000001000000)\n ObjectRef(c5e9024ce7a169d4ffffffffffffffffffffffff0300000001000000)\n ObjectRef(0a8a55dd05d0e42effffffffffffffffffffffff0300000001000000)\n ObjectRef(7e10c9a22ad093f6ffffffffffffffffffffffff0300000001000000)\n ObjectRef(a1e86f32a9c42d3affffffffffffffffffffffff0300000001000000)\n ObjectRef(952e0f2f004d42b2ffffffffffffffffffffffff0300000001000000)\n ObjectRef(d9d7c52f79ee2990ffffffffffffffffffffffff0300000001000000)\n ObjectRef(6fce3d187fe3e008ffffffffffffffffffffffff0300000001000000)\n ObjectRef(32d46b1ee7697c0bffffffffffffffffffffffff0300000001000000)\n ObjectRef(350199d21635a649ffffffffffffffffffffffff0300000001000000)\n ObjectRef(5bf1e8e9afc00a93ffffffffffffffffffffffff0300000001000000)\n ObjectRef(381c9d32dc1b601bffffffffffffffffffffffff0300000001000000)\n ObjectRef(e014f98d69f9c6dcffffffffffffffffffffffff0300000001000000)\n ObjectRef(97ae9a7989379797ffffffffffffffffffffffff0300000001000000)\n ObjectRef(a457342dc44231f3ffffffffffffffffffffffff0300000001000000)\n ObjectRef(db7066b2f85bcd5affffffffffffffffffffffff0300000001000000)\n ObjectRef(97f3574e6e898c4bffffffffffffffffffffffff0300000001000000)\n ObjectRef(7122cba5615c347fffffffffffffffffffffffff0300000001000000)\n ObjectRef(3201fde50e9e7accffffffffffffffffffffffff0300000001000000)\n ObjectRef(f0ba082c870db895ffffffffffffffffffffffff0300000001000000)\n ObjectRef(13d0d47438e525fdffffffffffffffffffffffff0300000001000000)\n ObjectRef(9a5c770fc10a1f41ffffffffffffffffffffffff0300000001000000)\n ObjectRef(abebcabb38f94446ffffffffffffffffffffffff0300000001000000)\n ObjectRef(f27ec65019c72379ffffffffffffffffffffffff0300000001000000)\n ObjectRef(d4c369b4006d74f8ffffffffffffffffffffffff0300000001000000)\n ObjectRef(a80d736d4124ced6ffffffffffffffffffffffff0300000001000000)\n ObjectRef(b82c5c993ec9b6a6ffffffffffffffffffffffff0300000001000000)\n ObjectRef(413d558f8dc6cb14ffffffffffffffffffffffff0300000001000000)\n ObjectRef(d7c9b57c79c64334ffffffffffffffffffffffff0300000001000000)\n ObjectRef(6095ff6ac050921bffffffffffffffffffffffff0300000001000000)\n ObjectRef(fcaf1a142343cbb2ffffffffffffffffffffffff0300000001000000)\n ObjectRef(1447c4849d2a5d4affffffffffffffffffffffff0300000001000000)\n ObjectRef(b4982326909cbca8ffffffffffffffffffffffff0300000001000000)\n ObjectRef(5545c27b5f426dcfffffffffffffffffffffffff0300000001000000)\n ObjectRef(1ede1622aa007baeffffffffffffffffffffffff0300000001000000)\n ObjectRef(f5f14dd114b5e0d8ffffffffffffffffffffffff0300000001000000)\n ObjectRef(3163d3ae2a82f0f6ffffffffffffffffffffffff0300000001000000)\n ObjectRef(af3be8a69377c9c0ffffffffffffffffffffffff0300000001000000)\n ObjectRef(23f73aa0d634cac5ffffffffffffffffffffffff0300000001000000)\n ObjectRef(34cceb29cb51685cffffffffffffffffffffffff0300000001000000)\n ObjectRef(2e02848a36815c54ffffffffffffffffffffffff0300000001000000)\n ObjectRef(b294beb658540f4dffffffffffffffffffffffff0300000001000000)\n ObjectRef(9b62764c5c197fc1ffffffffffffffffffffffff0300000001000000)\n ObjectRef(93d6e467d878fb46ffffffffffffffffffffffff0300000001000000)\n ObjectRef(aa79ab1f99d4406bffffffffffffffffffffffff0300000001000000)\n ObjectRef(c436aac45ebff282ffffffffffffffffffffffff0300000001000000)\n ObjectRef(7b0e4beef86194f2ffffffffffffffffffffffff0300000001000000)\n ObjectRef(0dcd288a2ddcb1e3ffffffffffffffffffffffff0300000001000000)\n ObjectRef(6b2be664c27ae96cffffffffffffffffffffffff0300000001000000)\n ObjectRef(b59ff41187b00368ffffffffffffffffffffffff0300000001000000)\n ObjectRef(91aadb33d15efbb7ffffffffffffffffffffffff0300000001000000)\n ObjectRef(7a1468bd5a6a1bb8ffffffffffffffffffffffff0300000001000000)\n ObjectRef(dab5c9ee3f6116daffffffffffffffffffffffff0300000001000000)\n ObjectRef(03d298cc95ce7b7effffffffffffffffffffffff0300000001000000)\n ObjectRef(cec867412033c21cffffffffffffffffffffffff0300000001000000)\n ObjectRef(38002276651786dfffffffffffffffffffffffff0300000001000000)\n ObjectRef(4f407ce69aba8b33ffffffffffffffffffffffff0300000001000000)\n ObjectRef(f1f684a908232704ffffffffffffffffffffffff0300000001000000)\n ObjectRef(36af851a450dee3fffffffffffffffffffffffff0300000001000000)\n ObjectRef(3da261f664288247ffffffffffffffffffffffff0300000001000000)\n ObjectRef(b293ef2e2d743260ffffffffffffffffffffffff0300000001000000)\n ObjectRef(20b7fa8d63b23329ffffffffffffffffffffffff0300000001000000)\n ObjectRef(dadafa349e847095ffffffffffffffffffffffff0300000001000000)\n ObjectRef(0d91f6150b1eefe8ffffffffffffffffffffffff0300000001000000)\n ObjectRef(6ef4fe6bbbf814d9ffffffffffffffffffffffff0300000001000000)\n ObjectRef(d9a65ddb0fba82c7ffffffffffffffffffffffff0300000001000000)\n ObjectRef(42a71cdfbd68d113ffffffffffffffffffffffff0300000001000000)\n ObjectRef(c57f321a462afd72ffffffffffffffffffffffff0300000001000000)\n ObjectRef(c2c0f45a7e6cd35cffffffffffffffffffffffff0300000001000000)\n ObjectRef(e68cf0e4ac72c813ffffffffffffffffffffffff0300000001000000)\n ObjectRef(35d31298587cde34ffffffffffffffffffffffff0300000001000000)\n ObjectRef(5a8e6cf3e1921f4effffffffffffffffffffffff0300000001000000)\n ObjectRef(5fd708b297926365ffffffffffffffffffffffff0300000001000000)\n ObjectRef(627dfbc48c4aaf5cffffffffffffffffffffffff0300000001000000)\n ObjectRef(4cf67475e12d479bffffffffffffffffffffffff0300000001000000)\n ObjectRef(df3d10d373975cc4ffffffffffffffffffffffff0300000001000000)\n ObjectRef(fe94cf61b6243749ffffffffffffffffffffffff0300000001000000)\n ObjectRef(b939ea12379fdcadffffffffffffffffffffffff0300000001000000)\n ObjectRef(d3c48dffe83396b7ffffffffffffffffffffffff0300000001000000)\n ObjectRef(bfb9754b9ff944edffffffffffffffffffffffff0300000001000000)\n ObjectRef(2215d4f52633d6a8ffffffffffffffffffffffff0300000001000000)\n ObjectRef(19b6fd56d46cf512ffffffffffffffffffffffff0300000001000000)\n ObjectRef(46fb5b9b7fc94678ffffffffffffffffffffffff0300000001000000)\n ObjectRef(760786ad0a9018f6ffffffffffffffffffffffff0300000001000000)\n ObjectRef(d48e40cbb78eecc2ffffffffffffffffffffffff0300000001000000)\n ObjectRef(8d630eb8890317ceffffffffffffffffffffffff0300000001000000)\n ObjectRef(a5cb425597a5160affffffffffffffffffffffff0300000001000000)\n ObjectRef(c10e64f7eeb6df3dffffffffffffffffffffffff0300000001000000)\n ObjectRef(008c577ea88b2ce8ffffffffffffffffffffffff0300000001000000)\n ObjectRef(1843ce67de0a0175ffffffffffffffffffffffff0300000001000000)\n ObjectRef(eecf8bf60ee28551ffffffffffffffffffffffff0300000001000000)\n ObjectRef(ed591a78bc5bd7f9ffffffffffffffffffffffff0300000001000000)\n ObjectRef(84937db7947493d3ffffffffffffffffffffffff0300000001000000)\n ObjectRef(d1cefc247584d62dffffffffffffffffffffffff0300000001000000)\n ObjectRef(5e568dfbf2c1ed3effffffffffffffffffffffff0300000001000000)\n ObjectRef(08f88ba6a37af3d8ffffffffffffffffffffffff0300000001000000)\n ObjectRef(5d3d593f3190d76dffffffffffffffffffffffff0300000001000000)\n ObjectRef(0bae95a53e50a201ffffffffffffffffffffffff0300000001000000)\n ObjectRef(a2e8d42fc162dba7ffffffffffffffffffffffff0300000001000000)\n ObjectRef(cd69c6a857dc7f53ffffffffffffffffffffffff0300000001000000)\n ObjectRef(c5914d04a02a8ef8ffffffffffffffffffffffff0300000001000000)\n ObjectRef(db2067cd7c749385ffffffffffffffffffffffff0300000001000000)\n ObjectRef(d65274991441ef46ffffffffffffffffffffffff0300000001000000)\n ObjectRef(e586d30adc286aa5ffffffffffffffffffffffff0300000001000000)\n ObjectRef(cdb76d177b567af8ffffffffffffffffffffffff0300000001000000)\n ObjectRef(aa2f8159b276618affffffffffffffffffffffff0300000001000000)\n ObjectRef(095471e758ee824effffffffffffffffffffffff0300000001000000)\n ObjectRef(4f21c61e18921626ffffffffffffffffffffffff0300000001000000)\n ObjectRef(9420a2c8fb5238e4ffffffffffffffffffffffff0300000001000000)\n ObjectRef(26cd47742c6d9382ffffffffffffffffffffffff0300000001000000)\n ObjectRef(8d85983887db1e06ffffffffffffffffffffffff0300000001000000)\n ObjectRef(e77e8054d52ae719ffffffffffffffffffffffff0300000001000000)\n ObjectRef(7bc3d053536a2dc0ffffffffffffffffffffffff0300000001000000)\n ObjectRef(81ec96b0b40f3177ffffffffffffffffffffffff0300000001000000)\n ObjectRef(3763f9ee33c9ad04ffffffffffffffffffffffff0300000001000000)\n ObjectRef(fd957a621604265dffffffffffffffffffffffff0300000001000000)\n ObjectRef(bdf004d1454a3499ffffffffffffffffffffffff0300000001000000)\n ObjectRef(ffbd60f47266392bffffffffffffffffffffffff0300000001000000)\n ObjectRef(c0b06750124805c3ffffffffffffffffffffffff0300000001000000)\n ObjectRef(aa1b5f1ad0fb9456ffffffffffffffffffffffff0300000001000000)\n ObjectRef(f437bee0b1623d2effffffffffffffffffffffff0300000001000000)].\nReshape your data either using array.reshape(-1, 1) if your data has a single feature or array.reshape(1, -1) if it contains a single sample."
     ]
    }
   ],
   "source": [
    "#%%timeit\n",
    "#KNN model\n",
    "#ray.init(address=\"6379\")\n",
    "with joblib.parallel_backend('ray'):\n",
    "    knn_model = KNeighborsRegressor(n_neighbors=5)\n",
    "    knn_model.fit(X_train_reg, y_train_reg)\n",
    "    acc = knn_model.score(X_test_reg.reshape(-1, 1), y_test_reg.reshape(-1, 1))"
   ]
  },
  {
   "cell_type": "markdown",
   "id": "df2c8f1e-ed90-41c5-a7b9-160dce653147",
   "metadata": {},
   "source": [
    "### Accuracy Code"
   ]
  },
  {
   "cell_type": "code",
   "execution_count": 7,
   "id": "8243c28a-da83-4610-902d-817f9479340d",
   "metadata": {},
   "outputs": [],
   "source": [
    "# Accuracy code\n",
    "#KNN model\n",
    "ray.init(address=\"auto\")\n",
    "with joblib.parallel_backend('ray'):\n",
    "    knn_model = KNeighborsRegressor(n_neighbors=5)\n",
    "    knn_model.fit(X_train_reg, y_train_reg)\n",
    "    acc = knn_model.score(X_test_reg, y_test_reg)"
   ]
  },
  {
   "cell_type": "code",
   "execution_count": 8,
   "id": "36948b8e-bd1b-4f6e-a815-8d437e2f8f7c",
   "metadata": {},
   "outputs": [
    {
     "data": {
      "text/plain": [
       "0.6196041454692904"
      ]
     },
     "execution_count": 8,
     "metadata": {},
     "output_type": "execute_result"
    }
   ],
   "source": [
    "acc"
   ]
  },
  {
   "cell_type": "markdown",
   "id": "948a26fe-bde9-4c47-82a0-6241024a7487",
   "metadata": {},
   "source": [
    "## K-Means Model"
   ]
  },
  {
   "cell_type": "markdown",
   "id": "a32708d2-c5cb-408f-9d60-32634a4d6df9",
   "metadata": {},
   "source": [
    "### Timing Code"
   ]
  },
  {
   "cell_type": "code",
   "execution_count": 7,
   "id": "d2222c94-8adf-4b27-bdd2-3995e55a8e83",
   "metadata": {},
   "outputs": [
    {
     "name": "stdout",
     "output_type": "stream",
     "text": [
      "8.33 s ± 484 ms per loop (mean ± std. dev. of 7 runs, 1 loop each)\n"
     ]
    }
   ],
   "source": [
    "%%timeit\n",
    "#K-Means\n",
    "ray.init(address=\"auto\")\n",
    "with joblib.parallel_backend('ray'):\n",
    "    kmeans_model = KMeans(n_clusters=2, random_state=5110, n_init=\"auto\")\n",
    "    kmeans_model.fit(X_train_reg)"
   ]
  },
  {
   "cell_type": "markdown",
   "id": "0740ceff-1419-4c01-a491-17d3a892d9c1",
   "metadata": {},
   "source": [
    "### Accuracy Code for K-MEANS N/A"
   ]
  },
  {
   "cell_type": "code",
   "execution_count": 10,
   "id": "89878300-8fc2-4808-9c37-244d13c3f6de",
   "metadata": {},
   "outputs": [],
   "source": [
    "# Hehe"
   ]
  },
  {
   "cell_type": "markdown",
   "id": "5c643697-a9be-4e09-a2f6-b5f4f5aae094",
   "metadata": {},
   "source": [
    "## Random Forest Model"
   ]
  },
  {
   "cell_type": "markdown",
   "id": "fac988e0-8776-4a09-b5fd-780ad1476a2d",
   "metadata": {},
   "source": [
    "### Timing Code"
   ]
  },
  {
   "cell_type": "code",
   "execution_count": 8,
   "id": "a663b55d-1786-48dc-9b05-f4ccab544c83",
   "metadata": {},
   "outputs": [
    {
     "name": "stdout",
     "output_type": "stream",
     "text": [
      "5min 21s ± 2.17 s per loop (mean ± std. dev. of 7 runs, 1 loop each)\n"
     ]
    }
   ],
   "source": [
    "%%timeit\n",
    "#Random Forest\n",
    "ray.init(address=\"auto\")\n",
    "with joblib.parallel_backend('ray'):\n",
    "    rf_model = RandomForestRegressor(max_depth=2, random_state=5110)\n",
    "    rf_model.fit(X_train_reg, y_train_reg)\n",
    "   \n",
    "    y_pred = rf_model.predict(X_test_reg)\n",
    "    mse = mean_squared_error(y_test_reg, y_pred)"
   ]
  },
  {
   "cell_type": "markdown",
   "id": "d8c63524-5129-4c53-a6ba-36e40ef89540",
   "metadata": {},
   "source": [
    "### Accuracy Code"
   ]
  },
  {
   "cell_type": "code",
   "execution_count": 12,
   "id": "7d9f987f-c265-4295-bbcc-9a505cff73ed",
   "metadata": {},
   "outputs": [
    {
     "ename": "KeyboardInterrupt",
     "evalue": "",
     "output_type": "error",
     "traceback": [
      "\u001b[0;31m---------------------------------------------------------------------------\u001b[0m",
      "\u001b[0;31mKeyboardInterrupt\u001b[0m                         Traceback (most recent call last)",
      "Cell \u001b[0;32mIn[12], line 4\u001b[0m\n\u001b[1;32m      2\u001b[0m \u001b[38;5;28;01mwith\u001b[39;00m joblib\u001b[38;5;241m.\u001b[39mparallel_backend(\u001b[38;5;124m'\u001b[39m\u001b[38;5;124mdask\u001b[39m\u001b[38;5;124m'\u001b[39m):\n\u001b[1;32m      3\u001b[0m     rf_model \u001b[38;5;241m=\u001b[39m RandomForestRegressor(max_depth\u001b[38;5;241m=\u001b[39m\u001b[38;5;241m2\u001b[39m, random_state\u001b[38;5;241m=\u001b[39m\u001b[38;5;241m5110\u001b[39m)\n\u001b[0;32m----> 4\u001b[0m     \u001b[43mrf_model\u001b[49m\u001b[38;5;241;43m.\u001b[39;49m\u001b[43mfit\u001b[49m\u001b[43m(\u001b[49m\u001b[43mX_train_reg\u001b[49m\u001b[43m,\u001b[49m\u001b[43m \u001b[49m\u001b[43my_train_reg\u001b[49m\u001b[43m)\u001b[49m\n\u001b[1;32m      6\u001b[0m     y_pred \u001b[38;5;241m=\u001b[39m rf_model\u001b[38;5;241m.\u001b[39mpredict(X_test_reg)\n\u001b[1;32m      7\u001b[0m     mse \u001b[38;5;241m=\u001b[39m mean_squared_error(y_test_reg, y_pred)\n",
      "File \u001b[0;32m~/.local/lib/python3.10/site-packages/sklearn/base.py:1474\u001b[0m, in \u001b[0;36m_fit_context.<locals>.decorator.<locals>.wrapper\u001b[0;34m(estimator, *args, **kwargs)\u001b[0m\n\u001b[1;32m   1467\u001b[0m     estimator\u001b[38;5;241m.\u001b[39m_validate_params()\n\u001b[1;32m   1469\u001b[0m \u001b[38;5;28;01mwith\u001b[39;00m config_context(\n\u001b[1;32m   1470\u001b[0m     skip_parameter_validation\u001b[38;5;241m=\u001b[39m(\n\u001b[1;32m   1471\u001b[0m         prefer_skip_nested_validation \u001b[38;5;129;01mor\u001b[39;00m global_skip_validation\n\u001b[1;32m   1472\u001b[0m     )\n\u001b[1;32m   1473\u001b[0m ):\n\u001b[0;32m-> 1474\u001b[0m     \u001b[38;5;28;01mreturn\u001b[39;00m \u001b[43mfit_method\u001b[49m\u001b[43m(\u001b[49m\u001b[43mestimator\u001b[49m\u001b[43m,\u001b[49m\u001b[43m \u001b[49m\u001b[38;5;241;43m*\u001b[39;49m\u001b[43margs\u001b[49m\u001b[43m,\u001b[49m\u001b[43m \u001b[49m\u001b[38;5;241;43m*\u001b[39;49m\u001b[38;5;241;43m*\u001b[39;49m\u001b[43mkwargs\u001b[49m\u001b[43m)\u001b[49m\n",
      "File \u001b[0;32m~/.local/lib/python3.10/site-packages/sklearn/ensemble/_forest.py:489\u001b[0m, in \u001b[0;36mBaseForest.fit\u001b[0;34m(self, X, y, sample_weight)\u001b[0m\n\u001b[1;32m    478\u001b[0m trees \u001b[38;5;241m=\u001b[39m [\n\u001b[1;32m    479\u001b[0m     \u001b[38;5;28mself\u001b[39m\u001b[38;5;241m.\u001b[39m_make_estimator(append\u001b[38;5;241m=\u001b[39m\u001b[38;5;28;01mFalse\u001b[39;00m, random_state\u001b[38;5;241m=\u001b[39mrandom_state)\n\u001b[1;32m    480\u001b[0m     \u001b[38;5;28;01mfor\u001b[39;00m i \u001b[38;5;129;01min\u001b[39;00m \u001b[38;5;28mrange\u001b[39m(n_more_estimators)\n\u001b[1;32m    481\u001b[0m ]\n\u001b[1;32m    483\u001b[0m \u001b[38;5;66;03m# Parallel loop: we prefer the threading backend as the Cython code\u001b[39;00m\n\u001b[1;32m    484\u001b[0m \u001b[38;5;66;03m# for fitting the trees is internally releasing the Python GIL\u001b[39;00m\n\u001b[1;32m    485\u001b[0m \u001b[38;5;66;03m# making threading more efficient than multiprocessing in\u001b[39;00m\n\u001b[1;32m    486\u001b[0m \u001b[38;5;66;03m# that case. However, for joblib 0.12+ we respect any\u001b[39;00m\n\u001b[1;32m    487\u001b[0m \u001b[38;5;66;03m# parallel_backend contexts set at a higher level,\u001b[39;00m\n\u001b[1;32m    488\u001b[0m \u001b[38;5;66;03m# since correctness does not rely on using threads.\u001b[39;00m\n\u001b[0;32m--> 489\u001b[0m trees \u001b[38;5;241m=\u001b[39m \u001b[43mParallel\u001b[49m\u001b[43m(\u001b[49m\n\u001b[1;32m    490\u001b[0m \u001b[43m    \u001b[49m\u001b[43mn_jobs\u001b[49m\u001b[38;5;241;43m=\u001b[39;49m\u001b[38;5;28;43mself\u001b[39;49m\u001b[38;5;241;43m.\u001b[39;49m\u001b[43mn_jobs\u001b[49m\u001b[43m,\u001b[49m\n\u001b[1;32m    491\u001b[0m \u001b[43m    \u001b[49m\u001b[43mverbose\u001b[49m\u001b[38;5;241;43m=\u001b[39;49m\u001b[38;5;28;43mself\u001b[39;49m\u001b[38;5;241;43m.\u001b[39;49m\u001b[43mverbose\u001b[49m\u001b[43m,\u001b[49m\n\u001b[1;32m    492\u001b[0m \u001b[43m    \u001b[49m\u001b[43mprefer\u001b[49m\u001b[38;5;241;43m=\u001b[39;49m\u001b[38;5;124;43m\"\u001b[39;49m\u001b[38;5;124;43mthreads\u001b[39;49m\u001b[38;5;124;43m\"\u001b[39;49m\u001b[43m,\u001b[49m\n\u001b[1;32m    493\u001b[0m \u001b[43m\u001b[49m\u001b[43m)\u001b[49m\u001b[43m(\u001b[49m\n\u001b[1;32m    494\u001b[0m \u001b[43m    \u001b[49m\u001b[43mdelayed\u001b[49m\u001b[43m(\u001b[49m\u001b[43m_parallel_build_trees\u001b[49m\u001b[43m)\u001b[49m\u001b[43m(\u001b[49m\n\u001b[1;32m    495\u001b[0m \u001b[43m        \u001b[49m\u001b[43mt\u001b[49m\u001b[43m,\u001b[49m\n\u001b[1;32m    496\u001b[0m \u001b[43m        \u001b[49m\u001b[38;5;28;43mself\u001b[39;49m\u001b[38;5;241;43m.\u001b[39;49m\u001b[43mbootstrap\u001b[49m\u001b[43m,\u001b[49m\n\u001b[1;32m    497\u001b[0m \u001b[43m        \u001b[49m\u001b[43mX\u001b[49m\u001b[43m,\u001b[49m\n\u001b[1;32m    498\u001b[0m \u001b[43m        \u001b[49m\u001b[43my\u001b[49m\u001b[43m,\u001b[49m\n\u001b[1;32m    499\u001b[0m \u001b[43m        \u001b[49m\u001b[43msample_weight\u001b[49m\u001b[43m,\u001b[49m\n\u001b[1;32m    500\u001b[0m \u001b[43m        \u001b[49m\u001b[43mi\u001b[49m\u001b[43m,\u001b[49m\n\u001b[1;32m    501\u001b[0m \u001b[43m        \u001b[49m\u001b[38;5;28;43mlen\u001b[39;49m\u001b[43m(\u001b[49m\u001b[43mtrees\u001b[49m\u001b[43m)\u001b[49m\u001b[43m,\u001b[49m\n\u001b[1;32m    502\u001b[0m \u001b[43m        \u001b[49m\u001b[43mverbose\u001b[49m\u001b[38;5;241;43m=\u001b[39;49m\u001b[38;5;28;43mself\u001b[39;49m\u001b[38;5;241;43m.\u001b[39;49m\u001b[43mverbose\u001b[49m\u001b[43m,\u001b[49m\n\u001b[1;32m    503\u001b[0m \u001b[43m        \u001b[49m\u001b[43mclass_weight\u001b[49m\u001b[38;5;241;43m=\u001b[39;49m\u001b[38;5;28;43mself\u001b[39;49m\u001b[38;5;241;43m.\u001b[39;49m\u001b[43mclass_weight\u001b[49m\u001b[43m,\u001b[49m\n\u001b[1;32m    504\u001b[0m \u001b[43m        \u001b[49m\u001b[43mn_samples_bootstrap\u001b[49m\u001b[38;5;241;43m=\u001b[39;49m\u001b[43mn_samples_bootstrap\u001b[49m\u001b[43m,\u001b[49m\n\u001b[1;32m    505\u001b[0m \u001b[43m        \u001b[49m\u001b[43mmissing_values_in_feature_mask\u001b[49m\u001b[38;5;241;43m=\u001b[39;49m\u001b[43mmissing_values_in_feature_mask\u001b[49m\u001b[43m,\u001b[49m\n\u001b[1;32m    506\u001b[0m \u001b[43m    \u001b[49m\u001b[43m)\u001b[49m\n\u001b[1;32m    507\u001b[0m \u001b[43m    \u001b[49m\u001b[38;5;28;43;01mfor\u001b[39;49;00m\u001b[43m \u001b[49m\u001b[43mi\u001b[49m\u001b[43m,\u001b[49m\u001b[43m \u001b[49m\u001b[43mt\u001b[49m\u001b[43m \u001b[49m\u001b[38;5;129;43;01min\u001b[39;49;00m\u001b[43m \u001b[49m\u001b[38;5;28;43menumerate\u001b[39;49m\u001b[43m(\u001b[49m\u001b[43mtrees\u001b[49m\u001b[43m)\u001b[49m\n\u001b[1;32m    508\u001b[0m \u001b[43m\u001b[49m\u001b[43m)\u001b[49m\n\u001b[1;32m    510\u001b[0m \u001b[38;5;66;03m# Collect newly grown trees\u001b[39;00m\n\u001b[1;32m    511\u001b[0m \u001b[38;5;28mself\u001b[39m\u001b[38;5;241m.\u001b[39mestimators_\u001b[38;5;241m.\u001b[39mextend(trees)\n",
      "File \u001b[0;32m~/.local/lib/python3.10/site-packages/sklearn/utils/parallel.py:67\u001b[0m, in \u001b[0;36mParallel.__call__\u001b[0;34m(self, iterable)\u001b[0m\n\u001b[1;32m     62\u001b[0m config \u001b[38;5;241m=\u001b[39m get_config()\n\u001b[1;32m     63\u001b[0m iterable_with_config \u001b[38;5;241m=\u001b[39m (\n\u001b[1;32m     64\u001b[0m     (_with_config(delayed_func, config), args, kwargs)\n\u001b[1;32m     65\u001b[0m     \u001b[38;5;28;01mfor\u001b[39;00m delayed_func, args, kwargs \u001b[38;5;129;01min\u001b[39;00m iterable\n\u001b[1;32m     66\u001b[0m )\n\u001b[0;32m---> 67\u001b[0m \u001b[38;5;28;01mreturn\u001b[39;00m \u001b[38;5;28;43msuper\u001b[39;49m\u001b[43m(\u001b[49m\u001b[43m)\u001b[49m\u001b[38;5;241;43m.\u001b[39;49m\u001b[38;5;21;43m__call__\u001b[39;49m\u001b[43m(\u001b[49m\u001b[43miterable_with_config\u001b[49m\u001b[43m)\u001b[49m\n",
      "File \u001b[0;32m~/.local/lib/python3.10/site-packages/joblib/parallel.py:1952\u001b[0m, in \u001b[0;36mParallel.__call__\u001b[0;34m(self, iterable)\u001b[0m\n\u001b[1;32m   1946\u001b[0m \u001b[38;5;66;03m# The first item from the output is blank, but it makes the interpreter\u001b[39;00m\n\u001b[1;32m   1947\u001b[0m \u001b[38;5;66;03m# progress until it enters the Try/Except block of the generator and\u001b[39;00m\n\u001b[1;32m   1948\u001b[0m \u001b[38;5;66;03m# reach the first `yield` statement. This starts the aynchronous\u001b[39;00m\n\u001b[1;32m   1949\u001b[0m \u001b[38;5;66;03m# dispatch of the tasks to the workers.\u001b[39;00m\n\u001b[1;32m   1950\u001b[0m \u001b[38;5;28mnext\u001b[39m(output)\n\u001b[0;32m-> 1952\u001b[0m \u001b[38;5;28;01mreturn\u001b[39;00m output \u001b[38;5;28;01mif\u001b[39;00m \u001b[38;5;28mself\u001b[39m\u001b[38;5;241m.\u001b[39mreturn_generator \u001b[38;5;28;01melse\u001b[39;00m \u001b[38;5;28;43mlist\u001b[39;49m\u001b[43m(\u001b[49m\u001b[43moutput\u001b[49m\u001b[43m)\u001b[49m\n",
      "File \u001b[0;32m~/.local/lib/python3.10/site-packages/joblib/parallel.py:1595\u001b[0m, in \u001b[0;36mParallel._get_outputs\u001b[0;34m(self, iterator, pre_dispatch)\u001b[0m\n\u001b[1;32m   1592\u001b[0m     \u001b[38;5;28;01myield\u001b[39;00m\n\u001b[1;32m   1594\u001b[0m     \u001b[38;5;28;01mwith\u001b[39;00m \u001b[38;5;28mself\u001b[39m\u001b[38;5;241m.\u001b[39m_backend\u001b[38;5;241m.\u001b[39mretrieval_context():\n\u001b[0;32m-> 1595\u001b[0m         \u001b[38;5;28;01myield from\u001b[39;00m \u001b[38;5;28mself\u001b[39m\u001b[38;5;241m.\u001b[39m_retrieve()\n\u001b[1;32m   1597\u001b[0m \u001b[38;5;28;01mexcept\u001b[39;00m \u001b[38;5;167;01mGeneratorExit\u001b[39;00m:\n\u001b[1;32m   1598\u001b[0m     \u001b[38;5;66;03m# The generator has been garbage collected before being fully\u001b[39;00m\n\u001b[1;32m   1599\u001b[0m     \u001b[38;5;66;03m# consumed. This aborts the remaining tasks if possible and warn\u001b[39;00m\n\u001b[1;32m   1600\u001b[0m     \u001b[38;5;66;03m# the user if necessary.\u001b[39;00m\n\u001b[1;32m   1601\u001b[0m     \u001b[38;5;28mself\u001b[39m\u001b[38;5;241m.\u001b[39m_exception \u001b[38;5;241m=\u001b[39m \u001b[38;5;28;01mTrue\u001b[39;00m\n",
      "File \u001b[0;32m~/.local/lib/python3.10/site-packages/joblib/parallel.py:1717\u001b[0m, in \u001b[0;36mParallel._retrieve\u001b[0;34m(self)\u001b[0m\n\u001b[1;32m   1714\u001b[0m     batched_results \u001b[38;5;241m=\u001b[39m \u001b[38;5;28mself\u001b[39m\u001b[38;5;241m.\u001b[39m_jobs\u001b[38;5;241m.\u001b[39mpopleft()\n\u001b[1;32m   1716\u001b[0m \u001b[38;5;66;03m# Flatten the batched results to output one output at a time\u001b[39;00m\n\u001b[0;32m-> 1717\u001b[0m batched_results \u001b[38;5;241m=\u001b[39m \u001b[43mbatched_results\u001b[49m\u001b[38;5;241;43m.\u001b[39;49m\u001b[43mget_result\u001b[49m\u001b[43m(\u001b[49m\u001b[38;5;28;43mself\u001b[39;49m\u001b[38;5;241;43m.\u001b[39;49m\u001b[43mtimeout\u001b[49m\u001b[43m)\u001b[49m\n\u001b[1;32m   1718\u001b[0m \u001b[38;5;28;01mfor\u001b[39;00m result \u001b[38;5;129;01min\u001b[39;00m batched_results:\n\u001b[1;32m   1719\u001b[0m     \u001b[38;5;28mself\u001b[39m\u001b[38;5;241m.\u001b[39m_nb_consumed \u001b[38;5;241m+\u001b[39m\u001b[38;5;241m=\u001b[39m \u001b[38;5;241m1\u001b[39m\n",
      "File \u001b[0;32m~/.local/lib/python3.10/site-packages/joblib/parallel.py:749\u001b[0m, in \u001b[0;36mBatchCompletionCallBack.get_result\u001b[0;34m(self, timeout)\u001b[0m\n\u001b[1;32m    746\u001b[0m     outcome \u001b[38;5;241m=\u001b[39m \u001b[38;5;28mdict\u001b[39m(result\u001b[38;5;241m=\u001b[39me, status\u001b[38;5;241m=\u001b[39mTASK_ERROR)\n\u001b[1;32m    747\u001b[0m \u001b[38;5;28mself\u001b[39m\u001b[38;5;241m.\u001b[39m_register_outcome(outcome)\n\u001b[0;32m--> 749\u001b[0m \u001b[38;5;28;01mreturn\u001b[39;00m \u001b[38;5;28;43mself\u001b[39;49m\u001b[38;5;241;43m.\u001b[39;49m\u001b[43m_return_or_raise\u001b[49m\u001b[43m(\u001b[49m\u001b[43m)\u001b[49m\n",
      "File \u001b[0;32m~/.local/lib/python3.10/site-packages/joblib/parallel.py:754\u001b[0m, in \u001b[0;36mBatchCompletionCallBack._return_or_raise\u001b[0;34m(self)\u001b[0m\n\u001b[1;32m    752\u001b[0m \u001b[38;5;28;01mtry\u001b[39;00m:\n\u001b[1;32m    753\u001b[0m     \u001b[38;5;28;01mif\u001b[39;00m \u001b[38;5;28mself\u001b[39m\u001b[38;5;241m.\u001b[39mstatus \u001b[38;5;241m==\u001b[39m TASK_ERROR:\n\u001b[0;32m--> 754\u001b[0m         \u001b[38;5;28;01mraise\u001b[39;00m \u001b[38;5;28mself\u001b[39m\u001b[38;5;241m.\u001b[39m_result\n\u001b[1;32m    755\u001b[0m     \u001b[38;5;28;01mreturn\u001b[39;00m \u001b[38;5;28mself\u001b[39m\u001b[38;5;241m.\u001b[39m_result\n\u001b[1;32m    756\u001b[0m \u001b[38;5;28;01mfinally\u001b[39;00m:\n",
      "File \u001b[0;32m~/.local/lib/python3.10/site-packages/joblib/parallel.py:741\u001b[0m, in \u001b[0;36mBatchCompletionCallBack.get_result\u001b[0;34m(self, timeout)\u001b[0m\n\u001b[1;32m    739\u001b[0m \u001b[38;5;28;01mtry\u001b[39;00m:\n\u001b[1;32m    740\u001b[0m     \u001b[38;5;28;01mif\u001b[39;00m backend\u001b[38;5;241m.\u001b[39msupports_timeout:\n\u001b[0;32m--> 741\u001b[0m         result \u001b[38;5;241m=\u001b[39m \u001b[38;5;28;43mself\u001b[39;49m\u001b[38;5;241;43m.\u001b[39;49m\u001b[43mjob\u001b[49m\u001b[38;5;241;43m.\u001b[39;49m\u001b[43mget\u001b[49m\u001b[43m(\u001b[49m\u001b[43mtimeout\u001b[49m\u001b[38;5;241;43m=\u001b[39;49m\u001b[43mtimeout\u001b[49m\u001b[43m)\u001b[49m\n\u001b[1;32m    742\u001b[0m     \u001b[38;5;28;01melse\u001b[39;00m:\n\u001b[1;32m    743\u001b[0m         result \u001b[38;5;241m=\u001b[39m \u001b[38;5;28mself\u001b[39m\u001b[38;5;241m.\u001b[39mjob\u001b[38;5;241m.\u001b[39mget()\n",
      "File \u001b[0;32m/usr/lib/python3.10/concurrent/futures/_base.py:453\u001b[0m, in \u001b[0;36mFuture.result\u001b[0;34m(self, timeout)\u001b[0m\n\u001b[1;32m    450\u001b[0m \u001b[38;5;28;01melif\u001b[39;00m \u001b[38;5;28mself\u001b[39m\u001b[38;5;241m.\u001b[39m_state \u001b[38;5;241m==\u001b[39m FINISHED:\n\u001b[1;32m    451\u001b[0m     \u001b[38;5;28;01mreturn\u001b[39;00m \u001b[38;5;28mself\u001b[39m\u001b[38;5;241m.\u001b[39m__get_result()\n\u001b[0;32m--> 453\u001b[0m \u001b[38;5;28;43mself\u001b[39;49m\u001b[38;5;241;43m.\u001b[39;49m\u001b[43m_condition\u001b[49m\u001b[38;5;241;43m.\u001b[39;49m\u001b[43mwait\u001b[49m\u001b[43m(\u001b[49m\u001b[43mtimeout\u001b[49m\u001b[43m)\u001b[49m\n\u001b[1;32m    455\u001b[0m \u001b[38;5;28;01mif\u001b[39;00m \u001b[38;5;28mself\u001b[39m\u001b[38;5;241m.\u001b[39m_state \u001b[38;5;129;01min\u001b[39;00m [CANCELLED, CANCELLED_AND_NOTIFIED]:\n\u001b[1;32m    456\u001b[0m     \u001b[38;5;28;01mraise\u001b[39;00m CancelledError()\n",
      "File \u001b[0;32m/usr/lib/python3.10/threading.py:320\u001b[0m, in \u001b[0;36mCondition.wait\u001b[0;34m(self, timeout)\u001b[0m\n\u001b[1;32m    318\u001b[0m \u001b[38;5;28;01mtry\u001b[39;00m:    \u001b[38;5;66;03m# restore state no matter what (e.g., KeyboardInterrupt)\u001b[39;00m\n\u001b[1;32m    319\u001b[0m     \u001b[38;5;28;01mif\u001b[39;00m timeout \u001b[38;5;129;01mis\u001b[39;00m \u001b[38;5;28;01mNone\u001b[39;00m:\n\u001b[0;32m--> 320\u001b[0m         \u001b[43mwaiter\u001b[49m\u001b[38;5;241;43m.\u001b[39;49m\u001b[43macquire\u001b[49m\u001b[43m(\u001b[49m\u001b[43m)\u001b[49m\n\u001b[1;32m    321\u001b[0m         gotit \u001b[38;5;241m=\u001b[39m \u001b[38;5;28;01mTrue\u001b[39;00m\n\u001b[1;32m    322\u001b[0m     \u001b[38;5;28;01melse\u001b[39;00m:\n",
      "\u001b[0;31mKeyboardInterrupt\u001b[0m: "
     ]
    }
   ],
   "source": [
    "#Random Forest\n",
    "ray.init(address=\"auto\")\n",
    "with joblib.parallel_backend('ray'):\n",
    "    rf_model = RandomForestRegressor(max_depth=2, random_state=5110)\n",
    "    rf_model.fit(X_train_reg, y_train_reg)\n",
    "   \n",
    "    y_pred = rf_model.predict(X_test_reg)\n",
    "    mse = mean_squared_error(y_test_reg, y_pred)"
   ]
  },
  {
   "cell_type": "code",
   "execution_count": null,
   "id": "df3b2640-0705-431c-a816-a89be538a6d1",
   "metadata": {},
   "outputs": [],
   "source": [
    "np.sqrt(mse)"
   ]
  },
  {
   "cell_type": "code",
   "execution_count": null,
   "id": "87331dd7-5e48-4d48-a1c6-c5b836458d1b",
   "metadata": {},
   "outputs": [],
   "source": [
    "data.baseFare.describe()"
   ]
  },
  {
   "cell_type": "code",
   "execution_count": null,
   "id": "58f09070-747a-4460-b3c5-2b86c90c7646",
   "metadata": {},
   "outputs": [],
   "source": [
    "#SVM\n",
    "ray.init(address=\"auto\")\n",
    "with joblib.parallel_backend('ray'):\n",
    "    svm_model = LinearSVC(random_state=5110, multi_class='ovr')\n",
    "    svm_model.fit(X_train_class, y_train_class)\n",
    "    acc = svm_model.score(X_test_class, y_test_class)"
   ]
  },
  {
   "cell_type": "code",
   "execution_count": null,
   "id": "43803a18-3ab9-4db0-aed5-14229099469d",
   "metadata": {},
   "outputs": [],
   "source": []
  }
 ],
 "metadata": {
  "kernelspec": {
   "display_name": "Python 3 (ipykernel)",
   "language": "python",
   "name": "python3"
  },
  "language_info": {
   "codemirror_mode": {
    "name": "ipython",
    "version": 3
   },
   "file_extension": ".py",
   "mimetype": "text/x-python",
   "name": "python",
   "nbconvert_exporter": "python",
   "pygments_lexer": "ipython3",
   "version": "3.10.12"
  }
 },
 "nbformat": 4,
 "nbformat_minor": 5
}
