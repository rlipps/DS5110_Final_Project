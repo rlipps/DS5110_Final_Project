{
 "cells": [
  {
   "cell_type": "markdown",
   "id": "59eb5699-7769-483a-9dd5-448535ac6bf1",
   "metadata": {},
   "source": [
    "# Dask Implementation"
   ]
  },
  {
   "cell_type": "code",
   "execution_count": 1,
   "id": "5e43b710-17f6-40b9-9202-764ede611e5c",
   "metadata": {},
   "outputs": [],
   "source": [
    "import numpy as np\n",
    "import pandas as pd\n",
    "import warnings\n",
    "import time\n",
    "import dask\n",
    "import dask.dataframe as dd\n",
    "import matplotlib.pyplot as plt\n",
    "from dask.distributed import Client\n",
    "from dask_ml.cluster import KMeans\n",
    "from dask_ml.linear_model import LogisticRegression, LinearRegression\n",
    "\n",
    "SEED = 42"
   ]
  },
  {
   "cell_type": "code",
   "execution_count": 2,
   "id": "f1e78c27-70f3-4bd1-82c8-3ec095bb580e",
   "metadata": {},
   "outputs": [],
   "source": [
    "warnings.filterwarnings(\"ignore\")"
   ]
  },
  {
   "cell_type": "code",
   "execution_count": 3,
   "id": "0e286cb2-9979-445d-a8ce-2082de004281",
   "metadata": {},
   "outputs": [
    {
     "name": "stdout",
     "output_type": "stream",
     "text": [
      "<Client: 'tcp://172.31.88.97:8786' processes=0 threads=0, memory=0 B>\n"
     ]
    }
   ],
   "source": [
    "client = Client('172.31.88.97:8786')\n",
    "client = client.restart()\n",
    "print(client)"
   ]
  },
  {
   "cell_type": "code",
   "execution_count": 7,
   "id": "df640b1b-0d4e-4c82-ba7d-828e9de0616a",
   "metadata": {},
   "outputs": [],
   "source": [
    "testx, testy = make_classification()"
   ]
  },
  {
   "cell_type": "code",
   "execution_count": 8,
   "id": "cbf26ab9-d0f5-4aec-851c-b4000aeba5b4",
   "metadata": {},
   "outputs": [
    {
     "data": {
      "text/plain": [
       "(1000, 100)"
      ]
     },
     "execution_count": 8,
     "metadata": {},
     "output_type": "execute_result"
    }
   ],
   "source": [
    "testx.shape"
   ]
  },
  {
   "cell_type": "code",
   "execution_count": 10,
   "id": "81f22a33-2b0c-40e8-b3ee-ae39aac24739",
   "metadata": {},
   "outputs": [
    {
     "data": {
      "text/html": [
       "<table>\n",
       "    <tr>\n",
       "        <td>\n",
       "            <table style=\"border-collapse: collapse;\">\n",
       "                <thead>\n",
       "                    <tr>\n",
       "                        <td> </td>\n",
       "                        <th> Array </th>\n",
       "                        <th> Chunk </th>\n",
       "                    </tr>\n",
       "                </thead>\n",
       "                <tbody>\n",
       "                    \n",
       "                    <tr>\n",
       "                        <th> Bytes </th>\n",
       "                        <td> 781.25 kiB </td>\n",
       "                        <td> 78.12 kiB </td>\n",
       "                    </tr>\n",
       "                    \n",
       "                    <tr>\n",
       "                        <th> Shape </th>\n",
       "                        <td> (1000, 100) </td>\n",
       "                        <td> (100, 100) </td>\n",
       "                    </tr>\n",
       "                    <tr>\n",
       "                        <th> Dask graph </th>\n",
       "                        <td colspan=\"2\"> 10 chunks in 1 graph layer </td>\n",
       "                    </tr>\n",
       "                    <tr>\n",
       "                        <th> Data type </th>\n",
       "                        <td colspan=\"2\"> float64 numpy.ndarray </td>\n",
       "                    </tr>\n",
       "                </tbody>\n",
       "            </table>\n",
       "        </td>\n",
       "        <td>\n",
       "        <svg width=\"88\" height=\"170\" style=\"stroke:rgb(0,0,0);stroke-width:1\" >\n",
       "\n",
       "  <!-- Horizontal lines -->\n",
       "  <line x1=\"0\" y1=\"0\" x2=\"38\" y2=\"0\" style=\"stroke-width:2\" />\n",
       "  <line x1=\"0\" y1=\"12\" x2=\"38\" y2=\"12\" />\n",
       "  <line x1=\"0\" y1=\"24\" x2=\"38\" y2=\"24\" />\n",
       "  <line x1=\"0\" y1=\"36\" x2=\"38\" y2=\"36\" />\n",
       "  <line x1=\"0\" y1=\"48\" x2=\"38\" y2=\"48\" />\n",
       "  <line x1=\"0\" y1=\"60\" x2=\"38\" y2=\"60\" />\n",
       "  <line x1=\"0\" y1=\"72\" x2=\"38\" y2=\"72\" />\n",
       "  <line x1=\"0\" y1=\"84\" x2=\"38\" y2=\"84\" />\n",
       "  <line x1=\"0\" y1=\"96\" x2=\"38\" y2=\"96\" />\n",
       "  <line x1=\"0\" y1=\"108\" x2=\"38\" y2=\"108\" />\n",
       "  <line x1=\"0\" y1=\"120\" x2=\"38\" y2=\"120\" style=\"stroke-width:2\" />\n",
       "\n",
       "  <!-- Vertical lines -->\n",
       "  <line x1=\"0\" y1=\"0\" x2=\"0\" y2=\"120\" style=\"stroke-width:2\" />\n",
       "  <line x1=\"38\" y1=\"0\" x2=\"38\" y2=\"120\" style=\"stroke-width:2\" />\n",
       "\n",
       "  <!-- Colored Rectangle -->\n",
       "  <polygon points=\"0.0,0.0 38.596863036086,0.0 38.596863036086,120.0 0.0,120.0\" style=\"fill:#ECB172A0;stroke-width:0\"/>\n",
       "\n",
       "  <!-- Text -->\n",
       "  <text x=\"19.298432\" y=\"140.000000\" font-size=\"1.0rem\" font-weight=\"100\" text-anchor=\"middle\" >100</text>\n",
       "  <text x=\"58.596863\" y=\"60.000000\" font-size=\"1.0rem\" font-weight=\"100\" text-anchor=\"middle\" transform=\"rotate(-90,58.596863,60.000000)\">1000</text>\n",
       "</svg>\n",
       "        </td>\n",
       "    </tr>\n",
       "</table>"
      ],
      "text/plain": [
       "dask.array<normal, shape=(1000, 100), dtype=float64, chunksize=(100, 100), chunktype=numpy.ndarray>"
      ]
     },
     "execution_count": 10,
     "metadata": {},
     "output_type": "execute_result"
    }
   ],
   "source": [
    "testx"
   ]
  },
  {
   "cell_type": "code",
   "execution_count": 9,
   "id": "155136c8-d8f4-4582-9d49-321eb4bc1102",
   "metadata": {},
   "outputs": [
    {
     "data": {
      "text/plain": [
       "(1000,)"
      ]
     },
     "execution_count": 9,
     "metadata": {},
     "output_type": "execute_result"
    }
   ],
   "source": [
    "testy.shape"
   ]
  },
  {
   "cell_type": "markdown",
   "id": "1082cc72-6688-4eeb-80e0-6a6f5fbbe60d",
   "metadata": {},
   "source": [
    "## Read data"
   ]
  },
  {
   "cell_type": "code",
   "execution_count": 4,
   "id": "2083b8a8-945f-4a5d-9064-eadaa3589c70",
   "metadata": {},
   "outputs": [],
   "source": [
    "# Split data into X and y\n",
    "X_reg_train = pd.read_csv('/home/ubuntu/data/X_reg_train.csv')\n",
    "X_reg_test = pd.read_csv('/home/ubuntu/data/X_reg_test.csv')\n",
    "\n",
    "X_class_train = pd.read_csv('/home/ubuntu/data/X_class_train.csv')\n",
    "X_class_test = pd.read_csv('/home/ubuntu/data/X_class_test.csv')\n",
    "\n",
    "y_reg_train = pd.read_csv('/home/ubuntu/data/y_reg_train.csv')\n",
    "y_reg_test = pd.read_csv('/home/ubuntu/data/y_reg_test.csv')\n",
    "\n",
    "y_class_train = pd.read_csv('/home/ubuntu/data/y_class_train.csv')\n",
    "y_class_test = pd.read_csv('/home/ubuntu/data/y_class_test.csv')"
   ]
  },
  {
   "cell_type": "code",
   "execution_count": 35,
   "id": "892c1969-48e4-42b1-ad25-38df8cabb612",
   "metadata": {},
   "outputs": [],
   "source": [
    "X_class_train_subset = X_class_train.head(int(len(X_class_train) * 0.1))"
   ]
  },
  {
   "cell_type": "code",
   "execution_count": 36,
   "id": "a9a782e5-042a-43be-a788-49e3a826f8e6",
   "metadata": {},
   "outputs": [
    {
     "data": {
      "text/plain": [
       "1600000"
      ]
     },
     "execution_count": 36,
     "metadata": {},
     "output_type": "execute_result"
    }
   ],
   "source": [
    "X_class_train_subset.shape[0]"
   ]
  },
  {
   "cell_type": "code",
   "execution_count": 37,
   "id": "8bb56048-0a3e-4ef3-a3e2-a11a7cac9143",
   "metadata": {},
   "outputs": [],
   "source": [
    "dask_train = dd.from_pandas(X_class_train_subset)"
   ]
  },
  {
   "cell_type": "code",
   "execution_count": 38,
   "id": "6f13ca00-2e4f-42f4-ae24-af9609698837",
   "metadata": {},
   "outputs": [
    {
     "data": {
      "text/plain": [
       "1600000.0"
      ]
     },
     "execution_count": 38,
     "metadata": {},
     "output_type": "execute_result"
    }
   ],
   "source": [
    "dask_train.shape[0].compute()"
   ]
  },
  {
   "cell_type": "code",
   "execution_count": 39,
   "id": "7949b080-2d3c-4fd1-ba0f-f9b694953a7a",
   "metadata": {},
   "outputs": [
    {
     "name": "stderr",
     "output_type": "stream",
     "text": [
      "/home/ubuntu/.local/lib/python3.10/site-packages/distributed/client.py:3157: UserWarning: Sending large graph of size 48.83 MiB.\n",
      "This may cause some slowdown.\n",
      "Consider scattering data ahead of time and using futures.\n",
      "  warnings.warn(\n"
     ]
    }
   ],
   "source": [
    "dask_arr_train = dask_train.to_dask_array(lengths=True)"
   ]
  },
  {
   "cell_type": "code",
   "execution_count": 40,
   "id": "8668adcf-0a3d-45a0-b70a-79e821cb9256",
   "metadata": {},
   "outputs": [
    {
     "data": {
      "text/html": [
       "<table>\n",
       "    <tr>\n",
       "        <td>\n",
       "            <table style=\"border-collapse: collapse;\">\n",
       "                <thead>\n",
       "                    <tr>\n",
       "                        <td> </td>\n",
       "                        <th> Array </th>\n",
       "                        <th> Chunk </th>\n",
       "                    </tr>\n",
       "                </thead>\n",
       "                <tbody>\n",
       "                    \n",
       "                    <tr>\n",
       "                        <th> Bytes </th>\n",
       "                        <td> 48.83 MiB </td>\n",
       "                        <td> 48.83 MiB </td>\n",
       "                    </tr>\n",
       "                    \n",
       "                    <tr>\n",
       "                        <th> Shape </th>\n",
       "                        <td> (1600000, 4) </td>\n",
       "                        <td> (1600000, 4) </td>\n",
       "                    </tr>\n",
       "                    <tr>\n",
       "                        <th> Dask graph </th>\n",
       "                        <td colspan=\"2\"> 1 chunks in 2 graph layers </td>\n",
       "                    </tr>\n",
       "                    <tr>\n",
       "                        <th> Data type </th>\n",
       "                        <td colspan=\"2\"> float64 numpy.ndarray </td>\n",
       "                    </tr>\n",
       "                </tbody>\n",
       "            </table>\n",
       "        </td>\n",
       "        <td>\n",
       "        <svg width=\"75\" height=\"170\" style=\"stroke:rgb(0,0,0);stroke-width:1\" >\n",
       "\n",
       "  <!-- Horizontal lines -->\n",
       "  <line x1=\"0\" y1=\"0\" x2=\"25\" y2=\"0\" style=\"stroke-width:2\" />\n",
       "  <line x1=\"0\" y1=\"120\" x2=\"25\" y2=\"120\" style=\"stroke-width:2\" />\n",
       "\n",
       "  <!-- Vertical lines -->\n",
       "  <line x1=\"0\" y1=\"0\" x2=\"0\" y2=\"120\" style=\"stroke-width:2\" />\n",
       "  <line x1=\"25\" y1=\"0\" x2=\"25\" y2=\"120\" style=\"stroke-width:2\" />\n",
       "\n",
       "  <!-- Colored Rectangle -->\n",
       "  <polygon points=\"0.0,0.0 25.412616514582485,0.0 25.412616514582485,120.0 0.0,120.0\" style=\"fill:#ECB172A0;stroke-width:0\"/>\n",
       "\n",
       "  <!-- Text -->\n",
       "  <text x=\"12.706308\" y=\"140.000000\" font-size=\"1.0rem\" font-weight=\"100\" text-anchor=\"middle\" >4</text>\n",
       "  <text x=\"45.412617\" y=\"60.000000\" font-size=\"1.0rem\" font-weight=\"100\" text-anchor=\"middle\" transform=\"rotate(-90,45.412617,60.000000)\">1600000</text>\n",
       "</svg>\n",
       "        </td>\n",
       "    </tr>\n",
       "</table>"
      ],
      "text/plain": [
       "dask.array<values, shape=(1600000, 4), dtype=float64, chunksize=(1600000, 4), chunktype=numpy.ndarray>"
      ]
     },
     "execution_count": 40,
     "metadata": {},
     "output_type": "execute_result"
    }
   ],
   "source": [
    "dask_arr_train"
   ]
  },
  {
   "cell_type": "code",
   "execution_count": 41,
   "id": "ca163cfc-7f9a-4781-bf05-920ee7f2063b",
   "metadata": {},
   "outputs": [
    {
     "name": "stderr",
     "output_type": "stream",
     "text": [
      "/home/ubuntu/.local/lib/python3.10/site-packages/distributed/client.py:3157: UserWarning: Sending large graph of size 12.21 MiB.\n",
      "This may cause some slowdown.\n",
      "Consider scattering data ahead of time and using futures.\n",
      "  warnings.warn(\n"
     ]
    }
   ],
   "source": [
    "y_class_train_subset = y_class_train.head(int(len(y_class_train) * 0.1))\n",
    "dask_lab = dd.from_pandas(y_class_train_subset)\n",
    "dask_lab_arr = dask_lab.to_dask_array(lengths=True)"
   ]
  },
  {
   "cell_type": "code",
   "execution_count": 42,
   "id": "4dd5503d-84b2-4c6b-9408-41bbf3371e3c",
   "metadata": {},
   "outputs": [
    {
     "data": {
      "text/html": [
       "<table>\n",
       "    <tr>\n",
       "        <td>\n",
       "            <table style=\"border-collapse: collapse;\">\n",
       "                <thead>\n",
       "                    <tr>\n",
       "                        <td> </td>\n",
       "                        <th> Array </th>\n",
       "                        <th> Chunk </th>\n",
       "                    </tr>\n",
       "                </thead>\n",
       "                <tbody>\n",
       "                    \n",
       "                    <tr>\n",
       "                        <th> Bytes </th>\n",
       "                        <td> 12.21 MiB </td>\n",
       "                        <td> 12.21 MiB </td>\n",
       "                    </tr>\n",
       "                    \n",
       "                    <tr>\n",
       "                        <th> Shape </th>\n",
       "                        <td> (1600000, 1) </td>\n",
       "                        <td> (1600000, 1) </td>\n",
       "                    </tr>\n",
       "                    <tr>\n",
       "                        <th> Dask graph </th>\n",
       "                        <td colspan=\"2\"> 1 chunks in 2 graph layers </td>\n",
       "                    </tr>\n",
       "                    <tr>\n",
       "                        <th> Data type </th>\n",
       "                        <td colspan=\"2\"> int64 numpy.ndarray </td>\n",
       "                    </tr>\n",
       "                </tbody>\n",
       "            </table>\n",
       "        </td>\n",
       "        <td>\n",
       "        <svg width=\"75\" height=\"170\" style=\"stroke:rgb(0,0,0);stroke-width:1\" >\n",
       "\n",
       "  <!-- Horizontal lines -->\n",
       "  <line x1=\"0\" y1=\"0\" x2=\"25\" y2=\"0\" style=\"stroke-width:2\" />\n",
       "  <line x1=\"0\" y1=\"120\" x2=\"25\" y2=\"120\" style=\"stroke-width:2\" />\n",
       "\n",
       "  <!-- Vertical lines -->\n",
       "  <line x1=\"0\" y1=\"0\" x2=\"0\" y2=\"120\" style=\"stroke-width:2\" />\n",
       "  <line x1=\"25\" y1=\"0\" x2=\"25\" y2=\"120\" style=\"stroke-width:2\" />\n",
       "\n",
       "  <!-- Colored Rectangle -->\n",
       "  <polygon points=\"0.0,0.0 25.412616514582485,0.0 25.412616514582485,120.0 0.0,120.0\" style=\"fill:#ECB172A0;stroke-width:0\"/>\n",
       "\n",
       "  <!-- Text -->\n",
       "  <text x=\"12.706308\" y=\"140.000000\" font-size=\"1.0rem\" font-weight=\"100\" text-anchor=\"middle\" >1</text>\n",
       "  <text x=\"45.412617\" y=\"60.000000\" font-size=\"1.0rem\" font-weight=\"100\" text-anchor=\"middle\" transform=\"rotate(-90,45.412617,60.000000)\">1600000</text>\n",
       "</svg>\n",
       "        </td>\n",
       "    </tr>\n",
       "</table>"
      ],
      "text/plain": [
       "dask.array<values, shape=(1600000, 1), dtype=int64, chunksize=(1600000, 1), chunktype=numpy.ndarray>"
      ]
     },
     "execution_count": 42,
     "metadata": {},
     "output_type": "execute_result"
    }
   ],
   "source": [
    "dask_lab_arr"
   ]
  },
  {
   "cell_type": "code",
   "execution_count": 43,
   "id": "21a72b22-4ef8-427f-a1ad-4cdf077b2b98",
   "metadata": {},
   "outputs": [
    {
     "name": "stderr",
     "output_type": "stream",
     "text": [
      "/home/ubuntu/.local/lib/python3.10/site-packages/distributed/client.py:3157: UserWarning: Sending large graph of size 48.83 MiB.\n",
      "This may cause some slowdown.\n",
      "Consider scattering data ahead of time and using futures.\n",
      "  warnings.warn(\n",
      "/home/ubuntu/.local/lib/python3.10/site-packages/distributed/client.py:3157: UserWarning: Sending large graph of size 61.04 MiB.\n",
      "This may cause some slowdown.\n",
      "Consider scattering data ahead of time and using futures.\n",
      "  warnings.warn(\n"
     ]
    },
    {
     "data": {
      "text/html": [
       "<style>#sk-container-id-1 {\n",
       "  /* Definition of color scheme common for light and dark mode */\n",
       "  --sklearn-color-text: black;\n",
       "  --sklearn-color-line: gray;\n",
       "  /* Definition of color scheme for unfitted estimators */\n",
       "  --sklearn-color-unfitted-level-0: #fff5e6;\n",
       "  --sklearn-color-unfitted-level-1: #f6e4d2;\n",
       "  --sklearn-color-unfitted-level-2: #ffe0b3;\n",
       "  --sklearn-color-unfitted-level-3: chocolate;\n",
       "  /* Definition of color scheme for fitted estimators */\n",
       "  --sklearn-color-fitted-level-0: #f0f8ff;\n",
       "  --sklearn-color-fitted-level-1: #d4ebff;\n",
       "  --sklearn-color-fitted-level-2: #b3dbfd;\n",
       "  --sklearn-color-fitted-level-3: cornflowerblue;\n",
       "\n",
       "  /* Specific color for light theme */\n",
       "  --sklearn-color-text-on-default-background: var(--sg-text-color, var(--theme-code-foreground, var(--jp-content-font-color1, black)));\n",
       "  --sklearn-color-background: var(--sg-background-color, var(--theme-background, var(--jp-layout-color0, white)));\n",
       "  --sklearn-color-border-box: var(--sg-text-color, var(--theme-code-foreground, var(--jp-content-font-color1, black)));\n",
       "  --sklearn-color-icon: #696969;\n",
       "\n",
       "  @media (prefers-color-scheme: dark) {\n",
       "    /* Redefinition of color scheme for dark theme */\n",
       "    --sklearn-color-text-on-default-background: var(--sg-text-color, var(--theme-code-foreground, var(--jp-content-font-color1, white)));\n",
       "    --sklearn-color-background: var(--sg-background-color, var(--theme-background, var(--jp-layout-color0, #111)));\n",
       "    --sklearn-color-border-box: var(--sg-text-color, var(--theme-code-foreground, var(--jp-content-font-color1, white)));\n",
       "    --sklearn-color-icon: #878787;\n",
       "  }\n",
       "}\n",
       "\n",
       "#sk-container-id-1 {\n",
       "  color: var(--sklearn-color-text);\n",
       "}\n",
       "\n",
       "#sk-container-id-1 pre {\n",
       "  padding: 0;\n",
       "}\n",
       "\n",
       "#sk-container-id-1 input.sk-hidden--visually {\n",
       "  border: 0;\n",
       "  clip: rect(1px 1px 1px 1px);\n",
       "  clip: rect(1px, 1px, 1px, 1px);\n",
       "  height: 1px;\n",
       "  margin: -1px;\n",
       "  overflow: hidden;\n",
       "  padding: 0;\n",
       "  position: absolute;\n",
       "  width: 1px;\n",
       "}\n",
       "\n",
       "#sk-container-id-1 div.sk-dashed-wrapped {\n",
       "  border: 1px dashed var(--sklearn-color-line);\n",
       "  margin: 0 0.4em 0.5em 0.4em;\n",
       "  box-sizing: border-box;\n",
       "  padding-bottom: 0.4em;\n",
       "  background-color: var(--sklearn-color-background);\n",
       "}\n",
       "\n",
       "#sk-container-id-1 div.sk-container {\n",
       "  /* jupyter's `normalize.less` sets `[hidden] { display: none; }`\n",
       "     but bootstrap.min.css set `[hidden] { display: none !important; }`\n",
       "     so we also need the `!important` here to be able to override the\n",
       "     default hidden behavior on the sphinx rendered scikit-learn.org.\n",
       "     See: https://github.com/scikit-learn/scikit-learn/issues/21755 */\n",
       "  display: inline-block !important;\n",
       "  position: relative;\n",
       "}\n",
       "\n",
       "#sk-container-id-1 div.sk-text-repr-fallback {\n",
       "  display: none;\n",
       "}\n",
       "\n",
       "div.sk-parallel-item,\n",
       "div.sk-serial,\n",
       "div.sk-item {\n",
       "  /* draw centered vertical line to link estimators */\n",
       "  background-image: linear-gradient(var(--sklearn-color-text-on-default-background), var(--sklearn-color-text-on-default-background));\n",
       "  background-size: 2px 100%;\n",
       "  background-repeat: no-repeat;\n",
       "  background-position: center center;\n",
       "}\n",
       "\n",
       "/* Parallel-specific style estimator block */\n",
       "\n",
       "#sk-container-id-1 div.sk-parallel-item::after {\n",
       "  content: \"\";\n",
       "  width: 100%;\n",
       "  border-bottom: 2px solid var(--sklearn-color-text-on-default-background);\n",
       "  flex-grow: 1;\n",
       "}\n",
       "\n",
       "#sk-container-id-1 div.sk-parallel {\n",
       "  display: flex;\n",
       "  align-items: stretch;\n",
       "  justify-content: center;\n",
       "  background-color: var(--sklearn-color-background);\n",
       "  position: relative;\n",
       "}\n",
       "\n",
       "#sk-container-id-1 div.sk-parallel-item {\n",
       "  display: flex;\n",
       "  flex-direction: column;\n",
       "}\n",
       "\n",
       "#sk-container-id-1 div.sk-parallel-item:first-child::after {\n",
       "  align-self: flex-end;\n",
       "  width: 50%;\n",
       "}\n",
       "\n",
       "#sk-container-id-1 div.sk-parallel-item:last-child::after {\n",
       "  align-self: flex-start;\n",
       "  width: 50%;\n",
       "}\n",
       "\n",
       "#sk-container-id-1 div.sk-parallel-item:only-child::after {\n",
       "  width: 0;\n",
       "}\n",
       "\n",
       "/* Serial-specific style estimator block */\n",
       "\n",
       "#sk-container-id-1 div.sk-serial {\n",
       "  display: flex;\n",
       "  flex-direction: column;\n",
       "  align-items: center;\n",
       "  background-color: var(--sklearn-color-background);\n",
       "  padding-right: 1em;\n",
       "  padding-left: 1em;\n",
       "}\n",
       "\n",
       "\n",
       "/* Toggleable style: style used for estimator/Pipeline/ColumnTransformer box that is\n",
       "clickable and can be expanded/collapsed.\n",
       "- Pipeline and ColumnTransformer use this feature and define the default style\n",
       "- Estimators will overwrite some part of the style using the `sk-estimator` class\n",
       "*/\n",
       "\n",
       "/* Pipeline and ColumnTransformer style (default) */\n",
       "\n",
       "#sk-container-id-1 div.sk-toggleable {\n",
       "  /* Default theme specific background. It is overwritten whether we have a\n",
       "  specific estimator or a Pipeline/ColumnTransformer */\n",
       "  background-color: var(--sklearn-color-background);\n",
       "}\n",
       "\n",
       "/* Toggleable label */\n",
       "#sk-container-id-1 label.sk-toggleable__label {\n",
       "  cursor: pointer;\n",
       "  display: block;\n",
       "  width: 100%;\n",
       "  margin-bottom: 0;\n",
       "  padding: 0.5em;\n",
       "  box-sizing: border-box;\n",
       "  text-align: center;\n",
       "}\n",
       "\n",
       "#sk-container-id-1 label.sk-toggleable__label-arrow:before {\n",
       "  /* Arrow on the left of the label */\n",
       "  content: \"▸\";\n",
       "  float: left;\n",
       "  margin-right: 0.25em;\n",
       "  color: var(--sklearn-color-icon);\n",
       "}\n",
       "\n",
       "#sk-container-id-1 label.sk-toggleable__label-arrow:hover:before {\n",
       "  color: var(--sklearn-color-text);\n",
       "}\n",
       "\n",
       "/* Toggleable content - dropdown */\n",
       "\n",
       "#sk-container-id-1 div.sk-toggleable__content {\n",
       "  max-height: 0;\n",
       "  max-width: 0;\n",
       "  overflow: hidden;\n",
       "  text-align: left;\n",
       "  /* unfitted */\n",
       "  background-color: var(--sklearn-color-unfitted-level-0);\n",
       "}\n",
       "\n",
       "#sk-container-id-1 div.sk-toggleable__content.fitted {\n",
       "  /* fitted */\n",
       "  background-color: var(--sklearn-color-fitted-level-0);\n",
       "}\n",
       "\n",
       "#sk-container-id-1 div.sk-toggleable__content pre {\n",
       "  margin: 0.2em;\n",
       "  border-radius: 0.25em;\n",
       "  color: var(--sklearn-color-text);\n",
       "  /* unfitted */\n",
       "  background-color: var(--sklearn-color-unfitted-level-0);\n",
       "}\n",
       "\n",
       "#sk-container-id-1 div.sk-toggleable__content.fitted pre {\n",
       "  /* unfitted */\n",
       "  background-color: var(--sklearn-color-fitted-level-0);\n",
       "}\n",
       "\n",
       "#sk-container-id-1 input.sk-toggleable__control:checked~div.sk-toggleable__content {\n",
       "  /* Expand drop-down */\n",
       "  max-height: 200px;\n",
       "  max-width: 100%;\n",
       "  overflow: auto;\n",
       "}\n",
       "\n",
       "#sk-container-id-1 input.sk-toggleable__control:checked~label.sk-toggleable__label-arrow:before {\n",
       "  content: \"▾\";\n",
       "}\n",
       "\n",
       "/* Pipeline/ColumnTransformer-specific style */\n",
       "\n",
       "#sk-container-id-1 div.sk-label input.sk-toggleable__control:checked~label.sk-toggleable__label {\n",
       "  color: var(--sklearn-color-text);\n",
       "  background-color: var(--sklearn-color-unfitted-level-2);\n",
       "}\n",
       "\n",
       "#sk-container-id-1 div.sk-label.fitted input.sk-toggleable__control:checked~label.sk-toggleable__label {\n",
       "  background-color: var(--sklearn-color-fitted-level-2);\n",
       "}\n",
       "\n",
       "/* Estimator-specific style */\n",
       "\n",
       "/* Colorize estimator box */\n",
       "#sk-container-id-1 div.sk-estimator input.sk-toggleable__control:checked~label.sk-toggleable__label {\n",
       "  /* unfitted */\n",
       "  background-color: var(--sklearn-color-unfitted-level-2);\n",
       "}\n",
       "\n",
       "#sk-container-id-1 div.sk-estimator.fitted input.sk-toggleable__control:checked~label.sk-toggleable__label {\n",
       "  /* fitted */\n",
       "  background-color: var(--sklearn-color-fitted-level-2);\n",
       "}\n",
       "\n",
       "#sk-container-id-1 div.sk-label label.sk-toggleable__label,\n",
       "#sk-container-id-1 div.sk-label label {\n",
       "  /* The background is the default theme color */\n",
       "  color: var(--sklearn-color-text-on-default-background);\n",
       "}\n",
       "\n",
       "/* On hover, darken the color of the background */\n",
       "#sk-container-id-1 div.sk-label:hover label.sk-toggleable__label {\n",
       "  color: var(--sklearn-color-text);\n",
       "  background-color: var(--sklearn-color-unfitted-level-2);\n",
       "}\n",
       "\n",
       "/* Label box, darken color on hover, fitted */\n",
       "#sk-container-id-1 div.sk-label.fitted:hover label.sk-toggleable__label.fitted {\n",
       "  color: var(--sklearn-color-text);\n",
       "  background-color: var(--sklearn-color-fitted-level-2);\n",
       "}\n",
       "\n",
       "/* Estimator label */\n",
       "\n",
       "#sk-container-id-1 div.sk-label label {\n",
       "  font-family: monospace;\n",
       "  font-weight: bold;\n",
       "  display: inline-block;\n",
       "  line-height: 1.2em;\n",
       "}\n",
       "\n",
       "#sk-container-id-1 div.sk-label-container {\n",
       "  text-align: center;\n",
       "}\n",
       "\n",
       "/* Estimator-specific */\n",
       "#sk-container-id-1 div.sk-estimator {\n",
       "  font-family: monospace;\n",
       "  border: 1px dotted var(--sklearn-color-border-box);\n",
       "  border-radius: 0.25em;\n",
       "  box-sizing: border-box;\n",
       "  margin-bottom: 0.5em;\n",
       "  /* unfitted */\n",
       "  background-color: var(--sklearn-color-unfitted-level-0);\n",
       "}\n",
       "\n",
       "#sk-container-id-1 div.sk-estimator.fitted {\n",
       "  /* fitted */\n",
       "  background-color: var(--sklearn-color-fitted-level-0);\n",
       "}\n",
       "\n",
       "/* on hover */\n",
       "#sk-container-id-1 div.sk-estimator:hover {\n",
       "  /* unfitted */\n",
       "  background-color: var(--sklearn-color-unfitted-level-2);\n",
       "}\n",
       "\n",
       "#sk-container-id-1 div.sk-estimator.fitted:hover {\n",
       "  /* fitted */\n",
       "  background-color: var(--sklearn-color-fitted-level-2);\n",
       "}\n",
       "\n",
       "/* Specification for estimator info (e.g. \"i\" and \"?\") */\n",
       "\n",
       "/* Common style for \"i\" and \"?\" */\n",
       "\n",
       ".sk-estimator-doc-link,\n",
       "a:link.sk-estimator-doc-link,\n",
       "a:visited.sk-estimator-doc-link {\n",
       "  float: right;\n",
       "  font-size: smaller;\n",
       "  line-height: 1em;\n",
       "  font-family: monospace;\n",
       "  background-color: var(--sklearn-color-background);\n",
       "  border-radius: 1em;\n",
       "  height: 1em;\n",
       "  width: 1em;\n",
       "  text-decoration: none !important;\n",
       "  margin-left: 1ex;\n",
       "  /* unfitted */\n",
       "  border: var(--sklearn-color-unfitted-level-1) 1pt solid;\n",
       "  color: var(--sklearn-color-unfitted-level-1);\n",
       "}\n",
       "\n",
       ".sk-estimator-doc-link.fitted,\n",
       "a:link.sk-estimator-doc-link.fitted,\n",
       "a:visited.sk-estimator-doc-link.fitted {\n",
       "  /* fitted */\n",
       "  border: var(--sklearn-color-fitted-level-1) 1pt solid;\n",
       "  color: var(--sklearn-color-fitted-level-1);\n",
       "}\n",
       "\n",
       "/* On hover */\n",
       "div.sk-estimator:hover .sk-estimator-doc-link:hover,\n",
       ".sk-estimator-doc-link:hover,\n",
       "div.sk-label-container:hover .sk-estimator-doc-link:hover,\n",
       ".sk-estimator-doc-link:hover {\n",
       "  /* unfitted */\n",
       "  background-color: var(--sklearn-color-unfitted-level-3);\n",
       "  color: var(--sklearn-color-background);\n",
       "  text-decoration: none;\n",
       "}\n",
       "\n",
       "div.sk-estimator.fitted:hover .sk-estimator-doc-link.fitted:hover,\n",
       ".sk-estimator-doc-link.fitted:hover,\n",
       "div.sk-label-container:hover .sk-estimator-doc-link.fitted:hover,\n",
       ".sk-estimator-doc-link.fitted:hover {\n",
       "  /* fitted */\n",
       "  background-color: var(--sklearn-color-fitted-level-3);\n",
       "  color: var(--sklearn-color-background);\n",
       "  text-decoration: none;\n",
       "}\n",
       "\n",
       "/* Span, style for the box shown on hovering the info icon */\n",
       ".sk-estimator-doc-link span {\n",
       "  display: none;\n",
       "  z-index: 9999;\n",
       "  position: relative;\n",
       "  font-weight: normal;\n",
       "  right: .2ex;\n",
       "  padding: .5ex;\n",
       "  margin: .5ex;\n",
       "  width: min-content;\n",
       "  min-width: 20ex;\n",
       "  max-width: 50ex;\n",
       "  color: var(--sklearn-color-text);\n",
       "  box-shadow: 2pt 2pt 4pt #999;\n",
       "  /* unfitted */\n",
       "  background: var(--sklearn-color-unfitted-level-0);\n",
       "  border: .5pt solid var(--sklearn-color-unfitted-level-3);\n",
       "}\n",
       "\n",
       ".sk-estimator-doc-link.fitted span {\n",
       "  /* fitted */\n",
       "  background: var(--sklearn-color-fitted-level-0);\n",
       "  border: var(--sklearn-color-fitted-level-3);\n",
       "}\n",
       "\n",
       ".sk-estimator-doc-link:hover span {\n",
       "  display: block;\n",
       "}\n",
       "\n",
       "/* \"?\"-specific style due to the `<a>` HTML tag */\n",
       "\n",
       "#sk-container-id-1 a.estimator_doc_link {\n",
       "  float: right;\n",
       "  font-size: 1rem;\n",
       "  line-height: 1em;\n",
       "  font-family: monospace;\n",
       "  background-color: var(--sklearn-color-background);\n",
       "  border-radius: 1rem;\n",
       "  height: 1rem;\n",
       "  width: 1rem;\n",
       "  text-decoration: none;\n",
       "  /* unfitted */\n",
       "  color: var(--sklearn-color-unfitted-level-1);\n",
       "  border: var(--sklearn-color-unfitted-level-1) 1pt solid;\n",
       "}\n",
       "\n",
       "#sk-container-id-1 a.estimator_doc_link.fitted {\n",
       "  /* fitted */\n",
       "  border: var(--sklearn-color-fitted-level-1) 1pt solid;\n",
       "  color: var(--sklearn-color-fitted-level-1);\n",
       "}\n",
       "\n",
       "/* On hover */\n",
       "#sk-container-id-1 a.estimator_doc_link:hover {\n",
       "  /* unfitted */\n",
       "  background-color: var(--sklearn-color-unfitted-level-3);\n",
       "  color: var(--sklearn-color-background);\n",
       "  text-decoration: none;\n",
       "}\n",
       "\n",
       "#sk-container-id-1 a.estimator_doc_link.fitted:hover {\n",
       "  /* fitted */\n",
       "  background-color: var(--sklearn-color-fitted-level-3);\n",
       "}\n",
       "</style><div id=\"sk-container-id-1\" class=\"sk-top-container\"><div class=\"sk-text-repr-fallback\"><pre>LogisticRegression()</pre><b>In a Jupyter environment, please rerun this cell to show the HTML representation or trust the notebook. <br />On GitHub, the HTML representation is unable to render, please try loading this page with nbviewer.org.</b></div><div class=\"sk-container\" hidden><div class=\"sk-item\"><div class=\"sk-estimator fitted sk-toggleable\"><input class=\"sk-toggleable__control sk-hidden--visually\" id=\"sk-estimator-id-1\" type=\"checkbox\" checked><label for=\"sk-estimator-id-1\" class=\"sk-toggleable__label fitted sk-toggleable__label-arrow fitted\">&nbsp;LogisticRegression<span class=\"sk-estimator-doc-link fitted\">i<span>Fitted</span></span></label><div class=\"sk-toggleable__content fitted\"><pre>LogisticRegression()</pre></div> </div></div></div></div>"
      ],
      "text/plain": [
       "LogisticRegression()"
      ]
     },
     "execution_count": 43,
     "metadata": {},
     "output_type": "execute_result"
    }
   ],
   "source": [
    "lr = LogisticRegression()\n",
    "lr.fit(dask_arr_train, dask_lab_arr)"
   ]
  },
  {
   "cell_type": "code",
   "execution_count": 85,
   "id": "087038fc-d49d-436e-b2ff-be1092b03122",
   "metadata": {},
   "outputs": [
    {
     "name": "stderr",
     "output_type": "stream",
     "text": [
      "/home/ubuntu/.local/lib/python3.10/site-packages/distributed/client.py:3157: UserWarning: Sending large graph of size 122.07 MiB.\n",
      "This may cause some slowdown.\n",
      "Consider scattering data ahead of time and using futures.\n",
      "  warnings.warn(\n"
     ]
    }
   ],
   "source": [
    "preds = lr.predict(dd.from_pandas(X_class_test).to_dask_array(lengths=True))"
   ]
  },
  {
   "cell_type": "code",
   "execution_count": 91,
   "id": "ce2ab2f0-73da-4da6-b970-3caaa80264c6",
   "metadata": {},
   "outputs": [
    {
     "name": "stderr",
     "output_type": "stream",
     "text": [
      "/home/ubuntu/.local/lib/python3.10/site-packages/distributed/client.py:3157: UserWarning: Sending large graph of size 30.52 MiB.\n",
      "This may cause some slowdown.\n",
      "Consider scattering data ahead of time and using futures.\n",
      "  warnings.warn(\n",
      "/home/ubuntu/.local/lib/python3.10/site-packages/distributed/client.py:3157: UserWarning: Sending large graph of size 152.59 MiB.\n",
      "This may cause some slowdown.\n",
      "Consider scattering data ahead of time and using futures.\n",
      "  warnings.warn(\n"
     ]
    },
    {
     "data": {
      "text/plain": [
       "0.734008"
      ]
     },
     "execution_count": 91,
     "metadata": {},
     "output_type": "execute_result"
    }
   ],
   "source": [
    "np.equal(preds, dd.from_pandas(y_class_test).to_dask_array(lengths=True).T).mean().compute()"
   ]
  },
  {
   "cell_type": "code",
   "execution_count": 77,
   "id": "be270aca-1541-47c1-959a-b3b14940079f",
   "metadata": {},
   "outputs": [
    {
     "name": "stderr",
     "output_type": "stream",
     "text": [
      "/home/ubuntu/.local/lib/python3.10/site-packages/distributed/client.py:3157: UserWarning: Sending large graph of size 122.07 MiB.\n",
      "This may cause some slowdown.\n",
      "Consider scattering data ahead of time and using futures.\n",
      "  warnings.warn(\n"
     ]
    }
   ],
   "source": [
    "np_preds = np.array(preds)"
   ]
  },
  {
   "cell_type": "code",
   "execution_count": 84,
   "id": "a3c047b5-5fc0-437f-b87a-b089f5263a2b",
   "metadata": {},
   "outputs": [
    {
     "data": {
      "text/plain": [
       "0.734008"
      ]
     },
     "execution_count": 84,
     "metadata": {},
     "output_type": "execute_result"
    }
   ],
   "source": [
    "np.equal(np_preds, np.array(y_class_test.T)).mean()"
   ]
  },
  {
   "cell_type": "markdown",
   "id": "ffe8ff7a-e305-4e57-a623-581f4390e263",
   "metadata": {},
   "source": [
    "## Dask Experiment Function"
   ]
  },
  {
   "cell_type": "code",
   "execution_count": 5,
   "id": "43803a18-3ab9-4db0-aed5-14229099469d",
   "metadata": {},
   "outputs": [],
   "source": [
    "def dask_time_algorithm(subset_prop, algorithm_name, SEED=SEED):\n",
    "    '''\n",
    "    algorithm_name one of 'LogReg', 'LinReg', 'KMEANS'\n",
    "    '''\n",
    "    if (algorithm_name == \"LinReg\" or algorithm_name == \"KMEANS\"):\n",
    "        X_reg_train_subset = dd.from_pandas(X_reg_train.head(int(len(X_reg_train) * subset_prop))).to_dask_array(lengths=True)\n",
    "        X_reg_test_subset = dd.from_pandas(X_reg_test.head(int(len(X_reg_test) * subset_prop))).to_dask_array(lengths=True)\n",
    "        y_reg_train_subset = dd.from_pandas(y_reg_train.head(int(len(y_reg_train) * subset_prop))).to_dask_array(lengths=True)\n",
    "        y_reg_test_subset = dd.from_pandas(y_reg_test.head(int(len(y_reg_test) * subset_prop))).to_dask_array(lengths=True)\n",
    "\n",
    "        # print(f'X_reg_train_subset shape {X_reg_train_subset.shape[0]}')\n",
    "        # print(f'X_reg_test_subset shape {X_reg_test_subset.shape[0]}')\n",
    "        # print(f'y_reg_train_subset shape {y_reg_train_subset.shape[0]}')\n",
    "        # print(f'y_reg_test_subset shape {y_reg_test_subset.shape[0]}')\n",
    "       \n",
    "    elif (algorithm_name == \"LogReg\"):\n",
    "        X_class_train_subset = dd.from_pandas(X_class_train.head(int(len(X_class_train) * subset_prop))).to_dask_array(lengths=True)\n",
    "        X_class_test_subset = dd.from_pandas(X_class_test.head(int(len(X_class_test) * subset_prop))).to_dask_array(lengths=True)\n",
    "        y_class_train_subset = dd.from_pandas(y_class_train.head(int(len(y_class_train) * subset_prop))).to_dask_array(lengths=True)\n",
    "        y_class_test_subset = dd.from_pandas(y_class_test.head(int(len(y_class_test) * subset_prop))).to_dask_array(lengths=True)\n",
    "\n",
    "        # print(f'X_class_train_subset shape {X_class_train_subset.shape[0]}')\n",
    "        # print(f'X_class_test_subset shape {X_class_test_subset.shape[0]}')\n",
    "        # print(f'y_class_train_subset shape {y_class_train_subset.shape[0]}')\n",
    "        # print(f'y_class_test_subset shape {y_class_test_subset.shape[0]}')\n",
    "       \n",
    "    start_time = time.time()\n",
    "       \n",
    "    if algorithm_name == \"LogReg\":\n",
    "        logreg = LogisticRegression()\n",
    "        logreg.fit(X_class_train_subset, y_class_train_subset)\n",
    "        preds = logreg.predict(X_class_test_subset)\n",
    "        metric = np.equal(preds, y_class_test_subset.T).mean().compute()\n",
    "                       \n",
    "    elif algorithm_name == \"KMEANS\":\n",
    "        n_clusters = 2\n",
    "        kmeans = KMeans(n_clusters=n_clusters, random_state=SEED)\n",
    "        # Fit the model to the data\n",
    "        kmeans.fit(X_reg_train_subset)\n",
    "        metric = None\n",
    "        \n",
    "    elif algorithm_name == \"LinReg\":\n",
    "        linreg = LinearRegression()\n",
    "        linreg.fit(X_reg_train_subset, y_reg_train_subset)\n",
    "        preds = linreg.predict(X_reg_test_subset)\n",
    "        metric = ((np.subtract(preds, y_reg_test_subset.T)**2).mean()).compute()\n",
    "           \n",
    "    end_time = time.time()\n",
    "    time_delta = end_time - start_time\n",
    "    return time_delta, metric"
   ]
  },
  {
   "cell_type": "markdown",
   "id": "9cdc2d0e-cbb4-4a79-bc56-012d9d6cd7c7",
   "metadata": {},
   "source": [
    "## Set proportions to loop over"
   ]
  },
  {
   "cell_type": "code",
   "execution_count": 6,
   "id": "67fad8c9-6f7e-48e3-948e-26c4ae09ad46",
   "metadata": {},
   "outputs": [],
   "source": [
    "props = [0.1, 0.2, 0.3, 0.4, 0.5, 0.6, 0.7, 0.8, 0.9, 1.0]"
   ]
  },
  {
   "cell_type": "markdown",
   "id": "0b00aafd-b0b1-4888-9b5b-d423a43d84ce",
   "metadata": {},
   "source": [
    "## Logistic Regression Test"
   ]
  },
  {
   "cell_type": "code",
   "execution_count": 9,
   "id": "cb3e7fc9-4744-4139-918c-c1af72588a2f",
   "metadata": {
    "scrolled": true
   },
   "outputs": [
    {
     "name": "stdout",
     "output_type": "stream",
     "text": [
      "0.1\n",
      "0.2\n",
      "0.3\n",
      "0.4\n",
      "0.5\n",
      "0.6\n",
      "0.7\n",
      "0.8\n",
      "0.9\n",
      "1.0\n",
      "[27.248703241348267, 32.137929916381836, 43.77782320976257, 64.51912760734558, 88.60880374908447, 94.01658797264099, 118.86120104789734, 133.5087571144104, 131.96815872192383, 142.8038866519928]\n",
      "[0.73313, 0.73349125, 0.7335116666666667, 0.733558125, 0.7338895, 0.7338479166666667, 0.7339257142857143, 0.7339321875, 0.7339388888888889, 0.73398375]\n",
      "CPU times: user 35.9 s, sys: 1min 7s, total: 1min 43s\n",
      "Wall time: 15min 21s\n"
     ]
    }
   ],
   "source": [
    "%%time\n",
    "    logreg_times = []\n",
    "    logreg_metrics = []\n",
    "    \n",
    "    for prop in props:\n",
    "        print(prop)\n",
    "        runtime, metric = dask_time_algorithm(prop, algorithm_name=\"LogReg\")\n",
    "        logreg_times.append(runtime)\n",
    "        logreg_metrics.append(metric)\n",
    "       \n",
    "    print(logreg_times)\n",
    "    print(logreg_metrics)"
   ]
  },
  {
   "cell_type": "code",
   "execution_count": 11,
   "id": "beb1f6fa-4956-4f04-bc14-6e119bef57c3",
   "metadata": {},
   "outputs": [
    {
     "data": {
      "text/html": [
       "<div>\n",
       "<style scoped>\n",
       "    .dataframe tbody tr th:only-of-type {\n",
       "        vertical-align: middle;\n",
       "    }\n",
       "\n",
       "    .dataframe tbody tr th {\n",
       "        vertical-align: top;\n",
       "    }\n",
       "\n",
       "    .dataframe thead th {\n",
       "        text-align: right;\n",
       "    }\n",
       "</style>\n",
       "<table border=\"1\" class=\"dataframe\">\n",
       "  <thead>\n",
       "    <tr style=\"text-align: right;\">\n",
       "      <th></th>\n",
       "      <th>Time</th>\n",
       "      <th>Metric</th>\n",
       "    </tr>\n",
       "  </thead>\n",
       "  <tbody>\n",
       "    <tr>\n",
       "      <th>0.1</th>\n",
       "      <td>27.248703</td>\n",
       "      <td>0.733130</td>\n",
       "    </tr>\n",
       "    <tr>\n",
       "      <th>0.2</th>\n",
       "      <td>32.137930</td>\n",
       "      <td>0.733491</td>\n",
       "    </tr>\n",
       "    <tr>\n",
       "      <th>0.3</th>\n",
       "      <td>43.777823</td>\n",
       "      <td>0.733512</td>\n",
       "    </tr>\n",
       "    <tr>\n",
       "      <th>0.4</th>\n",
       "      <td>64.519128</td>\n",
       "      <td>0.733558</td>\n",
       "    </tr>\n",
       "    <tr>\n",
       "      <th>0.5</th>\n",
       "      <td>88.608804</td>\n",
       "      <td>0.733889</td>\n",
       "    </tr>\n",
       "    <tr>\n",
       "      <th>0.6</th>\n",
       "      <td>94.016588</td>\n",
       "      <td>0.733848</td>\n",
       "    </tr>\n",
       "    <tr>\n",
       "      <th>0.7</th>\n",
       "      <td>118.861201</td>\n",
       "      <td>0.733926</td>\n",
       "    </tr>\n",
       "    <tr>\n",
       "      <th>0.8</th>\n",
       "      <td>133.508757</td>\n",
       "      <td>0.733932</td>\n",
       "    </tr>\n",
       "    <tr>\n",
       "      <th>0.9</th>\n",
       "      <td>131.968159</td>\n",
       "      <td>0.733939</td>\n",
       "    </tr>\n",
       "    <tr>\n",
       "      <th>1.0</th>\n",
       "      <td>142.803887</td>\n",
       "      <td>0.733984</td>\n",
       "    </tr>\n",
       "  </tbody>\n",
       "</table>\n",
       "</div>"
      ],
      "text/plain": [
       "           Time    Metric\n",
       "0.1   27.248703  0.733130\n",
       "0.2   32.137930  0.733491\n",
       "0.3   43.777823  0.733512\n",
       "0.4   64.519128  0.733558\n",
       "0.5   88.608804  0.733889\n",
       "0.6   94.016588  0.733848\n",
       "0.7  118.861201  0.733926\n",
       "0.8  133.508757  0.733932\n",
       "0.9  131.968159  0.733939\n",
       "1.0  142.803887  0.733984"
      ]
     },
     "execution_count": 11,
     "metadata": {},
     "output_type": "execute_result"
    }
   ],
   "source": [
    "logreg_frame = pd.DataFrame(list(zip(logreg_times, logreg_metrics)), columns=['Time', 'Metric'], index=props)\n",
    "logreg_frame"
   ]
  },
  {
   "cell_type": "code",
   "execution_count": 15,
   "id": "4a6ccb5b-ab66-41dd-99bf-ea3edd3a0f48",
   "metadata": {},
   "outputs": [
    {
     "data": {
      "text/plain": [
       "14.624182987213135"
      ]
     },
     "execution_count": 15,
     "metadata": {},
     "output_type": "execute_result"
    }
   ],
   "source": [
    "logreg_frame.Time.sum()/60"
   ]
  },
  {
   "cell_type": "code",
   "execution_count": 12,
   "id": "4d7e20f3-7ba6-4814-a2a7-9e8529f47a58",
   "metadata": {},
   "outputs": [
    {
     "data": {
      "text/plain": [
       "Text(0, 0.5, 'Time (s)')"
      ]
     },
     "execution_count": 12,
     "metadata": {},
     "output_type": "execute_result"
    },
    {
     "data": {
      "image/png": "[encoded data removed]",
      "text/plain": [
       "<Figure size 640x480 with 1 Axes>"
      ]
     },
     "metadata": {},
     "output_type": "display_data"
    }
   ],
   "source": [
    "plt.scatter(x=logreg_frame.index, y=logreg_frame['Time'])\n",
    "plt.title('Logistic Regression Dask Run Times for Varying Input Sizes')\n",
    "plt.xlabel('Proportion of Input Size')\n",
    "plt.ylabel('Time (s)')"
   ]
  },
  {
   "cell_type": "code",
   "execution_count": 13,
   "id": "60eeb9f4-2cf4-4f64-bb95-17e02a29cb77",
   "metadata": {},
   "outputs": [],
   "source": [
    "logreg_frame.to_csv('dask_logreg_results.csv', index=True)"
   ]
  },
  {
   "cell_type": "markdown",
   "id": "d3459260-75e3-42ae-a8b7-a2410dc5df87",
   "metadata": {},
   "source": [
    "## KMeans Test"
   ]
  },
  {
   "cell_type": "code",
   "execution_count": 17,
   "id": "fd93e58b-0a1a-4562-97d3-760b52d6305f",
   "metadata": {},
   "outputs": [
    {
     "name": "stdout",
     "output_type": "stream",
     "text": [
      "0.1\n",
      "0.2\n",
      "0.3\n",
      "0.4\n",
      "0.5\n",
      "0.6\n",
      "0.7\n",
      "0.8\n",
      "0.9\n",
      "1.0\n",
      "[39.69672632217407, 70.11089944839478, 94.51068902015686, 123.14445471763611, 171.68934750556946, 206.8264262676239, 228.91325211524963, 267.63171577453613, 293.77726316452026, 326.69960260391235]\n",
      "[None, None, None, None, None, None, None, None, None, None]\n",
      "CPU times: user 1min 56s, sys: 4min 12s, total: 6min 9s\n",
      "Wall time: 31min 3s\n"
     ]
    }
   ],
   "source": [
    "%%time\n",
    "    kmeans_times = []\n",
    "    kmeans_metrics = []\n",
    "    \n",
    "    for prop in props:\n",
    "        print(prop)\n",
    "        runtime, metric = dask_time_algorithm(prop, algorithm_name=\"KMEANS\")\n",
    "        kmeans_times.append(runtime)\n",
    "        kmeans_metrics.append(metric)\n",
    "       \n",
    "    print(kmeans_times)\n",
    "    print(kmeans_metrics)"
   ]
  },
  {
   "cell_type": "code",
   "execution_count": 19,
   "id": "112550ac-5b9c-4004-a2b6-e292ecb78176",
   "metadata": {},
   "outputs": [
    {
     "data": {
      "text/html": [
       "<div>\n",
       "<style scoped>\n",
       "    .dataframe tbody tr th:only-of-type {\n",
       "        vertical-align: middle;\n",
       "    }\n",
       "\n",
       "    .dataframe tbody tr th {\n",
       "        vertical-align: top;\n",
       "    }\n",
       "\n",
       "    .dataframe thead th {\n",
       "        text-align: right;\n",
       "    }\n",
       "</style>\n",
       "<table border=\"1\" class=\"dataframe\">\n",
       "  <thead>\n",
       "    <tr style=\"text-align: right;\">\n",
       "      <th></th>\n",
       "      <th>Time</th>\n",
       "      <th>Metric</th>\n",
       "    </tr>\n",
       "  </thead>\n",
       "  <tbody>\n",
       "    <tr>\n",
       "      <th>0.1</th>\n",
       "      <td>39.696726</td>\n",
       "      <td>None</td>\n",
       "    </tr>\n",
       "    <tr>\n",
       "      <th>0.2</th>\n",
       "      <td>70.110899</td>\n",
       "      <td>None</td>\n",
       "    </tr>\n",
       "    <tr>\n",
       "      <th>0.3</th>\n",
       "      <td>94.510689</td>\n",
       "      <td>None</td>\n",
       "    </tr>\n",
       "    <tr>\n",
       "      <th>0.4</th>\n",
       "      <td>123.144455</td>\n",
       "      <td>None</td>\n",
       "    </tr>\n",
       "    <tr>\n",
       "      <th>0.5</th>\n",
       "      <td>171.689348</td>\n",
       "      <td>None</td>\n",
       "    </tr>\n",
       "    <tr>\n",
       "      <th>0.6</th>\n",
       "      <td>206.826426</td>\n",
       "      <td>None</td>\n",
       "    </tr>\n",
       "    <tr>\n",
       "      <th>0.7</th>\n",
       "      <td>228.913252</td>\n",
       "      <td>None</td>\n",
       "    </tr>\n",
       "    <tr>\n",
       "      <th>0.8</th>\n",
       "      <td>267.631716</td>\n",
       "      <td>None</td>\n",
       "    </tr>\n",
       "    <tr>\n",
       "      <th>0.9</th>\n",
       "      <td>293.777263</td>\n",
       "      <td>None</td>\n",
       "    </tr>\n",
       "    <tr>\n",
       "      <th>1.0</th>\n",
       "      <td>326.699603</td>\n",
       "      <td>None</td>\n",
       "    </tr>\n",
       "  </tbody>\n",
       "</table>\n",
       "</div>"
      ],
      "text/plain": [
       "           Time Metric\n",
       "0.1   39.696726   None\n",
       "0.2   70.110899   None\n",
       "0.3   94.510689   None\n",
       "0.4  123.144455   None\n",
       "0.5  171.689348   None\n",
       "0.6  206.826426   None\n",
       "0.7  228.913252   None\n",
       "0.8  267.631716   None\n",
       "0.9  293.777263   None\n",
       "1.0  326.699603   None"
      ]
     },
     "execution_count": 19,
     "metadata": {},
     "output_type": "execute_result"
    }
   ],
   "source": [
    "kmeans_frame = pd.DataFrame(list(zip(kmeans_times, kmeans_metrics)), columns=['Time', 'Metric'], index=props)\n",
    "kmeans_frame"
   ]
  },
  {
   "cell_type": "code",
   "execution_count": 28,
   "id": "e18a9afe-76db-48e5-83f1-bd8f7af03b83",
   "metadata": {},
   "outputs": [
    {
     "data": {
      "text/plain": [
       "30.383339615662894"
      ]
     },
     "execution_count": 28,
     "metadata": {},
     "output_type": "execute_result"
    }
   ],
   "source": [
    "kmeans_frame.Time.sum()/60"
   ]
  },
  {
   "cell_type": "code",
   "execution_count": 20,
   "id": "40ccc926-9271-4b55-b54c-46dde1ce2252",
   "metadata": {},
   "outputs": [
    {
     "data": {
      "text/plain": [
       "Text(0, 0.5, 'Time (s)')"
      ]
     },
     "execution_count": 20,
     "metadata": {},
     "output_type": "execute_result"
    },
    {
     "data": {
      "image/png": "[encoded data removed]",
      "text/plain": [
       "<Figure size 640x480 with 1 Axes>"
      ]
     },
     "metadata": {},
     "output_type": "display_data"
    }
   ],
   "source": [
    "plt.scatter(x=kmeans_frame.index, y=kmeans_frame['Time'])\n",
    "plt.title('KMeans Dask Run Times for Varying Input Sizes')\n",
    "plt.xlabel('Proportion of Input Size')\n",
    "plt.ylabel('Time (s)')"
   ]
  },
  {
   "cell_type": "code",
   "execution_count": 21,
   "id": "6a103baa-b5b7-4b54-a339-0bec64aa2d4a",
   "metadata": {},
   "outputs": [],
   "source": [
    "kmeans_frame.to_csv('dask_kmeans_new_results.csv', index=True)"
   ]
  },
  {
   "cell_type": "markdown",
   "id": "13612862-5c6f-4b81-bf36-3579756c9977",
   "metadata": {},
   "source": [
    "## Linear Regression Test"
   ]
  },
  {
   "cell_type": "code",
   "execution_count": 22,
   "id": "047690ab-0b4c-45d8-aeb6-3d4d15bcaa80",
   "metadata": {},
   "outputs": [
    {
     "name": "stdout",
     "output_type": "stream",
     "text": [
      "0.1\n",
      "0.2\n",
      "0.3\n",
      "0.4\n",
      "0.5\n",
      "0.6\n",
      "0.7\n",
      "0.8\n",
      "1.0\n",
      "[10.847286701202393, 21.18761420249939, 31.768335342407227, 43.21693420410156, 51.52163338661194, 65.57311940193176, 70.45956420898438, 82.3525390625, 98.93277668952942, 108.03984069824219]\n",
      "[0.66519063708539, 0.6664607365713493, 0.6681837204478563, 0.6715813864112423, 0.6715804381712097, 0.6714911534205328, 0.6710971945446953, 0.6712130503848568, 0.6699107084871396, 0.6701413053846041]\n",
      "CPU times: user 35.9 s, sys: 1min 2s, total: 1min 38s\n",
      "Wall time: 10min 23s\n"
     ]
    }
   ],
   "source": [
    "%%time\n",
    "    linreg_times = []\n",
    "    linreg_metrics = []\n",
    "    \n",
    "    for prop in props:\n",
    "        print(prop)\n",
    "        runtime, metric = dask_time_algorithm(prop, algorithm_name=\"LinReg\")\n",
    "        linreg_times.append(runtime)\n",
    "        linreg_metrics.append(metric)\n",
    "       \n",
    "    print(linreg_times)\n",
    "    print(linreg_metrics)"
   ]
  },
  {
   "cell_type": "code",
   "execution_count": 25,
   "id": "1d9cc54c-fe8c-42c1-8ddd-f769ca30f6d9",
   "metadata": {},
   "outputs": [
    {
     "data": {
      "text/html": [
       "<div>\n",
       "<style scoped>\n",
       "    .dataframe tbody tr th:only-of-type {\n",
       "        vertical-align: middle;\n",
       "    }\n",
       "\n",
       "    .dataframe tbody tr th {\n",
       "        vertical-align: top;\n",
       "    }\n",
       "\n",
       "    .dataframe thead th {\n",
       "        text-align: right;\n",
       "    }\n",
       "</style>\n",
       "<table border=\"1\" class=\"dataframe\">\n",
       "  <thead>\n",
       "    <tr style=\"text-align: right;\">\n",
       "      <th></th>\n",
       "      <th>Time</th>\n",
       "      <th>Metric</th>\n",
       "    </tr>\n",
       "  </thead>\n",
       "  <tbody>\n",
       "    <tr>\n",
       "      <th>0.1</th>\n",
       "      <td>10.847287</td>\n",
       "      <td>0.665191</td>\n",
       "    </tr>\n",
       "    <tr>\n",
       "      <th>0.2</th>\n",
       "      <td>21.187614</td>\n",
       "      <td>0.666461</td>\n",
       "    </tr>\n",
       "    <tr>\n",
       "      <th>0.3</th>\n",
       "      <td>31.768335</td>\n",
       "      <td>0.668184</td>\n",
       "    </tr>\n",
       "    <tr>\n",
       "      <th>0.4</th>\n",
       "      <td>43.216934</td>\n",
       "      <td>0.671581</td>\n",
       "    </tr>\n",
       "    <tr>\n",
       "      <th>0.5</th>\n",
       "      <td>51.521633</td>\n",
       "      <td>0.671580</td>\n",
       "    </tr>\n",
       "    <tr>\n",
       "      <th>0.6</th>\n",
       "      <td>65.573119</td>\n",
       "      <td>0.671491</td>\n",
       "    </tr>\n",
       "    <tr>\n",
       "      <th>0.7</th>\n",
       "      <td>70.459564</td>\n",
       "      <td>0.671097</td>\n",
       "    </tr>\n",
       "    <tr>\n",
       "      <th>0.8</th>\n",
       "      <td>82.352539</td>\n",
       "      <td>0.671213</td>\n",
       "    </tr>\n",
       "    <tr>\n",
       "      <th>0.9</th>\n",
       "      <td>98.932777</td>\n",
       "      <td>0.669911</td>\n",
       "    </tr>\n",
       "    <tr>\n",
       "      <th>1.0</th>\n",
       "      <td>108.039841</td>\n",
       "      <td>0.670141</td>\n",
       "    </tr>\n",
       "  </tbody>\n",
       "</table>\n",
       "</div>"
      ],
      "text/plain": [
       "           Time    Metric\n",
       "0.1   10.847287  0.665191\n",
       "0.2   21.187614  0.666461\n",
       "0.3   31.768335  0.668184\n",
       "0.4   43.216934  0.671581\n",
       "0.5   51.521633  0.671580\n",
       "0.6   65.573119  0.671491\n",
       "0.7   70.459564  0.671097\n",
       "0.8   82.352539  0.671213\n",
       "0.9   98.932777  0.669911\n",
       "1.0  108.039841  0.670141"
      ]
     },
     "execution_count": 25,
     "metadata": {},
     "output_type": "execute_result"
    }
   ],
   "source": [
    "linreg_frame = pd.DataFrame(list(zip(linreg_times, linreg_metrics)), columns=['Time', 'Metric'], index=props)\n",
    "linreg_frame"
   ]
  },
  {
   "cell_type": "code",
   "execution_count": 26,
   "id": "868a0ed5-e016-4e72-9eac-97049b7582e4",
   "metadata": {},
   "outputs": [
    {
     "data": {
      "text/plain": [
       "9.731660731633504"
      ]
     },
     "execution_count": 26,
     "metadata": {},
     "output_type": "execute_result"
    }
   ],
   "source": [
    "linreg_frame.Time.sum()/60"
   ]
  },
  {
   "cell_type": "code",
   "execution_count": 29,
   "id": "508dab75-f867-4c03-94c9-56efb71e83ba",
   "metadata": {},
   "outputs": [
    {
     "data": {
      "text/plain": [
       "Text(0, 0.5, 'Time (s)')"
      ]
     },
     "execution_count": 29,
     "metadata": {},
     "output_type": "execute_result"
    },
    {
     "data": {
      "image/png": "[encoded data removed]",
      "text/plain": [
       "<Figure size 640x480 with 1 Axes>"
      ]
     },
     "metadata": {},
     "output_type": "display_data"
    }
   ],
   "source": [
    "plt.scatter(x=linreg_frame.index, y=linreg_frame['Time'])\n",
    "plt.title('Linear Regression Dask Run Times for Varying Input Sizes')\n",
    "plt.xlabel('Proportion of Input Size')\n",
    "plt.ylabel('Time (s)')"
   ]
  },
  {
   "cell_type": "code",
   "execution_count": 30,
   "id": "f106b5d3-d15a-405c-a939-7aaad0b0114a",
   "metadata": {},
   "outputs": [],
   "source": [
    "linreg_frame.to_csv('dask_linreg_results.csv', index=True)"
   ]
  }
 ],
 "metadata": {
  "kernelspec": {
   "display_name": "Python 3 (ipykernel)",
   "language": "python",
   "name": "python3"
  },
  "language_info": {
   "codemirror_mode": {
    "name": "ipython",
    "version": 3
   },
   "file_extension": ".py",
   "mimetype": "text/x-python",
   "name": "python",
   "nbconvert_exporter": "python",
   "pygments_lexer": "ipython3",
   "version": "3.10.12"
  }
 },
 "nbformat": 4,
 "nbformat_minor": 5
}
