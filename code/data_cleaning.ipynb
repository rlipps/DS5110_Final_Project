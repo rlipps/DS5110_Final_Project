{
 "cells": [
  {
   "cell_type": "markdown",
   "metadata": {},
   "source": [
    "# Big Data Systems Final Project\n",
    "## Data cleaning notebook"
   ]
  },
  {
   "cell_type": "markdown",
   "metadata": {},
   "source": [
    "Data source: [https://www.kaggle.com/datasets/dilwong/flightprices](https://www.kaggle.com/datasets/dilwong/flightprices)"
   ]
  },
  {
   "cell_type": "code",
   "execution_count": 43,
   "metadata": {},
   "outputs": [],
   "source": [
    "import numpy as np\n",
    "import pandas as pd\n",
    "from isodate import parse_duration"
   ]
  },
  {
   "cell_type": "code",
   "execution_count": 2,
   "metadata": {},
   "outputs": [],
   "source": [
    "data = pd.read_csv('../data/itineraries.csv', usecols=['legId',\n",
    "                                                       'searchDate',\n",
    "                                                       'flightDate',\n",
    "                                                       'travelDuration',\n",
    "                                                       'baseFare',\n",
    "                                                       'seatsRemaining',\n",
    "                                                       'totalTravelDistance',\n",
    "                                                       'destinationAirport'\n",
    "])"
   ]
  },
  {
   "cell_type": "code",
   "execution_count": 3,
   "metadata": {},
   "outputs": [
    {
     "data": {
      "text/html": [
       "<div>\n",
       "<style scoped>\n",
       "    .dataframe tbody tr th:only-of-type {\n",
       "        vertical-align: middle;\n",
       "    }\n",
       "\n",
       "    .dataframe tbody tr th {\n",
       "        vertical-align: top;\n",
       "    }\n",
       "\n",
       "    .dataframe thead th {\n",
       "        text-align: right;\n",
       "    }\n",
       "</style>\n",
       "<table border=\"1\" class=\"dataframe\">\n",
       "  <thead>\n",
       "    <tr style=\"text-align: right;\">\n",
       "      <th></th>\n",
       "      <th>legId</th>\n",
       "      <th>searchDate</th>\n",
       "      <th>flightDate</th>\n",
       "      <th>destinationAirport</th>\n",
       "      <th>travelDuration</th>\n",
       "      <th>baseFare</th>\n",
       "      <th>seatsRemaining</th>\n",
       "      <th>totalTravelDistance</th>\n",
       "    </tr>\n",
       "  </thead>\n",
       "  <tbody>\n",
       "    <tr>\n",
       "      <th>0</th>\n",
       "      <td>9ca0e81111c683bec1012473feefd28f</td>\n",
       "      <td>2022-04-16</td>\n",
       "      <td>2022-04-17</td>\n",
       "      <td>BOS</td>\n",
       "      <td>PT2H29M</td>\n",
       "      <td>217.67</td>\n",
       "      <td>9</td>\n",
       "      <td>947.0</td>\n",
       "    </tr>\n",
       "    <tr>\n",
       "      <th>1</th>\n",
       "      <td>98685953630e772a098941b71906592b</td>\n",
       "      <td>2022-04-16</td>\n",
       "      <td>2022-04-17</td>\n",
       "      <td>BOS</td>\n",
       "      <td>PT2H30M</td>\n",
       "      <td>217.67</td>\n",
       "      <td>4</td>\n",
       "      <td>947.0</td>\n",
       "    </tr>\n",
       "    <tr>\n",
       "      <th>2</th>\n",
       "      <td>98d90cbc32bfbb05c2fc32897c7c1087</td>\n",
       "      <td>2022-04-16</td>\n",
       "      <td>2022-04-17</td>\n",
       "      <td>BOS</td>\n",
       "      <td>PT2H30M</td>\n",
       "      <td>217.67</td>\n",
       "      <td>9</td>\n",
       "      <td>947.0</td>\n",
       "    </tr>\n",
       "    <tr>\n",
       "      <th>3</th>\n",
       "      <td>969a269d38eae583f455486fa90877b4</td>\n",
       "      <td>2022-04-16</td>\n",
       "      <td>2022-04-17</td>\n",
       "      <td>BOS</td>\n",
       "      <td>PT2H32M</td>\n",
       "      <td>217.67</td>\n",
       "      <td>8</td>\n",
       "      <td>947.0</td>\n",
       "    </tr>\n",
       "    <tr>\n",
       "      <th>4</th>\n",
       "      <td>980370cf27c89b40d2833a1d5afc9751</td>\n",
       "      <td>2022-04-16</td>\n",
       "      <td>2022-04-17</td>\n",
       "      <td>BOS</td>\n",
       "      <td>PT2H34M</td>\n",
       "      <td>217.67</td>\n",
       "      <td>9</td>\n",
       "      <td>947.0</td>\n",
       "    </tr>\n",
       "  </tbody>\n",
       "</table>\n",
       "</div>"
      ],
      "text/plain": [
       "                              legId  searchDate  flightDate  \\\n",
       "0  9ca0e81111c683bec1012473feefd28f  2022-04-16  2022-04-17   \n",
       "1  98685953630e772a098941b71906592b  2022-04-16  2022-04-17   \n",
       "2  98d90cbc32bfbb05c2fc32897c7c1087  2022-04-16  2022-04-17   \n",
       "3  969a269d38eae583f455486fa90877b4  2022-04-16  2022-04-17   \n",
       "4  980370cf27c89b40d2833a1d5afc9751  2022-04-16  2022-04-17   \n",
       "\n",
       "  destinationAirport travelDuration  baseFare  seatsRemaining  \\\n",
       "0                BOS        PT2H29M    217.67               9   \n",
       "1                BOS        PT2H30M    217.67               4   \n",
       "2                BOS        PT2H30M    217.67               9   \n",
       "3                BOS        PT2H32M    217.67               8   \n",
       "4                BOS        PT2H34M    217.67               9   \n",
       "\n",
       "   totalTravelDistance  \n",
       "0                947.0  \n",
       "1                947.0  \n",
       "2                947.0  \n",
       "3                947.0  \n",
       "4                947.0  "
      ]
     },
     "execution_count": 3,
     "metadata": {},
     "output_type": "execute_result"
    }
   ],
   "source": [
    "data.head()"
   ]
  },
  {
   "cell_type": "code",
   "execution_count": 4,
   "metadata": {},
   "outputs": [
    {
     "data": {
      "text/plain": [
       "(82138753, 8)"
      ]
     },
     "execution_count": 4,
     "metadata": {},
     "output_type": "execute_result"
    }
   ],
   "source": [
    "data.shape"
   ]
  },
  {
   "cell_type": "markdown",
   "metadata": {},
   "source": [
    "### Dtypes and type management"
   ]
  },
  {
   "cell_type": "code",
   "execution_count": 5,
   "metadata": {},
   "outputs": [
    {
     "data": {
      "text/plain": [
       "legId                   object\n",
       "searchDate              object\n",
       "flightDate              object\n",
       "destinationAirport      object\n",
       "travelDuration          object\n",
       "baseFare               float64\n",
       "seatsRemaining           int64\n",
       "totalTravelDistance    float64\n",
       "dtype: object"
      ]
     },
     "execution_count": 5,
     "metadata": {},
     "output_type": "execute_result"
    }
   ],
   "source": [
    "data.dtypes"
   ]
  },
  {
   "cell_type": "markdown",
   "metadata": {},
   "source": [
    "### Convert date columns to date so we can filter"
   ]
  },
  {
   "cell_type": "code",
   "execution_count": 12,
   "metadata": {},
   "outputs": [],
   "source": [
    "data.searchDate = data.searchDate.astype('str')\n",
    "data.flightDate = data.flightDate.astype('str')\n",
    "data.searchDate = pd.to_datetime(data.searchDate)\n",
    "data.flightDate = pd.to_datetime(data.flightDate)"
   ]
  },
  {
   "cell_type": "code",
   "execution_count": 16,
   "metadata": {},
   "outputs": [
    {
     "data": {
      "text/plain": [
       "legId                          object\n",
       "searchDate             datetime64[ns]\n",
       "flightDate             datetime64[ns]\n",
       "destinationAirport             object\n",
       "travelDuration                 object\n",
       "baseFare                      float64\n",
       "seatsRemaining                  int64\n",
       "totalTravelDistance           float64\n",
       "dtype: object"
      ]
     },
     "execution_count": 16,
     "metadata": {},
     "output_type": "execute_result"
    }
   ],
   "source": [
    "data.dtypes"
   ]
  },
  {
   "cell_type": "markdown",
   "metadata": {},
   "source": [
    "### Convert `totalTravelDistance` to int"
   ]
  },
  {
   "cell_type": "code",
   "execution_count": null,
   "metadata": {},
   "outputs": [],
   "source": [
    "data.totalTravelDistance = data.totalTravelDistance.astype('int')"
   ]
  },
  {
   "cell_type": "markdown",
   "metadata": {},
   "source": [
    "### Subset `flightDate` to June, July, August"
   ]
  },
  {
   "cell_type": "code",
   "execution_count": 19,
   "metadata": {},
   "outputs": [],
   "source": [
    "summer_subset = data.query('flightDate.dt.month in [6,7,8]')"
   ]
  },
  {
   "cell_type": "code",
   "execution_count": 20,
   "metadata": {},
   "outputs": [
    {
     "data": {
      "text/plain": [
       "(42946320, 8)"
      ]
     },
     "execution_count": 20,
     "metadata": {},
     "output_type": "execute_result"
    }
   ],
   "source": [
    "summer_subset.shape"
   ]
  },
  {
   "cell_type": "markdown",
   "metadata": {},
   "source": [
    "### Convert dates to strings for space"
   ]
  },
  {
   "cell_type": "code",
   "execution_count": 24,
   "metadata": {},
   "outputs": [],
   "source": [
    "summer_subset.searchDate = summer_subset.searchDate.astype('str')\n",
    "summer_subset.flightDate = summer_subset.flightDate.astype('str')"
   ]
  },
  {
   "cell_type": "markdown",
   "metadata": {},
   "source": [
    "### Drop NA"
   ]
  },
  {
   "cell_type": "code",
   "execution_count": 21,
   "metadata": {},
   "outputs": [],
   "source": [
    "summer_subset = summer_subset.dropna()"
   ]
  },
  {
   "cell_type": "code",
   "execution_count": 22,
   "metadata": {},
   "outputs": [
    {
     "data": {
      "text/plain": [
       "(39435236, 8)"
      ]
     },
     "execution_count": 22,
     "metadata": {},
     "output_type": "execute_result"
    }
   ],
   "source": [
    "summer_subset.shape"
   ]
  },
  {
   "cell_type": "code",
   "execution_count": 25,
   "metadata": {},
   "outputs": [
    {
     "data": {
      "text/html": [
       "<div>\n",
       "<style scoped>\n",
       "    .dataframe tbody tr th:only-of-type {\n",
       "        vertical-align: middle;\n",
       "    }\n",
       "\n",
       "    .dataframe tbody tr th {\n",
       "        vertical-align: top;\n",
       "    }\n",
       "\n",
       "    .dataframe thead th {\n",
       "        text-align: right;\n",
       "    }\n",
       "</style>\n",
       "<table border=\"1\" class=\"dataframe\">\n",
       "  <thead>\n",
       "    <tr style=\"text-align: right;\">\n",
       "      <th></th>\n",
       "      <th>legId</th>\n",
       "      <th>searchDate</th>\n",
       "      <th>flightDate</th>\n",
       "      <th>destinationAirport</th>\n",
       "      <th>travelDuration</th>\n",
       "      <th>baseFare</th>\n",
       "      <th>seatsRemaining</th>\n",
       "      <th>totalTravelDistance</th>\n",
       "    </tr>\n",
       "  </thead>\n",
       "  <tbody>\n",
       "    <tr>\n",
       "      <th>480267</th>\n",
       "      <td>222cfd6d1b0d5732602a3e82ad7730c3</td>\n",
       "      <td>2022-04-17</td>\n",
       "      <td>2022-06-01</td>\n",
       "      <td>BOS</td>\n",
       "      <td>PT4H50M</td>\n",
       "      <td>65.48</td>\n",
       "      <td>4</td>\n",
       "      <td>947.0</td>\n",
       "    </tr>\n",
       "    <tr>\n",
       "      <th>480269</th>\n",
       "      <td>71cf5163f5efbd007c87aeef85e0c2cc</td>\n",
       "      <td>2022-04-17</td>\n",
       "      <td>2022-06-01</td>\n",
       "      <td>BOS</td>\n",
       "      <td>PT2H37M</td>\n",
       "      <td>161.86</td>\n",
       "      <td>9</td>\n",
       "      <td>947.0</td>\n",
       "    </tr>\n",
       "    <tr>\n",
       "      <th>480270</th>\n",
       "      <td>141ef83862caac6be402158433b55c1f</td>\n",
       "      <td>2022-04-17</td>\n",
       "      <td>2022-06-01</td>\n",
       "      <td>BOS</td>\n",
       "      <td>PT2H41M</td>\n",
       "      <td>161.86</td>\n",
       "      <td>2</td>\n",
       "      <td>947.0</td>\n",
       "    </tr>\n",
       "    <tr>\n",
       "      <th>480271</th>\n",
       "      <td>5921ef14d28a822fc25eb9d7879134a9</td>\n",
       "      <td>2022-04-17</td>\n",
       "      <td>2022-06-01</td>\n",
       "      <td>BOS</td>\n",
       "      <td>PT6H3M</td>\n",
       "      <td>158.14</td>\n",
       "      <td>3</td>\n",
       "      <td>956.0</td>\n",
       "    </tr>\n",
       "    <tr>\n",
       "      <th>480272</th>\n",
       "      <td>3ce43c14cd65f1d4303a4b90093f328c</td>\n",
       "      <td>2022-04-17</td>\n",
       "      <td>2022-06-01</td>\n",
       "      <td>BOS</td>\n",
       "      <td>PT8H13M</td>\n",
       "      <td>151.63</td>\n",
       "      <td>9</td>\n",
       "      <td>947.0</td>\n",
       "    </tr>\n",
       "  </tbody>\n",
       "</table>\n",
       "</div>"
      ],
      "text/plain": [
       "                                   legId  searchDate  flightDate  \\\n",
       "480267  222cfd6d1b0d5732602a3e82ad7730c3  2022-04-17  2022-06-01   \n",
       "480269  71cf5163f5efbd007c87aeef85e0c2cc  2022-04-17  2022-06-01   \n",
       "480270  141ef83862caac6be402158433b55c1f  2022-04-17  2022-06-01   \n",
       "480271  5921ef14d28a822fc25eb9d7879134a9  2022-04-17  2022-06-01   \n",
       "480272  3ce43c14cd65f1d4303a4b90093f328c  2022-04-17  2022-06-01   \n",
       "\n",
       "       destinationAirport travelDuration  baseFare  seatsRemaining  \\\n",
       "480267                BOS        PT4H50M     65.48               4   \n",
       "480269                BOS        PT2H37M    161.86               9   \n",
       "480270                BOS        PT2H41M    161.86               2   \n",
       "480271                BOS         PT6H3M    158.14               3   \n",
       "480272                BOS        PT8H13M    151.63               9   \n",
       "\n",
       "        totalTravelDistance  \n",
       "480267                947.0  \n",
       "480269                947.0  \n",
       "480270                947.0  \n",
       "480271                956.0  \n",
       "480272                947.0  "
      ]
     },
     "execution_count": 25,
     "metadata": {},
     "output_type": "execute_result"
    }
   ],
   "source": [
    "summer_subset.head()"
   ]
  },
  {
   "cell_type": "markdown",
   "metadata": {},
   "source": [
    "### Clean `travelDuration`"
   ]
  },
  {
   "cell_type": "code",
   "execution_count": 27,
   "metadata": {},
   "outputs": [
    {
     "data": {
      "text/plain": [
       "480267    PT4H50M\n",
       "480269    PT2H37M\n",
       "480270    PT2H41M\n",
       "480271     PT6H3M\n",
       "480272    PT8H13M\n",
       "Name: travelDuration, dtype: object"
      ]
     },
     "execution_count": 27,
     "metadata": {},
     "output_type": "execute_result"
    }
   ],
   "source": [
    "summer_subset.travelDuration.head()"
   ]
  },
  {
   "cell_type": "code",
   "execution_count": 46,
   "metadata": {},
   "outputs": [
    {
     "data": {
      "text/plain": [
       "28606778       PT9H\n",
       "7969588     PT2H29M\n",
       "37266859    PT9H50M\n",
       "33444554    PT7H51M\n",
       "37410829    PT5H24M\n",
       "Name: travelDuration, dtype: object"
      ]
     },
     "execution_count": 46,
     "metadata": {},
     "output_type": "execute_result"
    }
   ],
   "source": [
    "summer_subset.travelDuration.sample(5)"
   ]
  },
  {
   "cell_type": "code",
   "execution_count": 44,
   "metadata": {},
   "outputs": [],
   "source": [
    "def duration_str_to_seconds(duration_str):\n",
    "    duration = parse_duration(duration_str)\n",
    "    return int(duration.total_seconds())"
   ]
  },
  {
   "cell_type": "code",
   "execution_count": 45,
   "metadata": {},
   "outputs": [
    {
     "name": "stdout",
     "output_type": "stream",
     "text": [
      "Duration in seconds: 19740\n"
     ]
    }
   ],
   "source": [
    "# Example usage:\n",
    "duration = \"PT5H29M\"\n",
    "seconds = duration_str_to_seconds(duration)\n",
    "print(\"Duration in seconds:\", seconds)"
   ]
  },
  {
   "cell_type": "code",
   "execution_count": 48,
   "metadata": {},
   "outputs": [],
   "source": [
    "summer_subset['durationSeconds'] = summer_subset.travelDuration.apply(lambda x: duration_str_to_seconds(x))"
   ]
  },
  {
   "cell_type": "code",
   "execution_count": 49,
   "metadata": {},
   "outputs": [
    {
     "data": {
      "text/html": [
       "<div>\n",
       "<style scoped>\n",
       "    .dataframe tbody tr th:only-of-type {\n",
       "        vertical-align: middle;\n",
       "    }\n",
       "\n",
       "    .dataframe tbody tr th {\n",
       "        vertical-align: top;\n",
       "    }\n",
       "\n",
       "    .dataframe thead th {\n",
       "        text-align: right;\n",
       "    }\n",
       "</style>\n",
       "<table border=\"1\" class=\"dataframe\">\n",
       "  <thead>\n",
       "    <tr style=\"text-align: right;\">\n",
       "      <th></th>\n",
       "      <th>legId</th>\n",
       "      <th>searchDate</th>\n",
       "      <th>flightDate</th>\n",
       "      <th>destinationAirport</th>\n",
       "      <th>travelDuration</th>\n",
       "      <th>baseFare</th>\n",
       "      <th>seatsRemaining</th>\n",
       "      <th>totalTravelDistance</th>\n",
       "      <th>durationSeconds</th>\n",
       "    </tr>\n",
       "  </thead>\n",
       "  <tbody>\n",
       "    <tr>\n",
       "      <th>480267</th>\n",
       "      <td>222cfd6d1b0d5732602a3e82ad7730c3</td>\n",
       "      <td>2022-04-17</td>\n",
       "      <td>2022-06-01</td>\n",
       "      <td>BOS</td>\n",
       "      <td>PT4H50M</td>\n",
       "      <td>65.48</td>\n",
       "      <td>4</td>\n",
       "      <td>947.0</td>\n",
       "      <td>17400</td>\n",
       "    </tr>\n",
       "    <tr>\n",
       "      <th>480269</th>\n",
       "      <td>71cf5163f5efbd007c87aeef85e0c2cc</td>\n",
       "      <td>2022-04-17</td>\n",
       "      <td>2022-06-01</td>\n",
       "      <td>BOS</td>\n",
       "      <td>PT2H37M</td>\n",
       "      <td>161.86</td>\n",
       "      <td>9</td>\n",
       "      <td>947.0</td>\n",
       "      <td>9420</td>\n",
       "    </tr>\n",
       "    <tr>\n",
       "      <th>480270</th>\n",
       "      <td>141ef83862caac6be402158433b55c1f</td>\n",
       "      <td>2022-04-17</td>\n",
       "      <td>2022-06-01</td>\n",
       "      <td>BOS</td>\n",
       "      <td>PT2H41M</td>\n",
       "      <td>161.86</td>\n",
       "      <td>2</td>\n",
       "      <td>947.0</td>\n",
       "      <td>9660</td>\n",
       "    </tr>\n",
       "    <tr>\n",
       "      <th>480271</th>\n",
       "      <td>5921ef14d28a822fc25eb9d7879134a9</td>\n",
       "      <td>2022-04-17</td>\n",
       "      <td>2022-06-01</td>\n",
       "      <td>BOS</td>\n",
       "      <td>PT6H3M</td>\n",
       "      <td>158.14</td>\n",
       "      <td>3</td>\n",
       "      <td>956.0</td>\n",
       "      <td>21780</td>\n",
       "    </tr>\n",
       "    <tr>\n",
       "      <th>480272</th>\n",
       "      <td>3ce43c14cd65f1d4303a4b90093f328c</td>\n",
       "      <td>2022-04-17</td>\n",
       "      <td>2022-06-01</td>\n",
       "      <td>BOS</td>\n",
       "      <td>PT8H13M</td>\n",
       "      <td>151.63</td>\n",
       "      <td>9</td>\n",
       "      <td>947.0</td>\n",
       "      <td>29580</td>\n",
       "    </tr>\n",
       "  </tbody>\n",
       "</table>\n",
       "</div>"
      ],
      "text/plain": [
       "                                   legId  searchDate  flightDate  \\\n",
       "480267  222cfd6d1b0d5732602a3e82ad7730c3  2022-04-17  2022-06-01   \n",
       "480269  71cf5163f5efbd007c87aeef85e0c2cc  2022-04-17  2022-06-01   \n",
       "480270  141ef83862caac6be402158433b55c1f  2022-04-17  2022-06-01   \n",
       "480271  5921ef14d28a822fc25eb9d7879134a9  2022-04-17  2022-06-01   \n",
       "480272  3ce43c14cd65f1d4303a4b90093f328c  2022-04-17  2022-06-01   \n",
       "\n",
       "       destinationAirport travelDuration  baseFare  seatsRemaining  \\\n",
       "480267                BOS        PT4H50M     65.48               4   \n",
       "480269                BOS        PT2H37M    161.86               9   \n",
       "480270                BOS        PT2H41M    161.86               2   \n",
       "480271                BOS         PT6H3M    158.14               3   \n",
       "480272                BOS        PT8H13M    151.63               9   \n",
       "\n",
       "        totalTravelDistance  durationSeconds  \n",
       "480267                947.0            17400  \n",
       "480269                947.0             9420  \n",
       "480270                947.0             9660  \n",
       "480271                956.0            21780  \n",
       "480272                947.0            29580  "
      ]
     },
     "execution_count": 49,
     "metadata": {},
     "output_type": "execute_result"
    }
   ],
   "source": [
    "summer_subset.head()"
   ]
  },
  {
   "cell_type": "markdown",
   "metadata": {},
   "source": [
    "### Drop `travelDuration` now that we've converted to seconds"
   ]
  },
  {
   "cell_type": "code",
   "execution_count": 50,
   "metadata": {},
   "outputs": [],
   "source": [
    "summer_subset = summer_subset.drop('travelDuration', axis=1)"
   ]
  },
  {
   "cell_type": "code",
   "execution_count": 51,
   "metadata": {},
   "outputs": [
    {
     "data": {
      "text/html": [
       "<div>\n",
       "<style scoped>\n",
       "    .dataframe tbody tr th:only-of-type {\n",
       "        vertical-align: middle;\n",
       "    }\n",
       "\n",
       "    .dataframe tbody tr th {\n",
       "        vertical-align: top;\n",
       "    }\n",
       "\n",
       "    .dataframe thead th {\n",
       "        text-align: right;\n",
       "    }\n",
       "</style>\n",
       "<table border=\"1\" class=\"dataframe\">\n",
       "  <thead>\n",
       "    <tr style=\"text-align: right;\">\n",
       "      <th></th>\n",
       "      <th>legId</th>\n",
       "      <th>searchDate</th>\n",
       "      <th>flightDate</th>\n",
       "      <th>destinationAirport</th>\n",
       "      <th>baseFare</th>\n",
       "      <th>seatsRemaining</th>\n",
       "      <th>totalTravelDistance</th>\n",
       "      <th>durationSeconds</th>\n",
       "    </tr>\n",
       "  </thead>\n",
       "  <tbody>\n",
       "    <tr>\n",
       "      <th>480267</th>\n",
       "      <td>222cfd6d1b0d5732602a3e82ad7730c3</td>\n",
       "      <td>2022-04-17</td>\n",
       "      <td>2022-06-01</td>\n",
       "      <td>BOS</td>\n",
       "      <td>65.48</td>\n",
       "      <td>4</td>\n",
       "      <td>947.0</td>\n",
       "      <td>17400</td>\n",
       "    </tr>\n",
       "    <tr>\n",
       "      <th>480269</th>\n",
       "      <td>71cf5163f5efbd007c87aeef85e0c2cc</td>\n",
       "      <td>2022-04-17</td>\n",
       "      <td>2022-06-01</td>\n",
       "      <td>BOS</td>\n",
       "      <td>161.86</td>\n",
       "      <td>9</td>\n",
       "      <td>947.0</td>\n",
       "      <td>9420</td>\n",
       "    </tr>\n",
       "    <tr>\n",
       "      <th>480270</th>\n",
       "      <td>141ef83862caac6be402158433b55c1f</td>\n",
       "      <td>2022-04-17</td>\n",
       "      <td>2022-06-01</td>\n",
       "      <td>BOS</td>\n",
       "      <td>161.86</td>\n",
       "      <td>2</td>\n",
       "      <td>947.0</td>\n",
       "      <td>9660</td>\n",
       "    </tr>\n",
       "    <tr>\n",
       "      <th>480271</th>\n",
       "      <td>5921ef14d28a822fc25eb9d7879134a9</td>\n",
       "      <td>2022-04-17</td>\n",
       "      <td>2022-06-01</td>\n",
       "      <td>BOS</td>\n",
       "      <td>158.14</td>\n",
       "      <td>3</td>\n",
       "      <td>956.0</td>\n",
       "      <td>21780</td>\n",
       "    </tr>\n",
       "    <tr>\n",
       "      <th>480272</th>\n",
       "      <td>3ce43c14cd65f1d4303a4b90093f328c</td>\n",
       "      <td>2022-04-17</td>\n",
       "      <td>2022-06-01</td>\n",
       "      <td>BOS</td>\n",
       "      <td>151.63</td>\n",
       "      <td>9</td>\n",
       "      <td>947.0</td>\n",
       "      <td>29580</td>\n",
       "    </tr>\n",
       "  </tbody>\n",
       "</table>\n",
       "</div>"
      ],
      "text/plain": [
       "                                   legId  searchDate  flightDate  \\\n",
       "480267  222cfd6d1b0d5732602a3e82ad7730c3  2022-04-17  2022-06-01   \n",
       "480269  71cf5163f5efbd007c87aeef85e0c2cc  2022-04-17  2022-06-01   \n",
       "480270  141ef83862caac6be402158433b55c1f  2022-04-17  2022-06-01   \n",
       "480271  5921ef14d28a822fc25eb9d7879134a9  2022-04-17  2022-06-01   \n",
       "480272  3ce43c14cd65f1d4303a4b90093f328c  2022-04-17  2022-06-01   \n",
       "\n",
       "       destinationAirport  baseFare  seatsRemaining  totalTravelDistance  \\\n",
       "480267                BOS     65.48               4                947.0   \n",
       "480269                BOS    161.86               9                947.0   \n",
       "480270                BOS    161.86               2                947.0   \n",
       "480271                BOS    158.14               3                956.0   \n",
       "480272                BOS    151.63               9                947.0   \n",
       "\n",
       "        durationSeconds  \n",
       "480267            17400  \n",
       "480269             9420  \n",
       "480270             9660  \n",
       "480271            21780  \n",
       "480272            29580  "
      ]
     },
     "execution_count": 51,
     "metadata": {},
     "output_type": "execute_result"
    }
   ],
   "source": [
    "summer_subset.head()"
   ]
  },
  {
   "cell_type": "markdown",
   "metadata": {},
   "source": [
    "### Save `summer_subset` to .csv"
   ]
  },
  {
   "cell_type": "code",
   "execution_count": 58,
   "metadata": {},
   "outputs": [],
   "source": [
    "summer_subset.to_csv('cleaned_data.csv')"
   ]
  }
 ],
 "metadata": {
  "kernelspec": {
   "display_name": "ds-6001",
   "language": "python",
   "name": "python3"
  },
  "language_info": {
   "codemirror_mode": {
    "name": "ipython",
    "version": 3
   },
   "file_extension": ".py",
   "mimetype": "text/x-python",
   "name": "python",
   "nbconvert_exporter": "python",
   "pygments_lexer": "ipython3",
   "version": "3.10.12"
  }
 },
 "nbformat": 4,
 "nbformat_minor": 2
}
