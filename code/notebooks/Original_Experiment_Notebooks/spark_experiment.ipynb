{
 "cells": [
  {
   "cell_type": "markdown",
   "id": "cad1572d-0d1d-4cbe-950d-7e483b99e756",
   "metadata": {},
   "source": [
    "# Spark Experiment"
   ]
  },
  {
   "cell_type": "markdown",
   "id": "56cd92df-61b9-47f2-906b-9e6307e42871",
   "metadata": {},
   "source": [
    "## Set Seed"
   ]
  },
  {
   "cell_type": "code",
   "execution_count": 1,
   "id": "e111679d-e030-470a-835b-f452687bb488",
   "metadata": {},
   "outputs": [
    {
     "data": {
      "text/plain": [
       "'/home/ubuntu/spark-3.3.1-bin-hadoop3'"
      ]
     },
     "execution_count": 1,
     "metadata": {},
     "output_type": "execute_result"
    }
   ],
   "source": [
    "# Import findspark\n",
    "import findspark\n",
    "findspark.init('/home/ubuntu/spark-3.3.1-bin-hadoop3')\n",
    "findspark.find()"
   ]
  },
  {
   "cell_type": "code",
   "execution_count": 2,
   "id": "859aed93-3350-4c80-ba7d-28398c0dfd58",
   "metadata": {},
   "outputs": [],
   "source": [
    "import numpy as np\n",
    "import pandas as pd\n",
    "import time\n",
    "import matplotlib.pyplot as plt\n",
    "from pyspark import SparkConf, SparkContext\n",
    "from sklearn.neighbors import NearestNeighbors\n",
    "from pyspark.ml.feature import VectorAssembler\n",
    "from pyspark.ml.evaluation import RegressionEvaluator\n",
    "from pyspark.ml.regression import RandomForestRegressor\n",
    "from pyspark.ml.clustering import KMeans\n",
    "from pyspark.ml.evaluation import ClusteringEvaluator, MulticlassClassificationEvaluator"
   ]
  },
  {
   "cell_type": "code",
   "execution_count": 3,
   "id": "6a0fc9ef-ea49-42ae-91c9-322765f378d1",
   "metadata": {},
   "outputs": [],
   "source": [
    "SEED = 42"
   ]
  },
  {
   "cell_type": "code",
   "execution_count": 4,
   "id": "35d81c18-4eaf-4605-a1f1-07c310c0f4f2",
   "metadata": {},
   "outputs": [
    {
     "name": "stderr",
     "output_type": "stream",
     "text": [
      "Setting default log level to \"WARN\".\n",
      "To adjust logging level use sc.setLogLevel(newLevel). For SparkR, use setLogLevel(newLevel).\n"
     ]
    },
    {
     "name": "stdout",
     "output_type": "stream",
     "text": [
      "24/04/23 14:23:53 WARN NativeCodeLoader: Unable to load native-hadoop library for your platform... using builtin-java classes where applicable\n"
     ]
    }
   ],
   "source": [
    "from pyspark.sql import SparkSession\n",
    "\n",
    "# The entry point into all functionality in Spark is the SparkSession class.\n",
    "spark = (SparkSession\n",
    "\t.builder\n",
    "\t.appName(\"DS5110/CS5501: my awesome Spark program\")\n",
    "\t.master(\"spark://172.31.88.97:7077\")\n",
    "\t.config(\"spark.executor.memory\", \"1024M\")\n",
    "\t.getOrCreate())"
   ]
  },
  {
   "cell_type": "code",
   "execution_count": 5,
   "id": "3b297cf0-c643-47b5-add8-51829f2dd898",
   "metadata": {},
   "outputs": [
    {
     "data": {
      "text/html": [
       "\n",
       "            <div>\n",
       "                <p><b>SparkSession - in-memory</b></p>\n",
       "                \n",
       "        <div>\n",
       "            <p><b>SparkContext</b></p>\n",
       "\n",
       "            <p><a href=\"http://ip-172-31-88-97.ec2.internal:4040\">Spark UI</a></p>\n",
       "\n",
       "            <dl>\n",
       "              <dt>Version</dt>\n",
       "                <dd><code>v3.3.1</code></dd>\n",
       "              <dt>Master</dt>\n",
       "                <dd><code>spark://172.31.88.97:7077</code></dd>\n",
       "              <dt>AppName</dt>\n",
       "                <dd><code>DS5110/CS5501: my awesome Spark program</code></dd>\n",
       "            </dl>\n",
       "        </div>\n",
       "        \n",
       "            </div>\n",
       "        "
      ],
      "text/plain": [
       "<pyspark.sql.session.SparkSession at 0x7f8c1b693880>"
      ]
     },
     "execution_count": 5,
     "metadata": {},
     "output_type": "execute_result"
    }
   ],
   "source": [
    "spark"
   ]
  },
  {
   "cell_type": "markdown",
   "id": "bf934cef-b99f-4aa9-8064-5aa7cffb27dd",
   "metadata": {},
   "source": [
    "## Read Data"
   ]
  },
  {
   "cell_type": "code",
   "execution_count": 6,
   "id": "3d86e9c3-84ae-4303-a893-c4d612b39fab",
   "metadata": {},
   "outputs": [
    {
     "name": "stderr",
     "output_type": "stream",
     "text": [
      "                                                                                \r"
     ]
    }
   ],
   "source": [
    "# Split data into X and y\n",
    "X_reg_train = (spark.read\n",
    "               .format('csv')\n",
    "               .option('inferSchema', True)\n",
    "               .option('header', True)\n",
    "               .load('hdfs://172.31.88.97:9000/X_reg_train.csv')\n",
    "              )\n",
    "X_reg_test = (spark.read\n",
    "               .format('csv')\n",
    "               .option('inferSchema', True)\n",
    "               .option('header', True)\n",
    "               .load('hdfs://172.31.88.97:9000/X_reg_test.csv')\n",
    "              )\n",
    "X_class_train = (spark.read\n",
    "               .format('csv')\n",
    "               .option('inferSchema', True)\n",
    "               .option('header', True)\n",
    "               .load('hdfs://172.31.88.97:9000/X_class_train.csv')\n",
    "              )\n",
    "X_class_test = (spark.read\n",
    "               .format('csv')\n",
    "               .option('inferSchema', True)\n",
    "               .option('header', True)\n",
    "               .load('hdfs://172.31.88.97:9000/X_class_test.csv')\n",
    "              )\n",
    "y_reg_train = (spark.read\n",
    "               .format('csv')\n",
    "               .option('inferSchema', True)\n",
    "               .option('header', True)\n",
    "               .load('hdfs://172.31.88.97:9000/y_reg_train.csv')\n",
    "              )\n",
    "y_reg_test = (spark.read\n",
    "               .format('csv')\n",
    "               .option('inferSchema', True)\n",
    "               .option('header', True)\n",
    "               .load('hdfs://172.31.88.97:9000/y_reg_test.csv')\n",
    "              )\n",
    "y_class_train = (spark.read\n",
    "               .format('csv')\n",
    "               .option('inferSchema', True)\n",
    "               .option('header', True)\n",
    "               .load('hdfs://172.31.88.97:9000/y_class_train.csv')\n",
    "              )\n",
    "y_class_test = (spark.read\n",
    "               .format('csv')\n",
    "               .option('inferSchema', True)\n",
    "               .option('header', True)\n",
    "               .load('hdfs://172.31.88.97:9000/y_class_test.csv')\n",
    "              )"
   ]
  },
  {
   "cell_type": "markdown",
   "id": "18c3fb0e-e669-491a-a0ab-ca60ebd19de2",
   "metadata": {},
   "source": [
    "## Inspect Data\n",
    "We will need to join X and y for each step I believe. It looks like the data has an old index column we can join on."
   ]
  },
  {
   "cell_type": "code",
   "execution_count": 8,
   "id": "0d91d382-6d6c-45eb-b127-53ddea74b0db",
   "metadata": {},
   "outputs": [
    {
     "data": {
      "text/plain": [
       "[Row(_c0=28120237, dateDelta=0.5764591848038317, seatsRemaining=0.6878736440934151, totalTravelDistance=0.5335992043260079, durationSeconds=0.38985526700984063),\n",
       " Row(_c0=23324511, dateDelta=-1.4312694411428493, seatsRemaining=1.0779777898947491, totalTravelDistance=1.02154231351557, durationSeconds=0.805486775199166),\n",
       " Row(_c0=16627325, dateDelta=0.9898150783810896, seatsRemaining=1.0779777898947491, totalTravelDistance=-0.9088603520372959, durationSeconds=1.1056650866692344),\n",
       " Row(_c0=39011620, dateDelta=-1.0769643895051997, seatsRemaining=0.2977694982920811, totalTravelDistance=0.2462945025647573, durationSeconds=0.5514897424168005),\n",
       " Row(_c0=32887241, dateDelta=-0.6045576539883336, seatsRemaining=-1.652751230714589, totalTravelDistance=0.881451591169175, durationSeconds=1.6690766866592086)]"
      ]
     },
     "execution_count": 8,
     "metadata": {},
     "output_type": "execute_result"
    }
   ],
   "source": [
    "X_reg_train.head(5)"
   ]
  },
  {
   "cell_type": "code",
   "execution_count": 9,
   "id": "fea09779-d2a3-46c3-8ff3-57e5a53aa76d",
   "metadata": {},
   "outputs": [
    {
     "data": {
      "text/plain": [
       "[Row(_c0=28120237, baseFare=0.3627135043459776),\n",
       " Row(_c0=23324511, baseFare=0.34768249106493015),\n",
       " Row(_c0=16627325, baseFare=0.7786792876541005),\n",
       " Row(_c0=39011620, baseFare=-0.9753699252646759),\n",
       " Row(_c0=32887241, baseFare=0.7034703466492904)]"
      ]
     },
     "execution_count": 9,
     "metadata": {},
     "output_type": "execute_result"
    }
   ],
   "source": [
    "y_reg_train.head(5)"
   ]
  },
  {
   "cell_type": "code",
   "execution_count": 10,
   "id": "22892849-3a12-444d-8886-782cea095f83",
   "metadata": {},
   "outputs": [
    {
     "name": "stderr",
     "output_type": "stream",
     "text": [
      "                                                                                \r"
     ]
    },
    {
     "data": {
      "text/plain": [
       "16000000"
      ]
     },
     "execution_count": 10,
     "metadata": {},
     "output_type": "execute_result"
    }
   ],
   "source": [
    "X_reg_train.count()"
   ]
  },
  {
   "cell_type": "code",
   "execution_count": 11,
   "id": "60e361cb-61db-4f9a-a7f0-478b3787d9f7",
   "metadata": {},
   "outputs": [
    {
     "name": "stderr",
     "output_type": "stream",
     "text": [
      "                                                                                \r"
     ]
    },
    {
     "data": {
      "text/plain": [
       "16000000"
      ]
     },
     "execution_count": 11,
     "metadata": {},
     "output_type": "execute_result"
    }
   ],
   "source": [
    "y_reg_train.count()"
   ]
  },
  {
   "cell_type": "code",
   "execution_count": 14,
   "id": "50b42f92-2b07-4f7b-bce1-a7038fc0d9a3",
   "metadata": {},
   "outputs": [
    {
     "name": "stdout",
     "output_type": "stream",
     "text": [
      "+--------+-------------------+------------------+-------------------+-------------------+\n",
      "|     _c0|          dateDelta|    seatsRemaining|totalTravelDistance|    durationSeconds|\n",
      "+--------+-------------------+------------------+-------------------+-------------------+\n",
      "|28120237| 0.5764591848038317|0.6878736440934151| 0.5335992043260079|0.38985526700984063|\n",
      "|23324511|-1.4312694411428493|1.0779777898947491|   1.02154231351557|  0.805486775199166|\n",
      "|16627325| 0.9898150783810896|1.0779777898947491|-0.9088603520372959| 1.1056650866692344|\n",
      "|39011620|-1.0769643895051997|0.2977694982920811| 0.2462945025647573| 0.5514897424168005|\n",
      "|32887241|-0.6045576539883336|-1.652751230714589|  0.881451591169175| 1.6690766866592086|\n",
      "+--------+-------------------+------------------+-------------------+-------------------+\n",
      "only showing top 5 rows\n",
      "\n"
     ]
    }
   ],
   "source": [
    "X_reg_train.show(5)"
   ]
  },
  {
   "cell_type": "code",
   "execution_count": 15,
   "id": "9268c938-5015-452b-9af3-0fc7617acd6d",
   "metadata": {},
   "outputs": [
    {
     "name": "stdout",
     "output_type": "stream",
     "text": [
      "+--------+-------------------+-------------------+------------------+-------------------+-------------------+\n",
      "|     _c0|          dateDelta|           baseFare|    seatsRemaining|totalTravelDistance|    durationSeconds|\n",
      "+--------+-------------------+-------------------+------------------+-------------------+-------------------+\n",
      "|28120237| 0.5764591848038317| 0.3627135043459776|0.6878736440934151| 0.5335992043260079|0.38985526700984063|\n",
      "|23324511|-1.4312694411428493|0.34768249106493015|1.0779777898947491|   1.02154231351557|  0.805486775199166|\n",
      "|16627325| 0.9898150783810896| 0.7786792876541005|1.0779777898947491|-0.9088603520372959| 1.1056650866692344|\n",
      "|39011620|-1.0769643895051997|-0.9753699252646759|0.2977694982920811| 0.2462945025647573| 0.5514897424168005|\n",
      "|32887241|-0.6045576539883336| 0.7034703466492904|-1.652751230714589|  0.881451591169175| 1.6690766866592086|\n",
      "+--------+-------------------+-------------------+------------------+-------------------+-------------------+\n",
      "only showing top 5 rows\n",
      "\n"
     ]
    }
   ],
   "source": [
    "X_class_train.show(5)"
   ]
  },
  {
   "cell_type": "markdown",
   "id": "221bf9e1-8ba4-4d80-9d53-3b838e194c87",
   "metadata": {},
   "source": [
    "### Combine X and y for each dataset"
   ]
  },
  {
   "cell_type": "code",
   "execution_count": 7,
   "id": "c828f6b2-a8c9-4170-ac94-a494e4d456ed",
   "metadata": {},
   "outputs": [],
   "source": [
    "reg_train = X_reg_train.join(y_reg_train, X_reg_train._c0 == y_reg_train._c0, \"left\").drop('_c0')"
   ]
  },
  {
   "cell_type": "code",
   "execution_count": 25,
   "id": "dbf09b7c-e950-4e71-8c83-607bf96b19db",
   "metadata": {},
   "outputs": [
    {
     "name": "stderr",
     "output_type": "stream",
     "text": [
      "                                                                                \r"
     ]
    },
    {
     "data": {
      "text/plain": [
       "16000000"
      ]
     },
     "execution_count": 25,
     "metadata": {},
     "output_type": "execute_result"
    }
   ],
   "source": [
    "reg_train.count()"
   ]
  },
  {
   "cell_type": "code",
   "execution_count": 8,
   "id": "4ef3aa8d-e77b-4719-a204-6c04b568eb0f",
   "metadata": {},
   "outputs": [],
   "source": [
    "reg_test = X_reg_test.join(y_reg_test, X_reg_test._c0 == y_reg_test._c0, \"left\").drop('_c0')"
   ]
  },
  {
   "cell_type": "code",
   "execution_count": 29,
   "id": "f648db54-120c-4268-8682-2560ef61827b",
   "metadata": {},
   "outputs": [
    {
     "name": "stderr",
     "output_type": "stream",
     "text": [
      "                                                                                \r"
     ]
    },
    {
     "data": {
      "text/plain": [
       "4000000"
      ]
     },
     "execution_count": 29,
     "metadata": {},
     "output_type": "execute_result"
    }
   ],
   "source": [
    "reg_test.count()"
   ]
  },
  {
   "cell_type": "code",
   "execution_count": 9,
   "id": "60a9e8b3-e9e3-4b01-a8fd-6823cc6fe008",
   "metadata": {},
   "outputs": [],
   "source": [
    "class_train = X_class_train.join(y_class_train, X_class_train._c0 == y_class_train._c0, \"left\").drop('_c0')\n",
    "class_test = X_class_test.join(y_class_test, X_class_test._c0 == y_class_test._c0, \"left\").drop('_c0')"
   ]
  },
  {
   "cell_type": "code",
   "execution_count": 36,
   "id": "842a07a5-2d97-403e-8e31-53cfe264adca",
   "metadata": {},
   "outputs": [
    {
     "name": "stderr",
     "output_type": "stream",
     "text": [
      "                                                                                \r"
     ]
    },
    {
     "data": {
      "text/plain": [
       "Row(dateDelta=1.8165268655356053, baseFare=-0.24369898845498525, seatsRemaining=1.0779777898947491, totalTravelDistance=-0.7010986875405237, durationSeconds=-0.60304222477577, destinationAirport='EWR')"
      ]
     },
     "execution_count": 36,
     "metadata": {},
     "output_type": "execute_result"
    }
   ],
   "source": [
    "class_train.head()"
   ]
  },
  {
   "cell_type": "markdown",
   "id": "afd997c2-d8ca-4135-a084-967413da429b",
   "metadata": {},
   "source": [
    "## Spark Experiment Function"
   ]
  },
  {
   "cell_type": "code",
   "execution_count": 10,
   "id": "e047a618-88d8-43e5-8ee8-1b3d85fafb43",
   "metadata": {},
   "outputs": [],
   "source": [
    "def spark_time_algorithm(subset_prop, algorithm_name, SEED=SEED):\n",
    "    '''\n",
    "    algorithm_name one of 'KNN', 'RF', 'KMEANS'\n",
    "    '''\n",
    "    if (algorithm_name == \"KNN\" or algorithm_name == \"RF\"):\n",
    "        # Subset data\n",
    "        reg_train_subset = reg_train.limit(int(reg_train.count() * subset_prop))\n",
    "        reg_test_subset = reg_test.limit(int(reg_test.count() * subset_prop))\n",
    "        # Check subset shape\n",
    "        print(f'reg_train_subset shape {reg_train_subset.count()}')\n",
    "        print(f'reg_test_subset shape {reg_test_subset.count()}')\n",
    "        # Assemble vectors for model\n",
    "        numericCols = ['dateDelta', 'seatsRemaining', 'totalTravelDistance', 'durationSeconds']\n",
    "        assembler = VectorAssembler(inputCols=numericCols, outputCol=\"features\")\n",
    "        train = assembler.transform(reg_train_subset)\n",
    "        test = assembler.transform(reg_test_subset)\n",
    "      \n",
    "    elif (algorithm_name == \"KMEANS\"):\n",
    "        class_train_subset = class_train.limit(int(class_train.count() * subset_prop))\n",
    "        class_test_subset = class_test.limit(int(class_test.count() * subset_prop))\n",
    "        print(f'class_train_subset shape {class_train_subset.count()}')\n",
    "        print(f'class_test_subset shape {class_test_subset.count()}')\n",
    "        # Assemble vectors for model\n",
    "        numericCols = ['dateDelta', 'baseFare', 'seatsRemaining', 'totalTravelDistance', 'durationSeconds']\n",
    "        assembler = VectorAssembler(inputCols=numericCols, outputCol=\"features\")\n",
    "        train = assembler.transform(class_train_subset)\n",
    "        test = assembler.transform(class_test_subset)\n",
    "       \n",
    "    start_time = time.time()\n",
    "       \n",
    "    if algorithm_name == \"KNN\":\n",
    "        # Cache vectors\n",
    "        train.cache()\n",
    "        # Create kNN tree locally, and broadcast\n",
    "        train_collected = train.collect()\n",
    "        knnobj = NearestNeighbors(n_neighbors=5).fit(train_collected)\n",
    "        bc_knnobj = sc.broadcast(knnobj)\n",
    "        # Get neighbors for each point, distributedly\n",
    "        results = train.map(lambda x: bc_knnobj.value.kneighbors(x))\n",
    "        # Evaluate\n",
    "        metric = knn_model.score(reg_test_subset[['dateDelta', 'seatsRemaining', 'totalTravelDistance', 'durationSeconds']],\n",
    "                                 reg_test_subset[['baseFare']]) # metric is KNN accuracy\n",
    "                       \n",
    "    elif algorithm_name == \"KMEANS\":\n",
    "        # Trains a k-means model.\n",
    "        kmeans = KMeans().setK(2).setSeed(1)\n",
    "        model = kmeans.fit(train)\n",
    "        # Make predictions\n",
    "        predictions = model.transform(test)\n",
    "        metric = None # No performance metric for KMEANS (unsupervised)\n",
    "           \n",
    "    elif algorithm_name == \"RF\":\n",
    "        # Fit\n",
    "        rf = RandomForestRegressor(featuresCol = 'features', labelCol='baseFare')\n",
    "        model = rf.fit(train)\n",
    "        # Predict\n",
    "        predictions = model.transform(test)\n",
    "        # Evaluate\n",
    "        evaluator = RegressionEvaluator(\n",
    "            labelCol='baseFare', predictionCol='prediction', metricName='rmse'\n",
    "        )\n",
    "        metric = evaluator.evaluate(predictions)\n",
    "           \n",
    "    end_time = time.time()\n",
    "    time_delta = end_time - start_time\n",
    "    return time_delta, metric"
   ]
  },
  {
   "cell_type": "markdown",
   "id": "48498d00-936a-4674-994d-202726a582f2",
   "metadata": {},
   "source": [
    "## Set proportions to loop over"
   ]
  },
  {
   "cell_type": "code",
   "execution_count": 11,
   "id": "c5eb542e-5bc8-48e4-b202-1af21ddc66b2",
   "metadata": {},
   "outputs": [],
   "source": [
    "props = [0.1, 0.2, 0.3, 0.4, 0.5, 0.6, 0.7, 0.8, 0.9, 1.0]"
   ]
  },
  {
   "cell_type": "markdown",
   "id": "435f3054-02ad-43f5-8898-2b2b187fee7a",
   "metadata": {},
   "source": [
    "## KNN Test"
   ]
  },
  {
   "cell_type": "code",
   "execution_count": null,
   "id": "de5ca832-bec6-442d-962c-f372445c27a9",
   "metadata": {},
   "outputs": [
    {
     "name": "stdout",
     "output_type": "stream",
     "text": [
      "0.1\n"
     ]
    },
    {
     "name": "stderr",
     "output_type": "stream",
     "text": [
      "                                                                                \r"
     ]
    },
    {
     "name": "stdout",
     "output_type": "stream",
     "text": [
      "reg_train_subset shape 1600000\n"
     ]
    },
    {
     "name": "stderr",
     "output_type": "stream",
     "text": [
      "                                                                                \r"
     ]
    },
    {
     "name": "stdout",
     "output_type": "stream",
     "text": [
      "reg_test_subset shape 400000\n"
     ]
    },
    {
     "name": "stderr",
     "output_type": "stream",
     "text": [
      "[Stage 81:==================>                                    (67 + 6) / 200]\r"
     ]
    }
   ],
   "source": [
    "knn_times = []\n",
    "knn_metrics = []\n",
    "\n",
    "for prop in props:\n",
    "    print(prop)\n",
    "    runtime, metric = spark_time_algorithm(prop, algorithm_name=\"KNN\")\n",
    "    knn_times.append(runtime)\n",
    "    knn_metrics.append(metric)\n",
    "   \n",
    "print(knn_times)\n",
    "print(knn_metrics)"
   ]
  },
  {
   "cell_type": "code",
   "execution_count": null,
   "id": "114efcf8-f330-4e29-a882-2e155709bd29",
   "metadata": {},
   "outputs": [],
   "source": [
    "knn_frame = pd.DataFrame(list(zip(knn_times, knn_metrics)), columns=['Time', 'Metric'], index=props)\n",
    "knn_frame.head()"
   ]
  },
  {
   "cell_type": "code",
   "execution_count": null,
   "id": "26f9762a-e8fd-4eb9-88c0-621c248bb136",
   "metadata": {},
   "outputs": [],
   "source": [
    "plt.scatter(x=knn_frame.index, y=knn_frame['Time'])\n",
    "plt.title('KNN Spark Run Times for Varying Input Sizes')\n",
    "plt.xlabel('Proportion of Input Size')\n",
    "plt.ylabel('Time (s)')"
   ]
  },
  {
   "cell_type": "code",
   "execution_count": null,
   "id": "e8374ca8-0189-46be-b0e7-f51de0fe33b6",
   "metadata": {},
   "outputs": [],
   "source": [
    "knn_frame.to_csv('spark_knn_results.csv', index=True)"
   ]
  },
  {
   "cell_type": "markdown",
   "id": "328a2a10-b16e-45c3-b34f-3ca48c5df23b",
   "metadata": {},
   "source": [
    "## KMeans Test"
   ]
  },
  {
   "cell_type": "code",
   "execution_count": 28,
   "id": "aad2e58c-f7d6-415e-9e63-e829bfaa7720",
   "metadata": {},
   "outputs": [
    {
     "name": "stdout",
     "output_type": "stream",
     "text": [
      "0.1\n"
     ]
    },
    {
     "name": "stderr",
     "output_type": "stream",
     "text": [
      "                                                                                \r"
     ]
    },
    {
     "name": "stdout",
     "output_type": "stream",
     "text": [
      "class_train_subset shape 1600000\n"
     ]
    },
    {
     "name": "stderr",
     "output_type": "stream",
     "text": [
      "                                                                                \r"
     ]
    },
    {
     "name": "stdout",
     "output_type": "stream",
     "text": [
      "class_test_subset shape 400000\n"
     ]
    },
    {
     "name": "stderr",
     "output_type": "stream",
     "text": [
      "                                                                                \r"
     ]
    },
    {
     "name": "stdout",
     "output_type": "stream",
     "text": [
      "0.2\n"
     ]
    },
    {
     "name": "stderr",
     "output_type": "stream",
     "text": [
      "                                                                                \r"
     ]
    },
    {
     "name": "stdout",
     "output_type": "stream",
     "text": [
      "class_train_subset shape 3200000\n"
     ]
    },
    {
     "name": "stderr",
     "output_type": "stream",
     "text": [
      "                                                                                \r"
     ]
    },
    {
     "name": "stdout",
     "output_type": "stream",
     "text": [
      "class_test_subset shape 800000\n"
     ]
    },
    {
     "name": "stderr",
     "output_type": "stream",
     "text": [
      "                                                                                \r"
     ]
    },
    {
     "name": "stdout",
     "output_type": "stream",
     "text": [
      "0.3\n"
     ]
    },
    {
     "name": "stderr",
     "output_type": "stream",
     "text": [
      "                                                                                \r"
     ]
    },
    {
     "name": "stdout",
     "output_type": "stream",
     "text": [
      "class_train_subset shape 4800000\n"
     ]
    },
    {
     "name": "stderr",
     "output_type": "stream",
     "text": [
      "                                                                                \r"
     ]
    },
    {
     "name": "stdout",
     "output_type": "stream",
     "text": [
      "class_test_subset shape 1200000\n"
     ]
    },
    {
     "name": "stderr",
     "output_type": "stream",
     "text": [
      "                                                                                \r"
     ]
    },
    {
     "name": "stdout",
     "output_type": "stream",
     "text": [
      "0.4\n"
     ]
    },
    {
     "name": "stderr",
     "output_type": "stream",
     "text": [
      "                                                                                \r"
     ]
    },
    {
     "name": "stdout",
     "output_type": "stream",
     "text": [
      "class_train_subset shape 6400000\n"
     ]
    },
    {
     "name": "stderr",
     "output_type": "stream",
     "text": [
      "                                                                                \r"
     ]
    },
    {
     "name": "stdout",
     "output_type": "stream",
     "text": [
      "class_test_subset shape 1600000\n"
     ]
    },
    {
     "name": "stderr",
     "output_type": "stream",
     "text": [
      "                                                                                \r"
     ]
    },
    {
     "name": "stdout",
     "output_type": "stream",
     "text": [
      "0.5\n"
     ]
    },
    {
     "name": "stderr",
     "output_type": "stream",
     "text": [
      "                                                                                \r"
     ]
    },
    {
     "name": "stdout",
     "output_type": "stream",
     "text": [
      "class_train_subset shape 8000000\n"
     ]
    },
    {
     "name": "stderr",
     "output_type": "stream",
     "text": [
      "                                                                                \r"
     ]
    },
    {
     "name": "stdout",
     "output_type": "stream",
     "text": [
      "class_test_subset shape 2000000\n"
     ]
    },
    {
     "name": "stderr",
     "output_type": "stream",
     "text": [
      "                                                                                \r"
     ]
    },
    {
     "name": "stdout",
     "output_type": "stream",
     "text": [
      "0.6\n"
     ]
    },
    {
     "name": "stderr",
     "output_type": "stream",
     "text": [
      "                                                                                \r"
     ]
    },
    {
     "name": "stdout",
     "output_type": "stream",
     "text": [
      "class_train_subset shape 9600000\n"
     ]
    },
    {
     "name": "stderr",
     "output_type": "stream",
     "text": [
      "[Stage 1051:=================================================>      (7 + 1) / 8]\r"
     ]
    },
    {
     "name": "stdout",
     "output_type": "stream",
     "text": [
      "class_test_subset shape 2400000\n"
     ]
    },
    {
     "name": "stderr",
     "output_type": "stream",
     "text": [
      "                                                                                \r"
     ]
    },
    {
     "name": "stdout",
     "output_type": "stream",
     "text": [
      "0.7\n"
     ]
    },
    {
     "name": "stderr",
     "output_type": "stream",
     "text": [
      "                                                                                \r"
     ]
    },
    {
     "name": "stdout",
     "output_type": "stream",
     "text": [
      "class_train_subset shape 11200000\n"
     ]
    },
    {
     "name": "stderr",
     "output_type": "stream",
     "text": [
      "                                                                                \r"
     ]
    },
    {
     "name": "stdout",
     "output_type": "stream",
     "text": [
      "class_test_subset shape 2800000\n"
     ]
    },
    {
     "name": "stderr",
     "output_type": "stream",
     "text": [
      "                                                                                \r"
     ]
    },
    {
     "name": "stdout",
     "output_type": "stream",
     "text": [
      "0.8\n"
     ]
    },
    {
     "name": "stderr",
     "output_type": "stream",
     "text": [
      "                                                                                \r"
     ]
    },
    {
     "name": "stdout",
     "output_type": "stream",
     "text": [
      "class_train_subset shape 12800000\n"
     ]
    },
    {
     "name": "stderr",
     "output_type": "stream",
     "text": [
      "                                                                                \r"
     ]
    },
    {
     "name": "stdout",
     "output_type": "stream",
     "text": [
      "class_test_subset shape 3200000\n"
     ]
    },
    {
     "name": "stderr",
     "output_type": "stream",
     "text": [
      "                                                                                \r"
     ]
    },
    {
     "name": "stdout",
     "output_type": "stream",
     "text": [
      "0.9\n"
     ]
    },
    {
     "name": "stderr",
     "output_type": "stream",
     "text": [
      "                                                                                \r"
     ]
    },
    {
     "name": "stdout",
     "output_type": "stream",
     "text": [
      "class_train_subset shape 14400000\n"
     ]
    },
    {
     "name": "stderr",
     "output_type": "stream",
     "text": [
      "                                                                                \r"
     ]
    },
    {
     "name": "stdout",
     "output_type": "stream",
     "text": [
      "class_test_subset shape 3600000\n"
     ]
    },
    {
     "name": "stderr",
     "output_type": "stream",
     "text": [
      "                                                                                \r"
     ]
    },
    {
     "name": "stdout",
     "output_type": "stream",
     "text": [
      "1.0\n"
     ]
    },
    {
     "name": "stderr",
     "output_type": "stream",
     "text": [
      "                                                                                \r"
     ]
    },
    {
     "name": "stdout",
     "output_type": "stream",
     "text": [
      "class_train_subset shape 16000000\n"
     ]
    },
    {
     "name": "stderr",
     "output_type": "stream",
     "text": [
      "                                                                                \r"
     ]
    },
    {
     "name": "stdout",
     "output_type": "stream",
     "text": [
      "class_test_subset shape 4000000\n"
     ]
    },
    {
     "name": "stderr",
     "output_type": "stream",
     "text": [
      "[Stage 1764:>                                                       (0 + 1) / 1]\r"
     ]
    },
    {
     "name": "stdout",
     "output_type": "stream",
     "text": [
      "[106.52712798118591, 203.0396454334259, 242.61319184303284, 312.76893496513367, 351.06963205337524, 371.5358839035034, 456.9247965812683, 452.4203007221222, 487.53648018836975, 540.4554026126862]\n",
      "[None, None, None, None, None, None, None, None, None, None]\n"
     ]
    },
    {
     "name": "stderr",
     "output_type": "stream",
     "text": [
      "                                                                                \r"
     ]
    }
   ],
   "source": [
    "kmeans_times = []\n",
    "kmeans_metrics = []\n",
    "\n",
    "for prop in props:\n",
    "    print(prop)\n",
    "    runtime, metric = spark_time_algorithm(prop, algorithm_name=\"KMEANS\")\n",
    "    kmeans_times.append(runtime)\n",
    "    kmeans_metrics.append(metric)\n",
    "   \n",
    "print(kmeans_times)\n",
    "print(kmeans_metrics)"
   ]
  },
  {
   "cell_type": "code",
   "execution_count": 29,
   "id": "56afb95c-5fa7-4d5d-9eda-f8be31e54d8e",
   "metadata": {},
   "outputs": [
    {
     "data": {
      "text/html": [
       "<div>\n",
       "<style scoped>\n",
       "    .dataframe tbody tr th:only-of-type {\n",
       "        vertical-align: middle;\n",
       "    }\n",
       "\n",
       "    .dataframe tbody tr th {\n",
       "        vertical-align: top;\n",
       "    }\n",
       "\n",
       "    .dataframe thead th {\n",
       "        text-align: right;\n",
       "    }\n",
       "</style>\n",
       "<table border=\"1\" class=\"dataframe\">\n",
       "  <thead>\n",
       "    <tr style=\"text-align: right;\">\n",
       "      <th></th>\n",
       "      <th>Time</th>\n",
       "      <th>Metric</th>\n",
       "    </tr>\n",
       "  </thead>\n",
       "  <tbody>\n",
       "    <tr>\n",
       "      <th>0.1</th>\n",
       "      <td>106.527128</td>\n",
       "      <td>None</td>\n",
       "    </tr>\n",
       "    <tr>\n",
       "      <th>0.2</th>\n",
       "      <td>203.039645</td>\n",
       "      <td>None</td>\n",
       "    </tr>\n",
       "    <tr>\n",
       "      <th>0.3</th>\n",
       "      <td>242.613192</td>\n",
       "      <td>None</td>\n",
       "    </tr>\n",
       "    <tr>\n",
       "      <th>0.4</th>\n",
       "      <td>312.768935</td>\n",
       "      <td>None</td>\n",
       "    </tr>\n",
       "    <tr>\n",
       "      <th>0.5</th>\n",
       "      <td>351.069632</td>\n",
       "      <td>None</td>\n",
       "    </tr>\n",
       "  </tbody>\n",
       "</table>\n",
       "</div>"
      ],
      "text/plain": [
       "           Time Metric\n",
       "0.1  106.527128   None\n",
       "0.2  203.039645   None\n",
       "0.3  242.613192   None\n",
       "0.4  312.768935   None\n",
       "0.5  351.069632   None"
      ]
     },
     "execution_count": 29,
     "metadata": {},
     "output_type": "execute_result"
    }
   ],
   "source": [
    "kmeans_frame = pd.DataFrame(list(zip(kmeans_times, kmeans_metrics)), columns=['Time', 'Metric'], index=props)\n",
    "kmeans_frame.head()"
   ]
  },
  {
   "cell_type": "code",
   "execution_count": 30,
   "id": "8773f703-539f-4a6e-a943-26d300f38e92",
   "metadata": {},
   "outputs": [
    {
     "data": {
      "text/plain": [
       "Text(0, 0.5, 'Time (s)')"
      ]
     },
     "execution_count": 30,
     "metadata": {},
     "output_type": "execute_result"
    },
    {
     "data": {
      "image/png": "[encoded data removed]",
      "text/plain": [
       "<Figure size 640x480 with 1 Axes>"
      ]
     },
     "metadata": {},
     "output_type": "display_data"
    }
   ],
   "source": [
    "plt.scatter(x=kmeans_frame.index, y=kmeans_frame['Time'])\n",
    "plt.title('KMeans Spark Run Times for Varying Input Sizes')\n",
    "plt.xlabel('Proportion of Input Size')\n",
    "plt.ylabel('Time (s)')"
   ]
  },
  {
   "cell_type": "code",
   "execution_count": 32,
   "id": "2ae84d1e-2170-4c9b-aeaa-a29c35397bb9",
   "metadata": {},
   "outputs": [],
   "source": [
    "kmeans_frame.to_csv('spark_kmeans_results.csv', index=True)"
   ]
  },
  {
   "cell_type": "markdown",
   "id": "78b41c10-608b-4b6e-8305-c24dc6da4be5",
   "metadata": {},
   "source": [
    "## Random Forest Test"
   ]
  },
  {
   "cell_type": "code",
   "execution_count": 53,
   "id": "03d1d46a-6150-4497-8339-57d2525dd37b",
   "metadata": {},
   "outputs": [
    {
     "name": "stdout",
     "output_type": "stream",
     "text": [
      "0.1\n"
     ]
    },
    {
     "name": "stderr",
     "output_type": "stream",
     "text": [
      "[Stage 257:==================================================>      (8 + 1) / 9]\r"
     ]
    },
    {
     "name": "stdout",
     "output_type": "stream",
     "text": [
      "reg_train_subset shape 1600000\n"
     ]
    },
    {
     "name": "stderr",
     "output_type": "stream",
     "text": [
      "                                                                                \r"
     ]
    },
    {
     "name": "stdout",
     "output_type": "stream",
     "text": [
      "reg_test_subset shape 400000\n"
     ]
    },
    {
     "name": "stderr",
     "output_type": "stream",
     "text": [
      "                                                                                \r"
     ]
    },
    {
     "name": "stdout",
     "output_type": "stream",
     "text": [
      "0.2\n"
     ]
    },
    {
     "name": "stderr",
     "output_type": "stream",
     "text": [
      "                                                                                \r"
     ]
    },
    {
     "name": "stdout",
     "output_type": "stream",
     "text": [
      "reg_train_subset shape 3200000\n"
     ]
    },
    {
     "name": "stderr",
     "output_type": "stream",
     "text": [
      "                                                                                \r"
     ]
    },
    {
     "name": "stdout",
     "output_type": "stream",
     "text": [
      "reg_test_subset shape 800000\n"
     ]
    },
    {
     "name": "stderr",
     "output_type": "stream",
     "text": [
      "                                                                                \r"
     ]
    },
    {
     "name": "stdout",
     "output_type": "stream",
     "text": [
      "0.3\n"
     ]
    },
    {
     "name": "stderr",
     "output_type": "stream",
     "text": [
      "                                                                                \r"
     ]
    },
    {
     "name": "stdout",
     "output_type": "stream",
     "text": [
      "reg_train_subset shape 4800000\n"
     ]
    },
    {
     "name": "stderr",
     "output_type": "stream",
     "text": [
      "                                                                                \r"
     ]
    },
    {
     "name": "stdout",
     "output_type": "stream",
     "text": [
      "reg_test_subset shape 1200000\n"
     ]
    },
    {
     "name": "stderr",
     "output_type": "stream",
     "text": [
      "[Stage 498:>                                                        (0 + 1) / 1]\r"
     ]
    },
    {
     "name": "stdout",
     "output_type": "stream",
     "text": [
      "0.4\n"
     ]
    },
    {
     "name": "stderr",
     "output_type": "stream",
     "text": [
      "                                                                                \r"
     ]
    },
    {
     "name": "stdout",
     "output_type": "stream",
     "text": [
      "reg_train_subset shape 6400000\n"
     ]
    },
    {
     "name": "stderr",
     "output_type": "stream",
     "text": [
      "                                                                                \r"
     ]
    },
    {
     "name": "stdout",
     "output_type": "stream",
     "text": [
      "reg_test_subset shape 1600000\n"
     ]
    },
    {
     "name": "stderr",
     "output_type": "stream",
     "text": [
      "                                                                                \r"
     ]
    },
    {
     "name": "stdout",
     "output_type": "stream",
     "text": [
      "0.5\n"
     ]
    },
    {
     "name": "stderr",
     "output_type": "stream",
     "text": [
      "                                                                                \r"
     ]
    },
    {
     "name": "stdout",
     "output_type": "stream",
     "text": [
      "reg_train_subset shape 8000000\n"
     ]
    },
    {
     "name": "stderr",
     "output_type": "stream",
     "text": [
      "                                                                                \r"
     ]
    },
    {
     "name": "stdout",
     "output_type": "stream",
     "text": [
      "reg_test_subset shape 2000000\n"
     ]
    },
    {
     "name": "stderr",
     "output_type": "stream",
     "text": [
      "                                                                                \r"
     ]
    },
    {
     "name": "stdout",
     "output_type": "stream",
     "text": [
      "0.6\n"
     ]
    },
    {
     "name": "stderr",
     "output_type": "stream",
     "text": [
      "                                                                                \r"
     ]
    },
    {
     "name": "stdout",
     "output_type": "stream",
     "text": [
      "reg_train_subset shape 9600000\n"
     ]
    },
    {
     "name": "stderr",
     "output_type": "stream",
     "text": [
      "                                                                                \r"
     ]
    },
    {
     "name": "stdout",
     "output_type": "stream",
     "text": [
      "reg_test_subset shape 2400000\n"
     ]
    },
    {
     "name": "stderr",
     "output_type": "stream",
     "text": [
      "                                                                                \r"
     ]
    },
    {
     "name": "stdout",
     "output_type": "stream",
     "text": [
      "0.7\n"
     ]
    },
    {
     "name": "stderr",
     "output_type": "stream",
     "text": [
      "                                                                                \r"
     ]
    },
    {
     "name": "stdout",
     "output_type": "stream",
     "text": [
      "reg_train_subset shape 11200000\n"
     ]
    },
    {
     "name": "stderr",
     "output_type": "stream",
     "text": [
      "                                                                                \r"
     ]
    },
    {
     "name": "stdout",
     "output_type": "stream",
     "text": [
      "reg_test_subset shape 2800000\n"
     ]
    },
    {
     "name": "stderr",
     "output_type": "stream",
     "text": [
      "                                                                                \r"
     ]
    },
    {
     "name": "stdout",
     "output_type": "stream",
     "text": [
      "0.8\n"
     ]
    },
    {
     "name": "stderr",
     "output_type": "stream",
     "text": [
      "                                                                                \r"
     ]
    },
    {
     "name": "stdout",
     "output_type": "stream",
     "text": [
      "reg_train_subset shape 12800000\n"
     ]
    },
    {
     "name": "stderr",
     "output_type": "stream",
     "text": [
      "                                                                                \r"
     ]
    },
    {
     "name": "stdout",
     "output_type": "stream",
     "text": [
      "reg_test_subset shape 3200000\n"
     ]
    },
    {
     "name": "stderr",
     "output_type": "stream",
     "text": [
      "                                                                                \r"
     ]
    },
    {
     "name": "stdout",
     "output_type": "stream",
     "text": [
      "0.9\n"
     ]
    },
    {
     "name": "stderr",
     "output_type": "stream",
     "text": [
      "                                                                                \r"
     ]
    },
    {
     "name": "stdout",
     "output_type": "stream",
     "text": [
      "reg_train_subset shape 14400000\n"
     ]
    },
    {
     "name": "stderr",
     "output_type": "stream",
     "text": [
      "                                                                                \r"
     ]
    },
    {
     "name": "stdout",
     "output_type": "stream",
     "text": [
      "reg_test_subset shape 3600000\n"
     ]
    },
    {
     "name": "stderr",
     "output_type": "stream",
     "text": [
      "                                                                                \r"
     ]
    },
    {
     "name": "stdout",
     "output_type": "stream",
     "text": [
      "1.0\n"
     ]
    },
    {
     "name": "stderr",
     "output_type": "stream",
     "text": [
      "                                                                                \r"
     ]
    },
    {
     "name": "stdout",
     "output_type": "stream",
     "text": [
      "reg_train_subset shape 16000000\n"
     ]
    },
    {
     "name": "stderr",
     "output_type": "stream",
     "text": [
      "                                                                                \r"
     ]
    },
    {
     "name": "stdout",
     "output_type": "stream",
     "text": [
      "reg_test_subset shape 4000000\n"
     ]
    },
    {
     "name": "stderr",
     "output_type": "stream",
     "text": [
      "[Stage 1114:>                                                       (0 + 1) / 1]\r"
     ]
    },
    {
     "name": "stdout",
     "output_type": "stream",
     "text": [
      "[78.02814388275146, 135.40745401382446, 183.21883511543274, 255.66787600517273, 279.17373967170715, 345.42775678634644, 441.09457516670227, 452.7518513202667, 495.7028157711029, 459.84275221824646]\n",
      "[0.8051646144521695, 0.8028645235052145, 0.8093192336683939, 0.8015940596910148, 0.7986014847889866, 0.8016247153204518, 0.802847274899786, 0.802190069479265, 0.8008646971831581, 0.8009241539955444]\n"
     ]
    },
    {
     "name": "stderr",
     "output_type": "stream",
     "text": [
      "                                                                                \r"
     ]
    }
   ],
   "source": [
    "rf_times = []\n",
    "rf_metrics = []\n",
    "\n",
    "for prop in props:\n",
    "    print(prop)\n",
    "    runtime, metric = spark_time_algorithm(prop, algorithm_name=\"RF\")\n",
    "    rf_times.append(runtime)\n",
    "    rf_metrics.append(metric)\n",
    "   \n",
    "print(rf_times)\n",
    "print(rf_metrics)"
   ]
  },
  {
   "cell_type": "code",
   "execution_count": 54,
   "id": "026a4ba8-8916-4933-b1a6-a43869b6a6c2",
   "metadata": {},
   "outputs": [
    {
     "data": {
      "text/html": [
       "<div>\n",
       "<style scoped>\n",
       "    .dataframe tbody tr th:only-of-type {\n",
       "        vertical-align: middle;\n",
       "    }\n",
       "\n",
       "    .dataframe tbody tr th {\n",
       "        vertical-align: top;\n",
       "    }\n",
       "\n",
       "    .dataframe thead th {\n",
       "        text-align: right;\n",
       "    }\n",
       "</style>\n",
       "<table border=\"1\" class=\"dataframe\">\n",
       "  <thead>\n",
       "    <tr style=\"text-align: right;\">\n",
       "      <th></th>\n",
       "      <th>Time</th>\n",
       "      <th>Metric</th>\n",
       "    </tr>\n",
       "  </thead>\n",
       "  <tbody>\n",
       "    <tr>\n",
       "      <th>0.1</th>\n",
       "      <td>78.028144</td>\n",
       "      <td>0.805165</td>\n",
       "    </tr>\n",
       "    <tr>\n",
       "      <th>0.2</th>\n",
       "      <td>135.407454</td>\n",
       "      <td>0.802865</td>\n",
       "    </tr>\n",
       "    <tr>\n",
       "      <th>0.3</th>\n",
       "      <td>183.218835</td>\n",
       "      <td>0.809319</td>\n",
       "    </tr>\n",
       "    <tr>\n",
       "      <th>0.4</th>\n",
       "      <td>255.667876</td>\n",
       "      <td>0.801594</td>\n",
       "    </tr>\n",
       "    <tr>\n",
       "      <th>0.5</th>\n",
       "      <td>279.173740</td>\n",
       "      <td>0.798601</td>\n",
       "    </tr>\n",
       "  </tbody>\n",
       "</table>\n",
       "</div>"
      ],
      "text/plain": [
       "           Time    Metric\n",
       "0.1   78.028144  0.805165\n",
       "0.2  135.407454  0.802865\n",
       "0.3  183.218835  0.809319\n",
       "0.4  255.667876  0.801594\n",
       "0.5  279.173740  0.798601"
      ]
     },
     "execution_count": 54,
     "metadata": {},
     "output_type": "execute_result"
    }
   ],
   "source": [
    "rf_frame = pd.DataFrame(list(zip(rf_times, rf_metrics)), columns=['Time', 'Metric'], index=props)\n",
    "rf_frame.head()"
   ]
  },
  {
   "cell_type": "code",
   "execution_count": 55,
   "id": "891af80d-2802-4f9e-be55-663210b53d92",
   "metadata": {},
   "outputs": [
    {
     "data": {
      "text/plain": [
       "Text(0, 0.5, 'Time (s)')"
      ]
     },
     "execution_count": 55,
     "metadata": {},
     "output_type": "execute_result"
    },
    {
     "data": {
      "image/png": "[encoded data removed]",
      "text/plain": [
       "<Figure size 640x480 with 1 Axes>"
      ]
     },
     "metadata": {},
     "output_type": "display_data"
    }
   ],
   "source": [
    "plt.scatter(x=rf_frame.index, y=rf_frame['Time'])\n",
    "plt.title('Random Forest Spark Run Times for Varying Input Sizes')\n",
    "plt.xlabel('Proportion of Input Size')\n",
    "plt.ylabel('Time (s)')"
   ]
  },
  {
   "cell_type": "code",
   "execution_count": 56,
   "id": "61cdce5d-5be4-4899-bb5a-67c8e047f2fa",
   "metadata": {},
   "outputs": [],
   "source": [
    "rf_frame.to_csv('spark_rf_results.csv', index=True)"
   ]
  }
 ],
 "metadata": {
  "kernelspec": {
   "display_name": "Python 3 (ipykernel)",
   "language": "python",
   "name": "python3"
  },
  "language_info": {
   "codemirror_mode": {
    "name": "ipython",
    "version": 3
   },
   "file_extension": ".py",
   "mimetype": "text/x-python",
   "name": "python",
   "nbconvert_exporter": "python",
   "pygments_lexer": "ipython3",
   "version": "3.10.12"
  }
 },
 "nbformat": 4,
 "nbformat_minor": 5
}
