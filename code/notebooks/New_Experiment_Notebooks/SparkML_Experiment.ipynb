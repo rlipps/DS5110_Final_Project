{
 "cells": [
  {
   "cell_type": "markdown",
   "id": "cad1572d-0d1d-4cbe-950d-7e483b99e756",
   "metadata": {},
   "source": [
    "# Spark Experiment"
   ]
  },
  {
   "cell_type": "code",
   "execution_count": 1,
   "id": "e111679d-e030-470a-835b-f452687bb488",
   "metadata": {},
   "outputs": [
    {
     "data": {
      "text/plain": [
       "'/home/ubuntu/spark-3.3.1-bin-hadoop3'"
      ]
     },
     "execution_count": 1,
     "metadata": {},
     "output_type": "execute_result"
    }
   ],
   "source": [
    "# Import findspark\n",
    "import findspark\n",
    "findspark.init('/home/ubuntu/spark-3.3.1-bin-hadoop3')\n",
    "findspark.find()"
   ]
  },
  {
   "cell_type": "code",
   "execution_count": 2,
   "id": "859aed93-3350-4c80-ba7d-28398c0dfd58",
   "metadata": {},
   "outputs": [],
   "source": [
    "import numpy as np\n",
    "import pandas as pd\n",
    "import time\n",
    "import matplotlib.pyplot as plt\n",
    "from pyspark import SparkConf, SparkContext\n",
    "from pyspark.ml.feature import VectorAssembler\n",
    "from pyspark.ml.evaluation import RegressionEvaluator, ClusteringEvaluator, BinaryClassificationEvaluator\n",
    "from pyspark.ml.regression import LinearRegression\n",
    "from pyspark.ml.classification import LogisticRegression\n",
    "from pyspark.ml.clustering import KMeans\n",
    "from pyspark.sql.functions import monotonically_increasing_id, row_number\n",
    "from pyspark.sql.window import Window\n",
    "\n",
    "SEED = 42"
   ]
  },
  {
   "cell_type": "code",
   "execution_count": 3,
   "id": "35d81c18-4eaf-4605-a1f1-07c310c0f4f2",
   "metadata": {},
   "outputs": [
    {
     "name": "stderr",
     "output_type": "stream",
     "text": [
      "Setting default log level to \"WARN\".\n",
      "To adjust logging level use sc.setLogLevel(newLevel). For SparkR, use setLogLevel(newLevel).\n"
     ]
    },
    {
     "name": "stdout",
     "output_type": "stream",
     "text": [
      "24/04/23 21:55:22 WARN NativeCodeLoader: Unable to load native-hadoop library for your platform... using builtin-java classes where applicable\n"
     ]
    }
   ],
   "source": [
    "from pyspark.sql import SparkSession\n",
    "\n",
    "# The entry point into all functionality in Spark is the SparkSession class.\n",
    "spark = (SparkSession\n",
    "\t.builder\n",
    "\t.appName(\"DS5110/CS5501: my awesome Spark program\")\n",
    "\t.master(\"spark://172.31.88.97:7077\")\n",
    "\t.config(\"spark.executor.memory\", \"1024M\")\n",
    "\t.getOrCreate())"
   ]
  },
  {
   "cell_type": "code",
   "execution_count": 4,
   "id": "3b297cf0-c643-47b5-add8-51829f2dd898",
   "metadata": {},
   "outputs": [
    {
     "data": {
      "text/html": [
       "\n",
       "            <div>\n",
       "                <p><b>SparkSession - in-memory</b></p>\n",
       "                \n",
       "        <div>\n",
       "            <p><b>SparkContext</b></p>\n",
       "\n",
       "            <p><a href=\"http://ip-172-31-88-97.ec2.internal:4040\">Spark UI</a></p>\n",
       "\n",
       "            <dl>\n",
       "              <dt>Version</dt>\n",
       "                <dd><code>v3.3.1</code></dd>\n",
       "              <dt>Master</dt>\n",
       "                <dd><code>spark://172.31.88.97:7077</code></dd>\n",
       "              <dt>AppName</dt>\n",
       "                <dd><code>DS5110/CS5501: my awesome Spark program</code></dd>\n",
       "            </dl>\n",
       "        </div>\n",
       "        \n",
       "            </div>\n",
       "        "
      ],
      "text/plain": [
       "<pyspark.sql.session.SparkSession at 0x7fbfa80166e0>"
      ]
     },
     "execution_count": 4,
     "metadata": {},
     "output_type": "execute_result"
    }
   ],
   "source": [
    "spark"
   ]
  },
  {
   "cell_type": "markdown",
   "id": "bf934cef-b99f-4aa9-8064-5aa7cffb27dd",
   "metadata": {},
   "source": [
    "## Read Data"
   ]
  },
  {
   "cell_type": "code",
   "execution_count": 6,
   "id": "3d86e9c3-84ae-4303-a893-c4d612b39fab",
   "metadata": {},
   "outputs": [
    {
     "name": "stderr",
     "output_type": "stream",
     "text": [
      "                                                                                \r"
     ]
    }
   ],
   "source": [
    "# Split data into X and y\n",
    "X_reg_train = (spark.read\n",
    "               .format('csv')\n",
    "               .option('inferSchema', True)\n",
    "               .option('header', True)\n",
    "               .load('hdfs://172.31.88.97:9000/X_reg_train_idx.csv')\n",
    "              )\n",
    "X_reg_test = (spark.read\n",
    "               .format('csv')\n",
    "               .option('inferSchema', True)\n",
    "               .option('header', True)\n",
    "               .load('hdfs://172.31.88.97:9000/X_reg_test_idx.csv')\n",
    "              )\n",
    "X_class_train = (spark.read\n",
    "               .format('csv')\n",
    "               .option('inferSchema', True)\n",
    "               .option('header', True)\n",
    "               .load('hdfs://172.31.88.97:9000/X_class_train_idx.csv')\n",
    "              )\n",
    "X_class_test = (spark.read\n",
    "               .format('csv')\n",
    "               .option('inferSchema', True)\n",
    "               .option('header', True)\n",
    "               .load('hdfs://172.31.88.97:9000/X_class_test_idx.csv')\n",
    "              )\n",
    "y_reg_train = (spark.read\n",
    "               .format('csv')\n",
    "               .option('inferSchema', True)\n",
    "               .option('header', True)\n",
    "               .load('hdfs://172.31.88.97:9000/y_reg_train_idx.csv')\n",
    "              )\n",
    "y_reg_test = (spark.read\n",
    "               .format('csv')\n",
    "               .option('inferSchema', True)\n",
    "               .option('header', True)\n",
    "               .load('hdfs://172.31.88.97:9000/y_reg_test_idx.csv')\n",
    "              )\n",
    "y_class_train = (spark.read\n",
    "               .format('csv')\n",
    "               .option('inferSchema', True)\n",
    "               .option('header', True)\n",
    "               .load('hdfs://172.31.88.97:9000/y_class_train_idx.csv')\n",
    "              )\n",
    "y_class_test = (spark.read\n",
    "               .format('csv')\n",
    "               .option('inferSchema', True)\n",
    "               .option('header', True)\n",
    "               .load('hdfs://172.31.88.97:9000/y_class_test_idx.csv')\n",
    "              )"
   ]
  },
  {
   "cell_type": "markdown",
   "id": "18c3fb0e-e669-491a-a0ab-ca60ebd19de2",
   "metadata": {},
   "source": [
    "## Inspect Data\n",
    "We will need to join X and y for each step I believe."
   ]
  },
  {
   "cell_type": "code",
   "execution_count": 7,
   "id": "0d91d382-6d6c-45eb-b127-53ddea74b0db",
   "metadata": {},
   "outputs": [
    {
     "name": "stdout",
     "output_type": "stream",
     "text": [
      "+--------+-------------------+------------------+-------------------+-------------------+\n",
      "|     _c0|          dateDelta|    seatsRemaining|totalTravelDistance|    durationSeconds|\n",
      "+--------+-------------------+------------------+-------------------+-------------------+\n",
      "|28120237| 0.5764591848038317|0.6878736440934151| 0.5335992043260079|0.38985526700984063|\n",
      "|23324511|-1.4312694411428493|1.0779777898947491|   1.02154231351557|  0.805486775199166|\n",
      "|16627325| 0.9898150783810896|1.0779777898947491|-0.9088603520372959| 1.1056650866692344|\n",
      "|39011620|-1.0769643895051997|0.2977694982920811| 0.2462945025647573| 0.5514897424168005|\n",
      "|32887241|-0.6045576539883336|-1.652751230714589|  0.881451591169175| 1.6690766866592086|\n",
      "+--------+-------------------+------------------+-------------------+-------------------+\n",
      "only showing top 5 rows\n",
      "\n"
     ]
    }
   ],
   "source": [
    "X_reg_train.show(5)"
   ]
  },
  {
   "cell_type": "code",
   "execution_count": 8,
   "id": "fea09779-d2a3-46c3-8ff3-57e5a53aa76d",
   "metadata": {},
   "outputs": [
    {
     "name": "stdout",
     "output_type": "stream",
     "text": [
      "+--------+-------------------+\n",
      "|     _c0|           baseFare|\n",
      "+--------+-------------------+\n",
      "|28120237| 0.3627135043459776|\n",
      "|23324511|0.34768249106493015|\n",
      "|16627325| 0.7786792876541005|\n",
      "|39011620|-0.9753699252646759|\n",
      "|32887241| 0.7034703466492904|\n",
      "+--------+-------------------+\n",
      "only showing top 5 rows\n",
      "\n"
     ]
    }
   ],
   "source": [
    "y_reg_train.show(5)X_reg_train.count()"
   ]
  },
  {
   "cell_type": "code",
   "execution_count": 9,
   "id": "8b235657-1a32-4f3c-a8fb-5e848e6871a0",
   "metadata": {},
   "outputs": [
    {
     "name": "stderr",
     "output_type": "stream",
     "text": [
      "                                                                                \r"
     ]
    },
    {
     "data": {
      "text/plain": [
       "16000000"
      ]
     },
     "execution_count": 9,
     "metadata": {},
     "output_type": "execute_result"
    }
   ],
   "source": [
    "X_reg_train.count()"
   ]
  },
  {
   "cell_type": "code",
   "execution_count": 10,
   "id": "56ded9f5-69ef-4c7e-a03f-1e18c2f8a84e",
   "metadata": {},
   "outputs": [
    {
     "name": "stderr",
     "output_type": "stream",
     "text": [
      "                                                                                \r"
     ]
    },
    {
     "data": {
      "text/plain": [
       "16000000"
      ]
     },
     "execution_count": 10,
     "metadata": {},
     "output_type": "execute_result"
    }
   ],
   "source": [
    "y_reg_train.count()"
   ]
  },
  {
   "cell_type": "code",
   "execution_count": 11,
   "id": "545a6ebc-7c6b-45a7-b28f-40eec0d6cbed",
   "metadata": {},
   "outputs": [
    {
     "name": "stderr",
     "output_type": "stream",
     "text": [
      "                                                                                \r"
     ]
    },
    {
     "data": {
      "text/plain": [
       "4000000"
      ]
     },
     "execution_count": 11,
     "metadata": {},
     "output_type": "execute_result"
    }
   ],
   "source": [
    "X_reg_test.count()"
   ]
  },
  {
   "cell_type": "code",
   "execution_count": 12,
   "id": "b5fe0ca4-3e1f-4ef1-b7cc-381df3f0b54c",
   "metadata": {},
   "outputs": [
    {
     "data": {
      "text/plain": [
       "4000000"
      ]
     },
     "execution_count": 12,
     "metadata": {},
     "output_type": "execute_result"
    }
   ],
   "source": [
    "y_reg_test.count()"
   ]
  },
  {
   "cell_type": "markdown",
   "id": "bd42795c-4e29-47f5-a75b-13ecaa922d73",
   "metadata": {},
   "source": [
    "## Join dataframes on `_c0` index"
   ]
  },
  {
   "cell_type": "code",
   "execution_count": 16,
   "id": "4ef3aa8d-e77b-4719-a204-6c04b568eb0f",
   "metadata": {},
   "outputs": [],
   "source": [
    "reg_train = X_reg_train.join(y_reg_train, X_reg_train._c0 == y_reg_train._c0, \"left\").drop('_c0')\n",
    "reg_test = X_reg_test.join(y_reg_test, X_reg_test._c0 == y_reg_test._c0, \"left\").drop('_c0')\n",
    "class_train = X_class_train.join(y_class_train, X_class_train._c0 == y_class_train._c0, \"left\").drop('_c0')\n",
    "class_test = X_class_test.join(y_class_test, X_class_test._c0 == y_class_test._c0, \"left\").drop('_c0')"
   ]
  },
  {
   "cell_type": "code",
   "execution_count": 17,
   "id": "9fc04aa3-4edb-408f-a4fa-0f54f9624a81",
   "metadata": {},
   "outputs": [
    {
     "name": "stderr",
     "output_type": "stream",
     "text": [
      "[Stage 44:>                                                         (0 + 1) / 1]\r"
     ]
    },
    {
     "name": "stdout",
     "output_type": "stream",
     "text": [
      "+-------------------+------------------+-------------------+--------------------+-------------------+\n",
      "|          dateDelta|    seatsRemaining|totalTravelDistance|     durationSeconds|           baseFare|\n",
      "+-------------------+------------------+-------------------+--------------------+-------------------+\n",
      "|-1.0179135475655914|-0.872542939111921|0.04209446660221554|-0.18279258871767431|-0.5443731286755055|\n",
      "|-0.8407610217467666|1.0779777898947491|-0.7865777723620528| 0.10814946701485344| -0.223657637413589|\n",
      "|-0.7817101798071584|1.0779777898947491|-1.2555255293690528|  -0.801621723132892| 0.4027962064287704|\n",
      "|-0.7817101798071584|-2.042855376515923| 0.4433712814588383|  2.1447438571425477| 1.1294568054781116|\n",
      "| 1.0488659203206978|1.0779777898947491| 0.5965213084307447| -0.5014434116628238| 0.7586379366127041|\n",
      "+-------------------+------------------+-------------------+--------------------+-------------------+\n",
      "only showing top 5 rows\n",
      "\n"
     ]
    },
    {
     "name": "stderr",
     "output_type": "stream",
     "text": [
      "                                                                                \r"
     ]
    }
   ],
   "source": [
    "reg_train.show(5)"
   ]
  },
  {
   "cell_type": "code",
   "execution_count": 18,
   "id": "59f56acf-d52c-476f-8bd7-cb7abca3179b",
   "metadata": {},
   "outputs": [
    {
     "name": "stderr",
     "output_type": "stream",
     "text": [
      "[Stage 46:=======>                                                  (1 + 7) / 8]\r"
     ]
    },
    {
     "name": "stdout",
     "output_type": "stream",
     "text": [
      "+--------------------+--------------------+--------------------+-------------------+-------------------+\n",
      "|           dateDelta|      seatsRemaining| totalTravelDistance|    durationSeconds|           baseFare|\n",
      "+--------------------+--------------------+--------------------+-------------------+-------------------+\n",
      "|  1.6393743397167806|  0.2977694982920811|  0.6416352698643295|-0.5245340510066752|0.35770316658562845|\n",
      "| -0.3093034442902922|  0.2977694982920811| -1.5440174406417135| -1.535904054267367| -1.391335708572799|\n",
      "|-0.07310007653185917|-0.09233464750925295| -0.2238404639536528|-0.1597019493738229| 0.9490307715059703|\n",
      "| -0.8998118636863749|  0.6878736440934151| -1.0157092080642072|-0.7000229100199459|-0.3388954059016184|\n",
      "| -0.3093034442902922|  0.2977694982920811|-0.23808697809057433|-0.8293304903455138|-0.6095613941596174|\n",
      "+--------------------+--------------------+--------------------+-------------------+-------------------+\n",
      "only showing top 5 rows\n",
      "\n"
     ]
    },
    {
     "name": "stderr",
     "output_type": "stream",
     "text": [
      "                                                                                \r"
     ]
    }
   ],
   "source": [
    "reg_test.show(5)"
   ]
  },
  {
   "cell_type": "markdown",
   "id": "afd997c2-d8ca-4135-a084-967413da429b",
   "metadata": {},
   "source": [
    "## Spark Experiment Function"
   ]
  },
  {
   "cell_type": "code",
   "execution_count": 32,
   "id": "e047a618-88d8-43e5-8ee8-1b3d85fafb43",
   "metadata": {},
   "outputs": [],
   "source": [
    "def spark_time_algorithm(subset_prop, algorithm_name, SEED=SEED):\n",
    "    '''\n",
    "    algorithm_name one of 'LogReg', 'KMEANS', 'LinReg'\n",
    "    '''\n",
    "    if (algorithm_name == \"LinReg\" or algorithm_name == \"KMEANS\"):\n",
    "        # Subset data\n",
    "        reg_train_subset = reg_train.limit(int(reg_train.count() * subset_prop))\n",
    "        reg_test_subset = reg_test.limit(int(reg_test.count() * subset_prop))\n",
    "        # Assemble vectors for model\n",
    "        numericCols = ['dateDelta', 'seatsRemaining', 'totalTravelDistance', 'durationSeconds']\n",
    "        assembler = VectorAssembler(inputCols=numericCols, outputCol=\"features\")\n",
    "        train = assembler.transform(reg_train_subset)\n",
    "        test = assembler.transform(reg_test_subset)\n",
    "      \n",
    "    elif (algorithm_name == \"LogReg\"):\n",
    "        class_train_subset = class_train.limit(int(class_train.count() * subset_prop))\n",
    "        class_test_subset = class_test.limit(int(class_test.count() * subset_prop))\n",
    "        # Assemble vectors for model\n",
    "        numericCols = ['dateDelta', 'baseFare', 'seatsRemaining', 'totalTravelDistance', 'durationSeconds']\n",
    "        assembler = VectorAssembler(inputCols=numericCols, outputCol=\"features\")\n",
    "        train = assembler.transform(class_train_subset)\n",
    "        test = assembler.transform(class_test_subset)\n",
    "       \n",
    "    start_time = time.time()\n",
    "       \n",
    "    if algorithm_name == \"LogReg\":\n",
    "        logreg = LogisticRegression(featuresCol='features', labelCol='destinationAirport', maxIter=10, regParam=0.0, elasticNetParam=0.8)\n",
    "        logreg_model = logreg.fit(train)\n",
    "        predictions = logreg_model.transform(test)\n",
    "        evaluator = BinaryClassificationEvaluator(labelCol='destinationAirport')\n",
    "        metric = evaluator.evaluate(predictions)\n",
    "                       \n",
    "    elif algorithm_name == \"KMEANS\":\n",
    "        kmeans = KMeans(featuresCol='features', predictionCol='prediction', k=2)\n",
    "        model = kmeans.fit(train)\n",
    "        predictions = model.transform(test)\n",
    "        evaluator = ClusteringEvaluator()\n",
    "        metric = evaluator.evaluate(predictions)\n",
    "           \n",
    "    elif algorithm_name == \"LinReg\":\n",
    "        linreg = LinearRegression(featuresCol='features', labelCol='baseFare', maxIter=10, regParam=0.0, elasticNetParam=0.8)\n",
    "        linreg_model = linreg.fit(train)\n",
    "        metric = linreg_model.evaluate(test).rootMeanSquaredError\n",
    "           \n",
    "    end_time = time.time()\n",
    "    time_delta = end_time - start_time\n",
    "    return time_delta, metric"
   ]
  },
  {
   "cell_type": "markdown",
   "id": "48498d00-936a-4674-994d-202726a582f2",
   "metadata": {},
   "source": [
    "## Set proportions to loop over"
   ]
  },
  {
   "cell_type": "code",
   "execution_count": 35,
   "id": "c5eb542e-5bc8-48e4-b202-1af21ddc66b2",
   "metadata": {},
   "outputs": [],
   "source": [
    "props = [0.1, 0.2, 0.3, 0.4, 0.5, 0.6, 0.7, 0.8, 0.9, 1.0]\n",
    "# props = [0.1, 0.2]"
   ]
  },
  {
   "cell_type": "markdown",
   "id": "435f3054-02ad-43f5-8898-2b2b187fee7a",
   "metadata": {},
   "source": [
    "## Logistic Regression Test"
   ]
  },
  {
   "cell_type": "code",
   "execution_count": 24,
   "id": "de5ca832-bec6-442d-962c-f372445c27a9",
   "metadata": {},
   "outputs": [
    {
     "name": "stdout",
     "output_type": "stream",
     "text": [
      "0.1\n"
     ]
    },
    {
     "name": "stderr",
     "output_type": "stream",
     "text": [
      "                                                                                \r"
     ]
    },
    {
     "ename": "IllegalArgumentException",
     "evalue": "requirement failed: Column destinationAirport must be of type numeric but was actually of type string.",
     "output_type": "error",
     "traceback": [
      "\u001b[0;31m---------------------------------------------------------------------------\u001b[0m",
      "\u001b[0;31mIllegalArgumentException\u001b[0m                  Traceback (most recent call last)",
      "File \u001b[0;32m<timed exec>:6\u001b[0m\n",
      "Cell \u001b[0;32mIn[21], line 28\u001b[0m, in \u001b[0;36mspark_time_algorithm\u001b[0;34m(subset_prop, algorithm_name, SEED)\u001b[0m\n\u001b[1;32m     26\u001b[0m \u001b[38;5;28;01mif\u001b[39;00m algorithm_name \u001b[38;5;241m==\u001b[39m \u001b[38;5;124m\"\u001b[39m\u001b[38;5;124mLogReg\u001b[39m\u001b[38;5;124m\"\u001b[39m:\n\u001b[1;32m     27\u001b[0m     logreg \u001b[38;5;241m=\u001b[39m LogisticRegression(featuresCol\u001b[38;5;241m=\u001b[39m\u001b[38;5;124m'\u001b[39m\u001b[38;5;124mfeatures\u001b[39m\u001b[38;5;124m'\u001b[39m, labelCol\u001b[38;5;241m=\u001b[39m\u001b[38;5;124m'\u001b[39m\u001b[38;5;124mdestinationAirport\u001b[39m\u001b[38;5;124m'\u001b[39m, maxIter\u001b[38;5;241m=\u001b[39m\u001b[38;5;241m10\u001b[39m, regParam\u001b[38;5;241m=\u001b[39m\u001b[38;5;241m0.0\u001b[39m, elasticNetParam\u001b[38;5;241m=\u001b[39m\u001b[38;5;241m0.8\u001b[39m)\n\u001b[0;32m---> 28\u001b[0m     logreg_model \u001b[38;5;241m=\u001b[39m \u001b[43mlogreg\u001b[49m\u001b[38;5;241;43m.\u001b[39;49m\u001b[43mfit\u001b[49m\u001b[43m(\u001b[49m\u001b[43mtrain\u001b[49m\u001b[43m)\u001b[49m\n\u001b[1;32m     29\u001b[0m     predictions \u001b[38;5;241m=\u001b[39m logreg_model\u001b[38;5;241m.\u001b[39mtransform(test)\n\u001b[1;32m     30\u001b[0m     evaluator \u001b[38;5;241m=\u001b[39m BinaryClassificationEvaluator(labelCol\u001b[38;5;241m=\u001b[39m\u001b[38;5;124m'\u001b[39m\u001b[38;5;124mdestinationAirport\u001b[39m\u001b[38;5;124m'\u001b[39m)\n",
      "File \u001b[0;32m~/spark-3.3.1-bin-hadoop3/python/pyspark/ml/base.py:205\u001b[0m, in \u001b[0;36mEstimator.fit\u001b[0;34m(self, dataset, params)\u001b[0m\n\u001b[1;32m    203\u001b[0m         \u001b[38;5;28;01mreturn\u001b[39;00m \u001b[38;5;28mself\u001b[39m\u001b[38;5;241m.\u001b[39mcopy(params)\u001b[38;5;241m.\u001b[39m_fit(dataset)\n\u001b[1;32m    204\u001b[0m     \u001b[38;5;28;01melse\u001b[39;00m:\n\u001b[0;32m--> 205\u001b[0m         \u001b[38;5;28;01mreturn\u001b[39;00m \u001b[38;5;28;43mself\u001b[39;49m\u001b[38;5;241;43m.\u001b[39;49m\u001b[43m_fit\u001b[49m\u001b[43m(\u001b[49m\u001b[43mdataset\u001b[49m\u001b[43m)\u001b[49m\n\u001b[1;32m    206\u001b[0m \u001b[38;5;28;01melse\u001b[39;00m:\n\u001b[1;32m    207\u001b[0m     \u001b[38;5;28;01mraise\u001b[39;00m \u001b[38;5;167;01mTypeError\u001b[39;00m(\n\u001b[1;32m    208\u001b[0m         \u001b[38;5;124m\"\u001b[39m\u001b[38;5;124mParams must be either a param map or a list/tuple of param maps, \u001b[39m\u001b[38;5;124m\"\u001b[39m\n\u001b[1;32m    209\u001b[0m         \u001b[38;5;124m\"\u001b[39m\u001b[38;5;124mbut got \u001b[39m\u001b[38;5;132;01m%s\u001b[39;00m\u001b[38;5;124m.\u001b[39m\u001b[38;5;124m\"\u001b[39m \u001b[38;5;241m%\u001b[39m \u001b[38;5;28mtype\u001b[39m(params)\n\u001b[1;32m    210\u001b[0m     )\n",
      "File \u001b[0;32m~/spark-3.3.1-bin-hadoop3/python/pyspark/ml/wrapper.py:383\u001b[0m, in \u001b[0;36mJavaEstimator._fit\u001b[0;34m(self, dataset)\u001b[0m\n\u001b[1;32m    382\u001b[0m \u001b[38;5;28;01mdef\u001b[39;00m \u001b[38;5;21m_fit\u001b[39m(\u001b[38;5;28mself\u001b[39m, dataset: DataFrame) \u001b[38;5;241m-\u001b[39m\u001b[38;5;241m>\u001b[39m JM:\n\u001b[0;32m--> 383\u001b[0m     java_model \u001b[38;5;241m=\u001b[39m \u001b[38;5;28;43mself\u001b[39;49m\u001b[38;5;241;43m.\u001b[39;49m\u001b[43m_fit_java\u001b[49m\u001b[43m(\u001b[49m\u001b[43mdataset\u001b[49m\u001b[43m)\u001b[49m\n\u001b[1;32m    384\u001b[0m     model \u001b[38;5;241m=\u001b[39m \u001b[38;5;28mself\u001b[39m\u001b[38;5;241m.\u001b[39m_create_model(java_model)\n\u001b[1;32m    385\u001b[0m     \u001b[38;5;28;01mreturn\u001b[39;00m \u001b[38;5;28mself\u001b[39m\u001b[38;5;241m.\u001b[39m_copyValues(model)\n",
      "File \u001b[0;32m~/spark-3.3.1-bin-hadoop3/python/pyspark/ml/wrapper.py:380\u001b[0m, in \u001b[0;36mJavaEstimator._fit_java\u001b[0;34m(self, dataset)\u001b[0m\n\u001b[1;32m    377\u001b[0m \u001b[38;5;28;01massert\u001b[39;00m \u001b[38;5;28mself\u001b[39m\u001b[38;5;241m.\u001b[39m_java_obj \u001b[38;5;129;01mis\u001b[39;00m \u001b[38;5;129;01mnot\u001b[39;00m \u001b[38;5;28;01mNone\u001b[39;00m\n\u001b[1;32m    379\u001b[0m \u001b[38;5;28mself\u001b[39m\u001b[38;5;241m.\u001b[39m_transfer_params_to_java()\n\u001b[0;32m--> 380\u001b[0m \u001b[38;5;28;01mreturn\u001b[39;00m \u001b[38;5;28;43mself\u001b[39;49m\u001b[38;5;241;43m.\u001b[39;49m\u001b[43m_java_obj\u001b[49m\u001b[38;5;241;43m.\u001b[39;49m\u001b[43mfit\u001b[49m\u001b[43m(\u001b[49m\u001b[43mdataset\u001b[49m\u001b[38;5;241;43m.\u001b[39;49m\u001b[43m_jdf\u001b[49m\u001b[43m)\u001b[49m\n",
      "File \u001b[0;32m~/spark-3.3.1-bin-hadoop3/python/lib/py4j-0.10.9.5-src.zip/py4j/java_gateway.py:1321\u001b[0m, in \u001b[0;36mJavaMember.__call__\u001b[0;34m(self, *args)\u001b[0m\n\u001b[1;32m   1315\u001b[0m command \u001b[38;5;241m=\u001b[39m proto\u001b[38;5;241m.\u001b[39mCALL_COMMAND_NAME \u001b[38;5;241m+\u001b[39m\\\n\u001b[1;32m   1316\u001b[0m     \u001b[38;5;28mself\u001b[39m\u001b[38;5;241m.\u001b[39mcommand_header \u001b[38;5;241m+\u001b[39m\\\n\u001b[1;32m   1317\u001b[0m     args_command \u001b[38;5;241m+\u001b[39m\\\n\u001b[1;32m   1318\u001b[0m     proto\u001b[38;5;241m.\u001b[39mEND_COMMAND_PART\n\u001b[1;32m   1320\u001b[0m answer \u001b[38;5;241m=\u001b[39m \u001b[38;5;28mself\u001b[39m\u001b[38;5;241m.\u001b[39mgateway_client\u001b[38;5;241m.\u001b[39msend_command(command)\n\u001b[0;32m-> 1321\u001b[0m return_value \u001b[38;5;241m=\u001b[39m \u001b[43mget_return_value\u001b[49m\u001b[43m(\u001b[49m\n\u001b[1;32m   1322\u001b[0m \u001b[43m    \u001b[49m\u001b[43manswer\u001b[49m\u001b[43m,\u001b[49m\u001b[43m \u001b[49m\u001b[38;5;28;43mself\u001b[39;49m\u001b[38;5;241;43m.\u001b[39;49m\u001b[43mgateway_client\u001b[49m\u001b[43m,\u001b[49m\u001b[43m \u001b[49m\u001b[38;5;28;43mself\u001b[39;49m\u001b[38;5;241;43m.\u001b[39;49m\u001b[43mtarget_id\u001b[49m\u001b[43m,\u001b[49m\u001b[43m \u001b[49m\u001b[38;5;28;43mself\u001b[39;49m\u001b[38;5;241;43m.\u001b[39;49m\u001b[43mname\u001b[49m\u001b[43m)\u001b[49m\n\u001b[1;32m   1324\u001b[0m \u001b[38;5;28;01mfor\u001b[39;00m temp_arg \u001b[38;5;129;01min\u001b[39;00m temp_args:\n\u001b[1;32m   1325\u001b[0m     temp_arg\u001b[38;5;241m.\u001b[39m_detach()\n",
      "File \u001b[0;32m~/spark-3.3.1-bin-hadoop3/python/pyspark/sql/utils.py:196\u001b[0m, in \u001b[0;36mcapture_sql_exception.<locals>.deco\u001b[0;34m(*a, **kw)\u001b[0m\n\u001b[1;32m    192\u001b[0m converted \u001b[38;5;241m=\u001b[39m convert_exception(e\u001b[38;5;241m.\u001b[39mjava_exception)\n\u001b[1;32m    193\u001b[0m \u001b[38;5;28;01mif\u001b[39;00m \u001b[38;5;129;01mnot\u001b[39;00m \u001b[38;5;28misinstance\u001b[39m(converted, UnknownException):\n\u001b[1;32m    194\u001b[0m     \u001b[38;5;66;03m# Hide where the exception came from that shows a non-Pythonic\u001b[39;00m\n\u001b[1;32m    195\u001b[0m     \u001b[38;5;66;03m# JVM exception message.\u001b[39;00m\n\u001b[0;32m--> 196\u001b[0m     \u001b[38;5;28;01mraise\u001b[39;00m converted \u001b[38;5;28;01mfrom\u001b[39;00m \u001b[38;5;28;01mNone\u001b[39;00m\n\u001b[1;32m    197\u001b[0m \u001b[38;5;28;01melse\u001b[39;00m:\n\u001b[1;32m    198\u001b[0m     \u001b[38;5;28;01mraise\u001b[39;00m\n",
      "\u001b[0;31mIllegalArgumentException\u001b[0m: requirement failed: Column destinationAirport must be of type numeric but was actually of type string."
     ]
    }
   ],
   "source": [
    "%%time\n",
    "    logreg_times = []\n",
    "    logreg_metrics = []\n",
    "    \n",
    "    for prop in props:\n",
    "        print(prop)\n",
    "        runtime, metric = spark_time_algorithm(prop, algorithm_name=\"LogReg\")\n",
    "        logreg_times.append(runtime)\n",
    "        logreg_metrics.append(metric)\n",
    "       \n",
    "    print(logreg_times)\n",
    "    print(logreg_metrics)"
   ]
  },
  {
   "cell_type": "code",
   "execution_count": null,
   "id": "114efcf8-f330-4e29-a882-2e155709bd29",
   "metadata": {},
   "outputs": [],
   "source": [
    "logreg_frame = pd.DataFrame(list(zip(logreg_times, logreg_metrics)), columns=['Time', 'Metric'], index=props)\n",
    "logreg_frame"
   ]
  },
  {
   "cell_type": "code",
   "execution_count": null,
   "id": "04ef198b-88fc-4b31-9fca-e5672c278254",
   "metadata": {},
   "outputs": [],
   "source": [
    "logreg_frame.Time.sum()/60"
   ]
  },
  {
   "cell_type": "code",
   "execution_count": null,
   "id": "26f9762a-e8fd-4eb9-88c0-621c248bb136",
   "metadata": {},
   "outputs": [],
   "source": [
    "plt.scatter(x=logreg_frame.index, y=logreg_frame['Time'])\n",
    "plt.title('Logistic Regression Dask Run Times for Varying Input Sizes')\n",
    "plt.xlabel('Proportion of Input Size')\n",
    "plt.ylabel('Time (s)')"
   ]
  },
  {
   "cell_type": "code",
   "execution_count": null,
   "id": "e8374ca8-0189-46be-b0e7-f51de0fe33b6",
   "metadata": {},
   "outputs": [],
   "source": [
    "logreg_frame.to_csv('spark_logreg_results.csv', index=True)"
   ]
  },
  {
   "cell_type": "markdown",
   "id": "328a2a10-b16e-45c3-b34f-3ca48c5df23b",
   "metadata": {},
   "source": [
    "## KMeans Test"
   ]
  },
  {
   "cell_type": "code",
   "execution_count": 36,
   "id": "aad2e58c-f7d6-415e-9e63-e829bfaa7720",
   "metadata": {},
   "outputs": [
    {
     "name": "stdout",
     "output_type": "stream",
     "text": [
      "0.1\n"
     ]
    },
    {
     "name": "stderr",
     "output_type": "stream",
     "text": [
      "                                                                                \r"
     ]
    },
    {
     "name": "stdout",
     "output_type": "stream",
     "text": [
      "0.2\n"
     ]
    },
    {
     "name": "stderr",
     "output_type": "stream",
     "text": [
      "                                                                                \r"
     ]
    },
    {
     "name": "stdout",
     "output_type": "stream",
     "text": [
      "0.3\n"
     ]
    },
    {
     "name": "stderr",
     "output_type": "stream",
     "text": [
      "                                                                                \r"
     ]
    },
    {
     "name": "stdout",
     "output_type": "stream",
     "text": [
      "0.4\n"
     ]
    },
    {
     "name": "stderr",
     "output_type": "stream",
     "text": [
      "                                                                                \r"
     ]
    },
    {
     "name": "stdout",
     "output_type": "stream",
     "text": [
      "0.5\n"
     ]
    },
    {
     "name": "stderr",
     "output_type": "stream",
     "text": [
      "                                                                                \r"
     ]
    },
    {
     "name": "stdout",
     "output_type": "stream",
     "text": [
      "0.6\n"
     ]
    },
    {
     "name": "stderr",
     "output_type": "stream",
     "text": [
      "                                                                                \r"
     ]
    },
    {
     "name": "stdout",
     "output_type": "stream",
     "text": [
      "0.7\n"
     ]
    },
    {
     "name": "stderr",
     "output_type": "stream",
     "text": [
      "                                                                                \r"
     ]
    },
    {
     "name": "stdout",
     "output_type": "stream",
     "text": [
      "0.8\n"
     ]
    },
    {
     "name": "stderr",
     "output_type": "stream",
     "text": [
      "                                                                                \r"
     ]
    },
    {
     "name": "stdout",
     "output_type": "stream",
     "text": [
      "0.9\n"
     ]
    },
    {
     "name": "stderr",
     "output_type": "stream",
     "text": [
      "                                                                                \r"
     ]
    },
    {
     "name": "stdout",
     "output_type": "stream",
     "text": [
      "1.0\n"
     ]
    },
    {
     "name": "stderr",
     "output_type": "stream",
     "text": [
      "[Stage 2245:>                                                       (0 + 1) / 1]\r"
     ]
    },
    {
     "name": "stdout",
     "output_type": "stream",
     "text": [
      "[106.52382469177246, 130.2862823009491, 350.3130056858063, 395.32624435424805, 367.7738974094391, 450.0935151576996, 497.5072994232178, 459.1501979827881, 541.8071415424347, 691.8275828361511]\n",
      "[0.4263049050198717, 0.4288969853996377, 0.428504161050077, 0.4280859185758428, 0.42969707573185734, 0.4282496560961219, 0.4272504019663235, 0.42715893845448255, 0.42949565122592587, 0.42970407502847524]\n",
      "CPU times: user 2.43 s, sys: 495 ms, total: 2.93 s\n",
      "Wall time: 1h 9min 55s\n"
     ]
    },
    {
     "name": "stderr",
     "output_type": "stream",
     "text": [
      "                                                                                \r"
     ]
    }
   ],
   "source": [
    "%%time\n",
    "    kmeans_times = []\n",
    "    kmeans_metrics = []\n",
    "    \n",
    "    for prop in props:\n",
    "        print(prop)\n",
    "        runtime, metric = spark_time_algorithm(prop, algorithm_name=\"KMEANS\")\n",
    "        kmeans_times.append(runtime)\n",
    "        kmeans_metrics.append(metric)\n",
    "       \n",
    "    print(kmeans_times)\n",
    "    print(kmeans_metrics)"
   ]
  },
  {
   "cell_type": "code",
   "execution_count": 37,
   "id": "56afb95c-5fa7-4d5d-9eda-f8be31e54d8e",
   "metadata": {},
   "outputs": [
    {
     "data": {
      "text/html": [
       "<div>\n",
       "<style scoped>\n",
       "    .dataframe tbody tr th:only-of-type {\n",
       "        vertical-align: middle;\n",
       "    }\n",
       "\n",
       "    .dataframe tbody tr th {\n",
       "        vertical-align: top;\n",
       "    }\n",
       "\n",
       "    .dataframe thead th {\n",
       "        text-align: right;\n",
       "    }\n",
       "</style>\n",
       "<table border=\"1\" class=\"dataframe\">\n",
       "  <thead>\n",
       "    <tr style=\"text-align: right;\">\n",
       "      <th></th>\n",
       "      <th>Time</th>\n",
       "      <th>Metric</th>\n",
       "    </tr>\n",
       "  </thead>\n",
       "  <tbody>\n",
       "    <tr>\n",
       "      <th>0.1</th>\n",
       "      <td>106.523825</td>\n",
       "      <td>0.426305</td>\n",
       "    </tr>\n",
       "    <tr>\n",
       "      <th>0.2</th>\n",
       "      <td>130.286282</td>\n",
       "      <td>0.428897</td>\n",
       "    </tr>\n",
       "    <tr>\n",
       "      <th>0.3</th>\n",
       "      <td>350.313006</td>\n",
       "      <td>0.428504</td>\n",
       "    </tr>\n",
       "    <tr>\n",
       "      <th>0.4</th>\n",
       "      <td>395.326244</td>\n",
       "      <td>0.428086</td>\n",
       "    </tr>\n",
       "    <tr>\n",
       "      <th>0.5</th>\n",
       "      <td>367.773897</td>\n",
       "      <td>0.429697</td>\n",
       "    </tr>\n",
       "    <tr>\n",
       "      <th>0.6</th>\n",
       "      <td>450.093515</td>\n",
       "      <td>0.428250</td>\n",
       "    </tr>\n",
       "    <tr>\n",
       "      <th>0.7</th>\n",
       "      <td>497.507299</td>\n",
       "      <td>0.427250</td>\n",
       "    </tr>\n",
       "    <tr>\n",
       "      <th>0.8</th>\n",
       "      <td>459.150198</td>\n",
       "      <td>0.427159</td>\n",
       "    </tr>\n",
       "    <tr>\n",
       "      <th>0.9</th>\n",
       "      <td>541.807142</td>\n",
       "      <td>0.429496</td>\n",
       "    </tr>\n",
       "    <tr>\n",
       "      <th>1.0</th>\n",
       "      <td>691.827583</td>\n",
       "      <td>0.429704</td>\n",
       "    </tr>\n",
       "  </tbody>\n",
       "</table>\n",
       "</div>"
      ],
      "text/plain": [
       "           Time    Metric\n",
       "0.1  106.523825  0.426305\n",
       "0.2  130.286282  0.428897\n",
       "0.3  350.313006  0.428504\n",
       "0.4  395.326244  0.428086\n",
       "0.5  367.773897  0.429697\n",
       "0.6  450.093515  0.428250\n",
       "0.7  497.507299  0.427250\n",
       "0.8  459.150198  0.427159\n",
       "0.9  541.807142  0.429496\n",
       "1.0  691.827583  0.429704"
      ]
     },
     "execution_count": 37,
     "metadata": {},
     "output_type": "execute_result"
    }
   ],
   "source": [
    "kmeans_frame = pd.DataFrame(list(zip(kmeans_times, kmeans_metrics)), columns=['Time', 'Metric'], index=props)\n",
    "kmeans_frame"
   ]
  },
  {
   "cell_type": "code",
   "execution_count": 38,
   "id": "92062961-91ec-4c6f-a8d8-0ff69a03c685",
   "metadata": {},
   "outputs": [
    {
     "data": {
      "text/plain": [
       "66.51014985640843"
      ]
     },
     "execution_count": 38,
     "metadata": {},
     "output_type": "execute_result"
    }
   ],
   "source": [
    "kmeans_frame.Time.sum()/60"
   ]
  },
  {
   "cell_type": "code",
   "execution_count": 39,
   "id": "8773f703-539f-4a6e-a943-26d300f38e92",
   "metadata": {},
   "outputs": [
    {
     "data": {
      "text/plain": [
       "Text(0, 0.5, 'Time (s)')"
      ]
     },
     "execution_count": 39,
     "metadata": {},
     "output_type": "execute_result"
    },
    {
     "data": {
      "image/png": "[encoded data removed]",
      "text/plain": [
       "<Figure size 640x480 with 1 Axes>"
      ]
     },
     "metadata": {},
     "output_type": "display_data"
    }
   ],
   "source": [
    "plt.scatter(x=kmeans_frame.index, y=kmeans_frame['Time'])\n",
    "plt.title('KMeans Dask Run Times for Varying Input Sizes')\n",
    "plt.xlabel('Proportion of Input Size')\n",
    "plt.ylabel('Time (s)')"
   ]
  },
  {
   "cell_type": "code",
   "execution_count": 40,
   "id": "2ae84d1e-2170-4c9b-aeaa-a29c35397bb9",
   "metadata": {},
   "outputs": [],
   "source": [
    "kmeans_frame.to_csv('spark_kmeans_new_results.csv', index=True)"
   ]
  },
  {
   "cell_type": "markdown",
   "id": "78b41c10-608b-4b6e-8305-c24dc6da4be5",
   "metadata": {},
   "source": [
    "## Linear Regression Test"
   ]
  },
  {
   "cell_type": "code",
   "execution_count": 33,
   "id": "03d1d46a-6150-4497-8339-57d2525dd37b",
   "metadata": {},
   "outputs": [
    {
     "name": "stdout",
     "output_type": "stream",
     "text": [
      "0.1\n"
     ]
    },
    {
     "name": "stderr",
     "output_type": "stream",
     "text": [
      "[Stage 483:==================================================>     (9 + 1) / 10]\r"
     ]
    },
    {
     "name": "stdout",
     "output_type": "stream",
     "text": [
      "24/04/23 22:33:25 WARN Instrumentation: [404fcc17] regParam is zero, which might cause numerical instability and overfitting.\n"
     ]
    },
    {
     "name": "stderr",
     "output_type": "stream",
     "text": [
      "                                                                                \r"
     ]
    },
    {
     "name": "stdout",
     "output_type": "stream",
     "text": [
      "0.2\n"
     ]
    },
    {
     "name": "stderr",
     "output_type": "stream",
     "text": [
      "[Stage 533:==================================================>     (9 + 1) / 10]\r"
     ]
    },
    {
     "name": "stdout",
     "output_type": "stream",
     "text": [
      "24/04/23 22:35:26 WARN Instrumentation: [a9480e79] regParam is zero, which might cause numerical instability and overfitting.\n"
     ]
    },
    {
     "name": "stderr",
     "output_type": "stream",
     "text": [
      "[Stage 555:>                                                        (0 + 1) / 1]\r"
     ]
    },
    {
     "name": "stdout",
     "output_type": "stream",
     "text": [
      "[102.20496416091919, 106.2846188545227]\n",
      "[0.8172468151195111, 0.8270474053313949]\n",
      "CPU times: user 260 ms, sys: 65.8 ms, total: 325 ms\n",
      "Wall time: 4min 11s\n"
     ]
    },
    {
     "name": "stderr",
     "output_type": "stream",
     "text": [
      "                                                                                \r"
     ]
    }
   ],
   "source": [
    "%%time\n",
    "    linreg_times = []\n",
    "    linreg_metrics = []\n",
    "    \n",
    "    for prop in props:\n",
    "        print(prop)\n",
    "        runtime, metric = spark_time_algorithm(prop, algorithm_name=\"LinReg\")\n",
    "        linreg_times.append(runtime)\n",
    "        linreg_metrics.append(metric)\n",
    "       \n",
    "    print(linreg_times)\n",
    "    print(linreg_metrics)"
   ]
  },
  {
   "cell_type": "code",
   "execution_count": 34,
   "id": "026a4ba8-8916-4933-b1a6-a43869b6a6c2",
   "metadata": {},
   "outputs": [
    {
     "data": {
      "text/html": [
       "<div>\n",
       "<style scoped>\n",
       "    .dataframe tbody tr th:only-of-type {\n",
       "        vertical-align: middle;\n",
       "    }\n",
       "\n",
       "    .dataframe tbody tr th {\n",
       "        vertical-align: top;\n",
       "    }\n",
       "\n",
       "    .dataframe thead th {\n",
       "        text-align: right;\n",
       "    }\n",
       "</style>\n",
       "<table border=\"1\" class=\"dataframe\">\n",
       "  <thead>\n",
       "    <tr style=\"text-align: right;\">\n",
       "      <th></th>\n",
       "      <th>Time</th>\n",
       "      <th>Metric</th>\n",
       "    </tr>\n",
       "  </thead>\n",
       "  <tbody>\n",
       "    <tr>\n",
       "      <th>0.1</th>\n",
       "      <td>102.204964</td>\n",
       "      <td>0.817247</td>\n",
       "    </tr>\n",
       "    <tr>\n",
       "      <th>0.2</th>\n",
       "      <td>106.284619</td>\n",
       "      <td>0.827047</td>\n",
       "    </tr>\n",
       "  </tbody>\n",
       "</table>\n",
       "</div>"
      ],
      "text/plain": [
       "           Time    Metric\n",
       "0.1  102.204964  0.817247\n",
       "0.2  106.284619  0.827047"
      ]
     },
     "execution_count": 34,
     "metadata": {},
     "output_type": "execute_result"
    }
   ],
   "source": [
    "linreg_frame = pd.DataFrame(list(zip(linreg_times, linreg_metrics)), columns=['Time', 'Metric'], index=props)\n",
    "linreg_frame"
   ]
  },
  {
   "cell_type": "code",
   "execution_count": null,
   "id": "2ca73d64-575e-489f-97c6-adf78754c401",
   "metadata": {},
   "outputs": [],
   "source": [
    "linreg_frame.Time.sum()/60"
   ]
  },
  {
   "cell_type": "code",
   "execution_count": 55,
   "id": "891af80d-2802-4f9e-be55-663210b53d92",
   "metadata": {},
   "outputs": [
    {
     "data": {
      "text/plain": [
       "Text(0, 0.5, 'Time (s)')"
      ]
     },
     "execution_count": 55,
     "metadata": {},
     "output_type": "execute_result"
    },
    {
     "data": {
      "image/png": "[encoded data removed]",
      "text/plain": [
       "<Figure size 640x480 with 1 Axes>"
      ]
     },
     "metadata": {},
     "output_type": "display_data"
    }
   ],
   "source": [
    "plt.scatter(x=linreg_frame.index, y=linreg_frame['Time'])\n",
    "plt.title('Linear Regression Dask Run Times for Varying Input Sizes')\n",
    "plt.xlabel('Proportion of Input Size')\n",
    "plt.ylabel('Time (s)')"
   ]
  },
  {
   "cell_type": "code",
   "execution_count": 56,
   "id": "61cdce5d-5be4-4899-bb5a-67c8e047f2fa",
   "metadata": {},
   "outputs": [],
   "source": [
    "linreg_frame.to_csv('spark_linreg_results.csv', index=True)"
   ]
  }
 ],
 "metadata": {
  "kernelspec": {
   "display_name": "Python 3 (ipykernel)",
   "language": "python",
   "name": "python3"
  },
  "language_info": {
   "codemirror_mode": {
    "name": "ipython",
    "version": 3
   },
   "file_extension": ".py",
   "mimetype": "text/x-python",
   "name": "python",
   "nbconvert_exporter": "python",
   "pygments_lexer": "ipython3",
   "version": "3.10.12"
  }
 },
 "nbformat": 4,
 "nbformat_minor": 5
}
