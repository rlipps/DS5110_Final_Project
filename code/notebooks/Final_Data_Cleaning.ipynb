{
 "cells": [
  {
   "cell_type": "markdown",
   "id": "bb7d163e-309b-4607-ae1d-e309a5029e76",
   "metadata": {},
   "source": [
    "# Final Data Cleaning\n",
    "It takes a long time to process the data locally, so any final adjustments to the data we will make using Dask here\n",
    "\n",
    "## Operations\n",
    "* Create `dateDelta` column"
   ]
  },
  {
   "cell_type": "code",
   "execution_count": 1,
   "id": "43267e51-2849-490b-a211-1a87e8b611d0",
   "metadata": {},
   "outputs": [],
   "source": [
    "import numpy as np\n",
    "import pandas as pd"
   ]
  },
  {
   "cell_type": "code",
   "execution_count": null,
   "id": "75810912-7334-4aea-b174-44e2cf885fbb",
   "metadata": {},
   "outputs": [],
   "source": [
    "data = pd.read_csv('/home/ubuntu/data/cleaned_data_new.csv')"
   ]
  },
  {
   "cell_type": "code",
   "execution_count": null,
   "id": "74e25de1-f3b5-407d-98f7-4544d33f5b7a",
   "metadata": {},
   "outputs": [],
   "source": [
    "data.head()"
   ]
  },
  {
   "cell_type": "markdown",
   "id": "5865b530-e43e-419f-93cd-85b1cf35a9cb",
   "metadata": {},
   "source": [
    "## End Operations"
   ]
  },
  {
   "cell_type": "markdown",
   "id": "0e7b3e34-1c46-4d58-b381-e26a588acb46",
   "metadata": {},
   "source": [
    "## Save to csv"
   ]
  }
 ],
 "metadata": {
  "kernelspec": {
   "display_name": "Python 3 (ipykernel)",
   "language": "python",
   "name": "python3"
  },
  "language_info": {
   "codemirror_mode": {
    "name": "ipython",
    "version": 3
   },
   "file_extension": ".py",
   "mimetype": "text/x-python",
   "name": "python",
   "nbconvert_exporter": "python",
   "pygments_lexer": "ipython3",
   "version": "3.10.12"
  }
 },
 "nbformat": 4,
 "nbformat_minor": 5
}
