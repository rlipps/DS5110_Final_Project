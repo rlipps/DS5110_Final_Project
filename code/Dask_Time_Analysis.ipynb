{
 "cells": [
  {
   "cell_type": "markdown",
   "id": "2414e8cb-aa63-4860-8534-b3c4b33ab968",
   "metadata": {},
   "source": [
    "# Analysis of Times for Dask Implementation"
   ]
  },
  {
   "cell_type": "markdown",
   "id": "065d4997-1163-4102-a135-8a12331288c7",
   "metadata": {},
   "source": [
    "## Notes\n",
    "Ran each model (excluding SVM) for different dataset sizes\n",
    "\n",
    "Full dataset consistently crashed kernel in cell that splits into training, testing, and various model input formats\n",
    "\n",
    "* Small data: full data sampled to 0.1\n",
    "* Medium data: full data sampled to 0.5\n",
    "* Large data: full data sampled to 0.7\n",
    "\n",
    "Used `%%timeit` to see stats for models for varying inputs, each model runs 7 times"
   ]
  },
  {
   "cell_type": "code",
   "execution_count": 25,
   "id": "c7ac13c3-a6cd-47e1-b8b2-f4d3bd86f1c1",
   "metadata": {},
   "outputs": [],
   "source": [
    "import numpy as np\n",
    "import pandas as pd\n",
    "import matplotlib.pyplot as plt"
   ]
  },
  {
   "cell_type": "code",
   "execution_count": 5,
   "id": "da119938-10b3-458d-a11d-3b567406531b",
   "metadata": {},
   "outputs": [],
   "source": [
    "# Times in Seconds\n",
    "# 0.1 of full data\n",
    "smallest = {\n",
    "    'KNN':{'mean':16.0, 'stdev':0.341},\n",
    "    'K-Means':{'mean':2.22, 'stdev':0.141},\n",
    "    'RF':{'mean':50.2, 'stdev':0.884}\n",
    "        }"
   ]
  },
  {
   "cell_type": "code",
   "execution_count": 6,
   "id": "ea06379d-a03a-4dc9-9e78-1adf9c4d569e",
   "metadata": {},
   "outputs": [],
   "source": [
    "# 0.5 of full data\n",
    "medium = {\n",
    "    'KNN':{'mean':106.0, 'stdev':2.05},\n",
    "    'K-Means':{'mean':10.3, 'stdev':0.213},\n",
    "    'RF':{'mean':261.0, 'stdev':3.08}\n",
    "        }"
   ]
  },
  {
   "cell_type": "code",
   "execution_count": 7,
   "id": "7e6594f7-9bc1-4f8e-90bd-74f59383f3ac",
   "metadata": {},
   "outputs": [],
   "source": [
    "# 0.7 of full data\n",
    "large = {\n",
    "    'KNN':{'mean':157.0, 'stdev':1.28},\n",
    "    'K-Means':{'mean':12.4, 'stdev':0.156},\n",
    "    'RF':{'mean':np.NaN, 'stdev':np.NaN}\n",
    "        }"
   ]
  },
  {
   "cell_type": "code",
   "execution_count": 19,
   "id": "6fd50aad-8e0a-495e-84f6-71256beedbd5",
   "metadata": {},
   "outputs": [],
   "source": [
    "knn = {'proportion':[0.1, 0.2, 0.3, 0.5, 0.7],\n",
    "       'mean':[16, 35.4, 57.7, 106.0, 157.0],\n",
    "       'stdev':[0.341, 0.520, 1.38, 2.05, 1.28]}"
   ]
  },
  {
   "cell_type": "code",
   "execution_count": 44,
   "id": "9102d7f5-9392-4c0a-914c-fefffb7ddf57",
   "metadata": {},
   "outputs": [],
   "source": [
    "kmeans = {'proportion':[0.1, 0.2, 0.3, 0.5, 0.7],\n",
    "       'mean':[2.22, 2.9, 5.07, 10.3, 12.4],\n",
    "       'stdev':[0.141, 0.249, 0.341, 0.213, 0.156]}"
   ]
  },
  {
   "cell_type": "code",
   "execution_count": 45,
   "id": "5d3ea2a2-5851-46aa-9889-bf675f281565",
   "metadata": {},
   "outputs": [],
   "source": [
    "rf = {'proportion':[0.1, 0.2, 0.3, 0.5, 0.7],\n",
    "       'mean':[50.2, 99.0, 154, 261.0, np.NaN],\n",
    "       'stdev':[0.884, 1.21, 2.09, 3.08, np.NaN]}"
   ]
  },
  {
   "cell_type": "code",
   "execution_count": 20,
   "id": "c5ad6604-ede3-4a8b-ad52-9ae50ba8ab2d",
   "metadata": {},
   "outputs": [
    {
     "data": {
      "text/html": [
       "<div>\n",
       "<style scoped>\n",
       "    .dataframe tbody tr th:only-of-type {\n",
       "        vertical-align: middle;\n",
       "    }\n",
       "\n",
       "    .dataframe tbody tr th {\n",
       "        vertical-align: top;\n",
       "    }\n",
       "\n",
       "    .dataframe thead th {\n",
       "        text-align: right;\n",
       "    }\n",
       "</style>\n",
       "<table border=\"1\" class=\"dataframe\">\n",
       "  <thead>\n",
       "    <tr style=\"text-align: right;\">\n",
       "      <th></th>\n",
       "      <th>proportion</th>\n",
       "      <th>mean</th>\n",
       "      <th>stdev</th>\n",
       "    </tr>\n",
       "  </thead>\n",
       "  <tbody>\n",
       "    <tr>\n",
       "      <th>0</th>\n",
       "      <td>0.1</td>\n",
       "      <td>16.0</td>\n",
       "      <td>0.341</td>\n",
       "    </tr>\n",
       "    <tr>\n",
       "      <th>1</th>\n",
       "      <td>0.2</td>\n",
       "      <td>35.4</td>\n",
       "      <td>0.520</td>\n",
       "    </tr>\n",
       "    <tr>\n",
       "      <th>2</th>\n",
       "      <td>0.3</td>\n",
       "      <td>57.7</td>\n",
       "      <td>1.380</td>\n",
       "    </tr>\n",
       "    <tr>\n",
       "      <th>3</th>\n",
       "      <td>0.5</td>\n",
       "      <td>106.0</td>\n",
       "      <td>2.050</td>\n",
       "    </tr>\n",
       "    <tr>\n",
       "      <th>4</th>\n",
       "      <td>0.7</td>\n",
       "      <td>157.0</td>\n",
       "      <td>1.280</td>\n",
       "    </tr>\n",
       "  </tbody>\n",
       "</table>\n",
       "</div>"
      ],
      "text/plain": [
       "   proportion   mean  stdev\n",
       "0         0.1   16.0  0.341\n",
       "1         0.2   35.4  0.520\n",
       "2         0.3   57.7  1.380\n",
       "3         0.5  106.0  2.050\n",
       "4         0.7  157.0  1.280"
      ]
     },
     "execution_count": 20,
     "metadata": {},
     "output_type": "execute_result"
    }
   ],
   "source": [
    "knn_frame = pd.DataFrame(knn)\n",
    "knn_frame"
   ]
  },
  {
   "cell_type": "code",
   "execution_count": 42,
   "id": "82d3c3fd-0e35-46ec-b314-b312e4d5f71b",
   "metadata": {},
   "outputs": [
    {
     "data": {
      "image/png": "[encoded data removed]",
      "text/plain": [
       "<Figure size 640x480 with 1 Axes>"
      ]
     },
     "metadata": {},
     "output_type": "display_data"
    }
   ],
   "source": [
    "plt.scatter(x=knn_frame['proportion'], y=knn_frame['mean'])\n",
    "plt.title = ('test')\n",
    "plt.show()"
   ]
  },
  {
   "cell_type": "code",
   "execution_count": 46,
   "id": "1c2d7b61-ef9d-414f-8e05-e1cd4382a064",
   "metadata": {},
   "outputs": [
    {
     "data": {
      "text/html": [
       "<div>\n",
       "<style scoped>\n",
       "    .dataframe tbody tr th:only-of-type {\n",
       "        vertical-align: middle;\n",
       "    }\n",
       "\n",
       "    .dataframe tbody tr th {\n",
       "        vertical-align: top;\n",
       "    }\n",
       "\n",
       "    .dataframe thead th {\n",
       "        text-align: right;\n",
       "    }\n",
       "</style>\n",
       "<table border=\"1\" class=\"dataframe\">\n",
       "  <thead>\n",
       "    <tr style=\"text-align: right;\">\n",
       "      <th></th>\n",
       "      <th>proportion</th>\n",
       "      <th>mean</th>\n",
       "      <th>stdev</th>\n",
       "    </tr>\n",
       "  </thead>\n",
       "  <tbody>\n",
       "    <tr>\n",
       "      <th>0</th>\n",
       "      <td>0.1</td>\n",
       "      <td>2.22</td>\n",
       "      <td>0.141</td>\n",
       "    </tr>\n",
       "    <tr>\n",
       "      <th>1</th>\n",
       "      <td>0.2</td>\n",
       "      <td>2.90</td>\n",
       "      <td>0.249</td>\n",
       "    </tr>\n",
       "    <tr>\n",
       "      <th>2</th>\n",
       "      <td>0.3</td>\n",
       "      <td>5.07</td>\n",
       "      <td>0.341</td>\n",
       "    </tr>\n",
       "    <tr>\n",
       "      <th>3</th>\n",
       "      <td>0.5</td>\n",
       "      <td>10.30</td>\n",
       "      <td>0.213</td>\n",
       "    </tr>\n",
       "    <tr>\n",
       "      <th>4</th>\n",
       "      <td>0.7</td>\n",
       "      <td>12.40</td>\n",
       "      <td>0.156</td>\n",
       "    </tr>\n",
       "  </tbody>\n",
       "</table>\n",
       "</div>"
      ],
      "text/plain": [
       "   proportion   mean  stdev\n",
       "0         0.1   2.22  0.141\n",
       "1         0.2   2.90  0.249\n",
       "2         0.3   5.07  0.341\n",
       "3         0.5  10.30  0.213\n",
       "4         0.7  12.40  0.156"
      ]
     },
     "execution_count": 46,
     "metadata": {},
     "output_type": "execute_result"
    }
   ],
   "source": [
    "kmeans_frame = pd.DataFrame(kmeans)\n",
    "kmeans_frame"
   ]
  },
  {
   "cell_type": "code",
   "execution_count": 48,
   "id": "a08ebe73-6ff8-4fc4-aa8e-64197015dae8",
   "metadata": {},
   "outputs": [
    {
     "data": {
      "image/png": "[encoded data removed]",
      "text/plain": [
       "<Figure size 640x480 with 1 Axes>"
      ]
     },
     "metadata": {},
     "output_type": "display_data"
    }
   ],
   "source": [
    "plt.scatter(x=kmeans_frame['proportion'], y=kmeans_frame['mean'])\n",
    "plt.title = ('test')\n",
    "plt.show()"
   ]
  },
  {
   "cell_type": "code",
   "execution_count": 50,
   "id": "b59ebbfe-b277-4c7a-a572-6b841954a5bd",
   "metadata": {},
   "outputs": [
    {
     "data": {
      "text/html": [
       "<div>\n",
       "<style scoped>\n",
       "    .dataframe tbody tr th:only-of-type {\n",
       "        vertical-align: middle;\n",
       "    }\n",
       "\n",
       "    .dataframe tbody tr th {\n",
       "        vertical-align: top;\n",
       "    }\n",
       "\n",
       "    .dataframe thead th {\n",
       "        text-align: right;\n",
       "    }\n",
       "</style>\n",
       "<table border=\"1\" class=\"dataframe\">\n",
       "  <thead>\n",
       "    <tr style=\"text-align: right;\">\n",
       "      <th></th>\n",
       "      <th>proportion</th>\n",
       "      <th>mean</th>\n",
       "      <th>stdev</th>\n",
       "    </tr>\n",
       "  </thead>\n",
       "  <tbody>\n",
       "    <tr>\n",
       "      <th>0</th>\n",
       "      <td>0.1</td>\n",
       "      <td>50.2</td>\n",
       "      <td>0.884</td>\n",
       "    </tr>\n",
       "    <tr>\n",
       "      <th>1</th>\n",
       "      <td>0.2</td>\n",
       "      <td>99.0</td>\n",
       "      <td>1.210</td>\n",
       "    </tr>\n",
       "    <tr>\n",
       "      <th>2</th>\n",
       "      <td>0.3</td>\n",
       "      <td>154.0</td>\n",
       "      <td>2.090</td>\n",
       "    </tr>\n",
       "    <tr>\n",
       "      <th>3</th>\n",
       "      <td>0.5</td>\n",
       "      <td>261.0</td>\n",
       "      <td>3.080</td>\n",
       "    </tr>\n",
       "    <tr>\n",
       "      <th>4</th>\n",
       "      <td>0.7</td>\n",
       "      <td>NaN</td>\n",
       "      <td>NaN</td>\n",
       "    </tr>\n",
       "  </tbody>\n",
       "</table>\n",
       "</div>"
      ],
      "text/plain": [
       "   proportion   mean  stdev\n",
       "0         0.1   50.2  0.884\n",
       "1         0.2   99.0  1.210\n",
       "2         0.3  154.0  2.090\n",
       "3         0.5  261.0  3.080\n",
       "4         0.7    NaN    NaN"
      ]
     },
     "execution_count": 50,
     "metadata": {},
     "output_type": "execute_result"
    }
   ],
   "source": [
    "rf_frame = pd.DataFrame(rf)\n",
    "rf_frame"
   ]
  },
  {
   "cell_type": "code",
   "execution_count": 51,
   "id": "73443267-1324-4c75-9191-412e775455de",
   "metadata": {},
   "outputs": [
    {
     "data": {
      "image/png": "[encoded data removed]",
      "text/plain": [
       "<Figure size 640x480 with 1 Axes>"
      ]
     },
     "metadata": {},
     "output_type": "display_data"
    }
   ],
   "source": [
    "plt.scatter(x=rf_frame['proportion'], y=rf_frame['mean'])\n",
    "plt.title = ('test')\n",
    "plt.show()"
   ]
  },
  {
   "cell_type": "code",
   "execution_count": null,
   "id": "7bd16d7e-9580-4871-8e99-d91f582f3915",
   "metadata": {},
   "outputs": [],
   "source": []
  }
 ],
 "metadata": {
  "kernelspec": {
   "display_name": "Python 3 (ipykernel)",
   "language": "python",
   "name": "python3"
  },
  "language_info": {
   "codemirror_mode": {
    "name": "ipython",
    "version": 3
   },
   "file_extension": ".py",
   "mimetype": "text/x-python",
   "name": "python",
   "nbconvert_exporter": "python",
   "pygments_lexer": "ipython3",
   "version": "3.10.12"
  }
 },
 "nbformat": 4,
 "nbformat_minor": 5
}
