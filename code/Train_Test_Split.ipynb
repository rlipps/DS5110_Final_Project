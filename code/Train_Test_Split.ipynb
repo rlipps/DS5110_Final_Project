{
 "cells": [
  {
   "cell_type": "code",
   "execution_count": 1,
   "id": "4e0a47c9-ea98-432c-b841-8be0175c0ec8",
   "metadata": {
    "tags": []
   },
   "outputs": [],
   "source": [
    "import pandas as pd"
   ]
  },
  {
   "cell_type": "code",
   "execution_count": 2,
   "id": "622d6f32-c882-4f2f-ae94-afcf0b7d6905",
   "metadata": {
    "tags": []
   },
   "outputs": [],
   "source": [
    "from sklearn.model_selection import train_test_split\n",
    "from sklearn.preprocessing import StandardScaler"
   ]
  },
  {
   "cell_type": "code",
   "execution_count": 3,
   "id": "4ad4ed5e-16ea-477b-90e5-5de70354475f",
   "metadata": {
    "tags": []
   },
   "outputs": [],
   "source": [
    "df = pd.read_csv('cleaned_data_new2.csv', index_col=None).drop('Unnamed: 0', axis=1)"
   ]
  },
  {
   "cell_type": "code",
   "execution_count": 4,
   "id": "1dca869b-04bf-4fde-9535-b46e1a3463ff",
   "metadata": {
    "tags": []
   },
   "outputs": [
    {
     "data": {
      "text/html": [
       "<div>\n",
       "<style scoped>\n",
       "    .dataframe tbody tr th:only-of-type {\n",
       "        vertical-align: middle;\n",
       "    }\n",
       "\n",
       "    .dataframe tbody tr th {\n",
       "        vertical-align: top;\n",
       "    }\n",
       "\n",
       "    .dataframe thead th {\n",
       "        text-align: right;\n",
       "    }\n",
       "</style>\n",
       "<table border=\"1\" class=\"dataframe\">\n",
       "  <thead>\n",
       "    <tr style=\"text-align: right;\">\n",
       "      <th></th>\n",
       "      <th>legId</th>\n",
       "      <th>searchDate</th>\n",
       "      <th>flightDate</th>\n",
       "      <th>destinationAirport</th>\n",
       "      <th>baseFare</th>\n",
       "      <th>seatsRemaining</th>\n",
       "      <th>totalTravelDistance</th>\n",
       "      <th>durationSeconds</th>\n",
       "      <th>dateDelta</th>\n",
       "    </tr>\n",
       "  </thead>\n",
       "  <tbody>\n",
       "    <tr>\n",
       "      <th>0</th>\n",
       "      <td>222cfd6d1b0d5732602a3e82ad7730c3</td>\n",
       "      <td>0</td>\n",
       "      <td>45</td>\n",
       "      <td>BOS</td>\n",
       "      <td>65.48</td>\n",
       "      <td>4</td>\n",
       "      <td>947</td>\n",
       "      <td>17400</td>\n",
       "      <td>45</td>\n",
       "    </tr>\n",
       "  </tbody>\n",
       "</table>\n",
       "</div>"
      ],
      "text/plain": [
       "                              legId  searchDate  flightDate  \\\n",
       "0  222cfd6d1b0d5732602a3e82ad7730c3           0          45   \n",
       "\n",
       "  destinationAirport  baseFare  seatsRemaining  totalTravelDistance  \\\n",
       "0                BOS     65.48               4                  947   \n",
       "\n",
       "   durationSeconds  dateDelta  \n",
       "0            17400         45  "
      ]
     },
     "execution_count": 4,
     "metadata": {},
     "output_type": "execute_result"
    }
   ],
   "source": [
    "df.head(1)"
   ]
  },
  {
   "cell_type": "code",
   "execution_count": 5,
   "id": "11d5e506-fcf1-4f1e-a4ae-b1774d1a1b8f",
   "metadata": {
    "tags": []
   },
   "outputs": [],
   "source": [
    "df = df.sample(20000000)"
   ]
  },
  {
   "cell_type": "code",
   "execution_count": 6,
   "id": "1da79596-e40a-4c6c-bfc4-70d5e51b0df1",
   "metadata": {
    "tags": []
   },
   "outputs": [],
   "source": [
    "X_reg = df[['dateDelta', 'seatsRemaining', 'totalTravelDistance', 'durationSeconds']]\n",
    "y_reg = df[['baseFare']]\n",
    "X_class = df[['dateDelta', 'seatsRemaining', 'totalTravelDistance', 'durationSeconds']]\n",
    "# y_class = df[[]]"
   ]
  },
  {
   "cell_type": "code",
   "execution_count": 7,
   "id": "041f16a2-88b3-4760-8a92-a641fd9d21d3",
   "metadata": {
    "tags": []
   },
   "outputs": [],
   "source": [
    "X_reg = (X_reg - X_reg.mean()) / (X_reg.std())\n",
    "y_reg = (y_reg - y_reg.mean()) / (y_reg.std())\n",
    "X_class = (X_class - X_class.mean()) / (X_class.std())"
   ]
  },
  {
   "cell_type": "code",
   "execution_count": 8,
   "id": "744eb0e0-b962-4efe-88f2-ab9d86f8780f",
   "metadata": {
    "tags": []
   },
   "outputs": [],
   "source": [
    "y_class = pd.DataFrame((y_reg['baseFare'] > 0).astype(int))"
   ]
  },
  {
   "cell_type": "code",
   "execution_count": 9,
   "id": "ccb7dc4e-c00b-4a83-8035-fa35b7339b12",
   "metadata": {
    "tags": []
   },
   "outputs": [],
   "source": [
    "X_reg_train, X_reg_test, y_reg_train, y_reg_test = train_test_split(X_reg, y_reg, train_size=0.8, random_state=5110)"
   ]
  },
  {
   "cell_type": "code",
   "execution_count": 10,
   "id": "24b6d8af-5614-49e9-b85b-bdd8ec4918ac",
   "metadata": {
    "tags": []
   },
   "outputs": [],
   "source": [
    "X_class_train, X_class_test, y_class_train, y_class_test = train_test_split(X_class, y_class, train_size=0.8, random_state=5110)"
   ]
  },
  {
   "cell_type": "code",
   "execution_count": 11,
   "id": "ba919727-125e-4d00-8e41-4e235225abe9",
   "metadata": {
    "tags": []
   },
   "outputs": [],
   "source": [
    "X_reg_train.to_csv('X_reg_train.csv', index=False)\n",
    "X_reg_test.to_csv('X_reg_test.csv', index=False)\n",
    "X_class_train.to_csv('X_class_train.csv', index=False)\n",
    "X_class_test.to_csv('X_class_test.csv', index=False)"
   ]
  },
  {
   "cell_type": "code",
   "execution_count": 12,
   "id": "70d4d314-ed23-4e01-b7f6-dd2ce7ba9e00",
   "metadata": {
    "tags": []
   },
   "outputs": [],
   "source": [
    "y_reg_train.to_csv('y_reg_train.csv', index=False)\n",
    "y_reg_test.to_csv('y_reg_test.csv', index=False)\n",
    "y_class_train.to_csv('y_class_train.csv', index=False)\n",
    "y_class_test.to_csv('y_class_test.csv', index=False)"
   ]
  },
  {
   "cell_type": "code",
   "execution_count": 13,
   "id": "5a994ed8-ff48-4818-b1a3-15520f72fbd9",
   "metadata": {
    "tags": []
   },
   "outputs": [
    {
     "data": {
      "text/plain": [
       "(16000000, 4)"
      ]
     },
     "execution_count": 13,
     "metadata": {},
     "output_type": "execute_result"
    }
   ],
   "source": [
    "X_reg_train.shape"
   ]
  }
 ],
 "metadata": {
  "kernelspec": {
   "display_name": "Python 3 (ipykernel)",
   "language": "python",
   "name": "python3"
  },
  "language_info": {
   "codemirror_mode": {
    "name": "ipython",
    "version": 3
   },
   "file_extension": ".py",
   "mimetype": "text/x-python",
   "name": "python",
   "nbconvert_exporter": "python",
   "pygments_lexer": "ipython3",
   "version": "3.11.4"
  }
 },
 "nbformat": 4,
 "nbformat_minor": 5
}
