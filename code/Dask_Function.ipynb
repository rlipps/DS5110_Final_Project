{
 "cells": [
  {
   "cell_type": "markdown",
   "id": "59eb5699-7769-483a-9dd5-448535ac6bf1",
   "metadata": {},
   "source": [
    "# Dask Implementation"
   ]
  },
  {
   "cell_type": "code",
   "execution_count": 1,
   "id": "5e43b710-17f6-40b9-9202-764ede611e5c",
   "metadata": {},
   "outputs": [],
   "source": [
    "import numpy as np\n",
    "import dask\n",
    "import dask.dataframe as dd\n",
    "from dask.distributed import Client\n",
    "import joblib\n",
    "from sklearn.neighbors import KNeighborsRegressor\n",
    "from sklearn.model_selection import train_test_split\n",
    "from sklearn.cluster import KMeans\n",
    "from sklearn.ensemble import RandomForestRegressor\n",
    "from sklearn.metrics import mean_squared_error\n",
    "from sklearn.svm import LinearSVC\n",
    "import time\n",
    "\n",
    "SEED = 42"
   ]
  },
  {
   "cell_type": "code",
   "execution_count": 2,
   "id": "0e286cb2-9979-445d-a8ce-2082de004281",
   "metadata": {},
   "outputs": [
    {
     "name": "stdout",
     "output_type": "stream",
     "text": [
      "<Client: 'tcp://172.31.88.97:8786' processes=0 threads=0, memory=0 B>\n"
     ]
    }
   ],
   "source": [
    "client = Client('172.31.88.97:8786')\n",
    "client = client.restart()\n",
    "print(client)"
   ]
  },
  {
   "cell_type": "markdown",
   "id": "1082cc72-6688-4eeb-80e0-6a6f5fbbe60d",
   "metadata": {},
   "source": [
    "## Read data"
   ]
  },
  {
   "cell_type": "code",
   "execution_count": 3,
   "id": "dd5119c8-4a09-440d-b363-5e2a25da73d1",
   "metadata": {},
   "outputs": [],
   "source": [
    "full_data = dd.read_csv('/home/ubuntu/data/cleaned_data.csv', sample=2**30, assume_missing=False)"
   ]
  },
  {
   "cell_type": "code",
   "execution_count": 7,
   "id": "83e5e989-5864-4a9f-9660-debfa6250543",
   "metadata": {},
   "outputs": [
    {
     "name": "stdout",
     "output_type": "stream",
     "text": [
      "39435236\n"
     ]
    }
   ],
   "source": [
    "print(len(full_data.index))"
   ]
  },
  {
   "cell_type": "code",
   "execution_count": 8,
   "id": "a1059458-9670-46c5-bb0b-cfec93d44f3a",
   "metadata": {},
   "outputs": [
    {
     "data": {
      "text/html": [
       "<div>\n",
       "<style scoped>\n",
       "    .dataframe tbody tr th:only-of-type {\n",
       "        vertical-align: middle;\n",
       "    }\n",
       "\n",
       "    .dataframe tbody tr th {\n",
       "        vertical-align: top;\n",
       "    }\n",
       "\n",
       "    .dataframe thead th {\n",
       "        text-align: right;\n",
       "    }\n",
       "</style>\n",
       "<table border=\"1\" class=\"dataframe\">\n",
       "  <thead>\n",
       "    <tr style=\"text-align: right;\">\n",
       "      <th></th>\n",
       "      <th>legId</th>\n",
       "      <th>searchDate</th>\n",
       "      <th>flightDate</th>\n",
       "      <th>destinationAirport</th>\n",
       "      <th>baseFare</th>\n",
       "      <th>seatsRemaining</th>\n",
       "      <th>totalTravelDistance</th>\n",
       "      <th>durationSeconds</th>\n",
       "      <th>dateDelta</th>\n",
       "    </tr>\n",
       "  </thead>\n",
       "  <tbody>\n",
       "    <tr>\n",
       "      <th>0</th>\n",
       "      <td>222cfd6d1b0d5732602a3e82ad7730c3</td>\n",
       "      <td>0</td>\n",
       "      <td>45</td>\n",
       "      <td>BOS</td>\n",
       "      <td>65.48</td>\n",
       "      <td>4</td>\n",
       "      <td>947</td>\n",
       "      <td>17400</td>\n",
       "      <td>45</td>\n",
       "    </tr>\n",
       "    <tr>\n",
       "      <th>1</th>\n",
       "      <td>71cf5163f5efbd007c87aeef85e0c2cc</td>\n",
       "      <td>0</td>\n",
       "      <td>45</td>\n",
       "      <td>BOS</td>\n",
       "      <td>161.86</td>\n",
       "      <td>9</td>\n",
       "      <td>947</td>\n",
       "      <td>9420</td>\n",
       "      <td>45</td>\n",
       "    </tr>\n",
       "    <tr>\n",
       "      <th>2</th>\n",
       "      <td>141ef83862caac6be402158433b55c1f</td>\n",
       "      <td>0</td>\n",
       "      <td>45</td>\n",
       "      <td>BOS</td>\n",
       "      <td>161.86</td>\n",
       "      <td>2</td>\n",
       "      <td>947</td>\n",
       "      <td>9660</td>\n",
       "      <td>45</td>\n",
       "    </tr>\n",
       "    <tr>\n",
       "      <th>3</th>\n",
       "      <td>5921ef14d28a822fc25eb9d7879134a9</td>\n",
       "      <td>0</td>\n",
       "      <td>45</td>\n",
       "      <td>BOS</td>\n",
       "      <td>158.14</td>\n",
       "      <td>3</td>\n",
       "      <td>956</td>\n",
       "      <td>21780</td>\n",
       "      <td>45</td>\n",
       "    </tr>\n",
       "    <tr>\n",
       "      <th>4</th>\n",
       "      <td>3ce43c14cd65f1d4303a4b90093f328c</td>\n",
       "      <td>0</td>\n",
       "      <td>45</td>\n",
       "      <td>BOS</td>\n",
       "      <td>151.63</td>\n",
       "      <td>9</td>\n",
       "      <td>947</td>\n",
       "      <td>29580</td>\n",
       "      <td>45</td>\n",
       "    </tr>\n",
       "  </tbody>\n",
       "</table>\n",
       "</div>"
      ],
      "text/plain": [
       "                              legId  searchDate  flightDate  \\\n",
       "0  222cfd6d1b0d5732602a3e82ad7730c3           0          45   \n",
       "1  71cf5163f5efbd007c87aeef85e0c2cc           0          45   \n",
       "2  141ef83862caac6be402158433b55c1f           0          45   \n",
       "3  5921ef14d28a822fc25eb9d7879134a9           0          45   \n",
       "4  3ce43c14cd65f1d4303a4b90093f328c           0          45   \n",
       "\n",
       "  destinationAirport  baseFare  seatsRemaining  totalTravelDistance  \\\n",
       "0                BOS     65.48               4                  947   \n",
       "1                BOS    161.86               9                  947   \n",
       "2                BOS    161.86               2                  947   \n",
       "3                BOS    158.14               3                  956   \n",
       "4                BOS    151.63               9                  947   \n",
       "\n",
       "   durationSeconds  dateDelta  \n",
       "0            17400         45  \n",
       "1             9420         45  \n",
       "2             9660         45  \n",
       "3            21780         45  \n",
       "4            29580         45  "
      ]
     },
     "execution_count": 8,
     "metadata": {},
     "output_type": "execute_result"
    }
   ],
   "source": [
    "full_data.head(5)"
   ]
  },
  {
   "cell_type": "code",
   "execution_count": null,
   "id": "8258fb55-1871-4371-8713-6694a3fcfc4c",
   "metadata": {},
   "outputs": [],
   "source": [
    "X_reg_train = pd.read_csv(\"\")\n",
    "X_reg_test = pd.read_csv(\"\")\n",
    "X_class_train = pd.read_csv(\"\")\n",
    "X_class_test = pd.read_csv(\"\")\n",
    "\n",
    "y_reg_train = pd.read_csv(\"\")\n",
    "y_reg_test = pd.read_csv(\"\")\n",
    "y_class_train = pd.read_csv(\"\")\n",
    "y_class_test = pd.read_csv(\"\")"
   ]
  },
  {
   "cell_type": "code",
   "execution_count": 4,
   "id": "bf8b1f00-92be-4971-996b-87058c08aaaf",
   "metadata": {
    "tags": []
   },
   "outputs": [
    {
     "ename": "NameError",
     "evalue": "name 'SEED' is not defined",
     "output_type": "error",
     "traceback": [
      "\u001b[1;31m---------------------------------------------------------------------------\u001b[0m",
      "\u001b[1;31mNameError\u001b[0m                                 Traceback (most recent call last)",
      "Cell \u001b[1;32mIn[4], line 1\u001b[0m\n\u001b[1;32m----> 1\u001b[0m \u001b[38;5;28;01mdef\u001b[39;00m \u001b[38;5;21mdask_time_algorithm\u001b[39m(subset_prop, algorithm_name, SEED\u001b[38;5;241m=\u001b[39mSEED): \u001b[38;5;66;03m#algorithm_name one of 'KNN', 'RF', 'KMEANS'\u001b[39;00m\n\u001b[0;32m      2\u001b[0m     \u001b[38;5;28;01mif\u001b[39;00m algorithm_name\u001b[38;5;241m.\u001b[39misin([\u001b[38;5;124m\"\u001b[39m\u001b[38;5;124mKNN\u001b[39m\u001b[38;5;124m\"\u001b[39m, \u001b[38;5;124m\"\u001b[39m\u001b[38;5;124mRF\u001b[39m\u001b[38;5;124m\"\u001b[39m]):\n\u001b[0;32m      3\u001b[0m         X_reg_train_subset \u001b[38;5;241m=\u001b[39m X_reg_train\u001b[38;5;241m.\u001b[39mhead(\u001b[38;5;28mint\u001b[39m(\u001b[38;5;28mlen\u001b[39m(X_reg_train) \u001b[38;5;241m*\u001b[39m subset_prop))\n",
      "\u001b[1;31mNameError\u001b[0m: name 'SEED' is not defined"
     ]
    }
   ],
   "source": [
    "def dask_time_algorithm(subset_prop, algorithm_name, SEED=SEED): #algorithm_name one of 'KNN', 'RF', 'KMEANS'\n",
    "    if algorithm_name.isin([\"KNN\", \"RF\"]):\n",
    "        X_reg_train_subset = X_reg_train.head(int(len(X_reg_train) * subset_prop))\n",
    "        X_reg_test_subset = X_reg_test.head(int(len(X_reg_test) * subset_prop))\n",
    "        y_reg_train_subset = X_reg_test.head(int(len(X_reg_test) * subset_prop))\n",
    "        y_reg_test_subset = X_reg_test.head(int(len(X_reg_test) * subset_prop))\n",
    "        \n",
    "    elif algorithm_name.isin([\"KMEANS\"]):\n",
    "        X_class_train_subset = X_class_train.head(int(len(X_class_train) * subset_prop))\n",
    "        X_class_test_subset = X_class_test.head(int(len(X_class_test) * subset_prop))\n",
    "        y_class_train_subset = X_class_test.head(int(len(X_class_test) * subset_prop))\n",
    "        y_class_test_subset = X_class_test.head(int(len(X_class_test) * subset_prop))\n",
    "        \n",
    "    start_time = time.time()\n",
    "        \n",
    "    if algorithm_name == \"KNN\":\n",
    "        with joblib.parallel_backend('dask'):\n",
    "            knn_model = KNeighborsRegressor(n_neighbors=5)\n",
    "            knn_model.fit(X_reg_train_subset, y_reg_train_subset)\n",
    "            metric = knn_model.score(X_reg_test_subset, y_reg_test_subset) # metric is KNN accuracy\n",
    "                        \n",
    "    elif algorithm_name == \"KMEANS\":\n",
    "        with joblib.parallel_backend('dask'):\n",
    "            kmeans_model = KMeans(n_clusters=2, random_state=SEED, n_init=\"auto\")\n",
    "            kmeans_model.fit(X_reg_train_subset)\n",
    "            metric = None # No performance metric for KMEANS (unsupervised)\n",
    "            \n",
    "    elif algorithm_name == \"RF\":\n",
    "        with joblib.parallel_backend('dask'):\n",
    "            rf_model = RandomForestRegressor(max_depth=2, random_state=SEED)\n",
    "            rf_model.fit(X_reg_train_subset, y_reg_train_subset)\n",
    "            y_pred = rf_model.predict(X_test_reg_subset)\n",
    "            metric = mean_squared_error(y_test_reg_subset, y_pred) # metric is random forest MSE\n",
    "            \n",
    "    end_time = time.time()\n",
    "    time_delta = end_time - start_time\n",
    "    return time_delta, metric"
   ]
  },
  {
   "cell_type": "code",
   "execution_count": null,
   "id": "5cb31814-44dc-4532-bf48-0652a276e0fb",
   "metadata": {},
   "outputs": [],
   "source": [
    "# Example implementation for KNN\n",
    "\n",
    "props = [.1, .3, .5, .7, 1]\n",
    "times = []\n",
    "metrics = []\n",
    "\n",
    "for prop in props:\n",
    "    time, metric = dask_time_algorithm(prop, \"KNN\")\n",
    "    times.append(time)\n",
    "    metrics.append(metric)\n",
    "    \n",
    "print(times)\n",
    "print(metrics)"
   ]
  }
 ],
 "metadata": {
  "kernelspec": {
   "display_name": "Python 3 (ipykernel)",
   "language": "python",
   "name": "python3"
  },
  "language_info": {
   "codemirror_mode": {
    "name": "ipython",
    "version": 3
   },
   "file_extension": ".py",
   "mimetype": "text/x-python",
   "name": "python",
   "nbconvert_exporter": "python",
   "pygments_lexer": "ipython3",
   "version": "3.11.4"
  }
 },
 "nbformat": 4,
 "nbformat_minor": 5
}
